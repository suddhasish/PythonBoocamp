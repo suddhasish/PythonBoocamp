{
 "cells": [
  {
   "cell_type": "markdown",
   "metadata": {},
   "source": [
    "# For loop"
   ]
  },
  {
   "cell_type": "code",
   "execution_count": 1,
   "metadata": {},
   "outputs": [
    {
     "name": "stdout",
     "output_type": "stream",
     "text": [
      "0\n",
      "1\n",
      "2\n",
      "3\n",
      "4\n",
      "5\n"
     ]
    }
   ],
   "source": [
    "for i in range(0,6):\n",
    "    print(i)"
   ]
  },
  {
   "cell_type": "code",
   "execution_count": 3,
   "metadata": {},
   "outputs": [
    {
     "name": "stdout",
     "output_type": "stream",
     "text": [
      "round0\n",
      "round1\n",
      "round2\n",
      "round3\n",
      "round4\n",
      "round5\n"
     ]
    }
   ],
   "source": [
    "for i in range(0,6):\n",
    "    print(\"round\" + str(i))"
   ]
  },
  {
   "cell_type": "code",
   "execution_count": 4,
   "metadata": {},
   "outputs": [
    {
     "name": "stdout",
     "output_type": "stream",
     "text": [
      "0\n",
      "1\n",
      "2\n",
      "3\n",
      "4\n"
     ]
    }
   ],
   "source": [
    "for x in range(5):\n",
    "    print(x)"
   ]
  },
  {
   "cell_type": "code",
   "execution_count": 6,
   "metadata": {},
   "outputs": [
    {
     "name": "stdout",
     "output_type": "stream",
     "text": [
      "round0 round1 round2 round3 round4 round5 "
     ]
    }
   ],
   "source": [
    "for i in range(0,6):\n",
    "    print(\"round\" + str(i),end = ' ')"
   ]
  },
  {
   "cell_type": "code",
   "execution_count": 7,
   "metadata": {},
   "outputs": [
    {
     "name": "stdout",
     "output_type": "stream",
     "text": [
      "0\n",
      "1\n",
      "4\n",
      "9\n",
      "16\n"
     ]
    }
   ],
   "source": [
    "for x in range(5):\n",
    "    print(x*x)"
   ]
  },
  {
   "cell_type": "code",
   "execution_count": 8,
   "metadata": {},
   "outputs": [
    {
     "name": "stdout",
     "output_type": "stream",
     "text": [
      "a\n",
      "v\n",
      "e\n",
      "n\n",
      "g\n",
      "e\n",
      "r\n",
      "s\n"
     ]
    }
   ],
   "source": [
    "# strings\n",
    "for k in \"avengers\":\n",
    "    print(k)"
   ]
  },
  {
   "cell_type": "code",
   "execution_count": 9,
   "metadata": {},
   "outputs": [],
   "source": [
    "# combining if else within for loop"
   ]
  },
  {
   "cell_type": "code",
   "execution_count": 10,
   "metadata": {},
   "outputs": [
    {
     "name": "stdout",
     "output_type": "stream",
     "text": [
      "i am searching ..............\n",
      "i am searching ..............\n",
      "i am searching ..............\n",
      "i am searching ..............\n",
      "i am searching ..............\n",
      "Number found, condition matched !!!!! \n",
      "i am searching ..............\n",
      "i am searching ..............\n",
      "i am searching ..............\n",
      "i am searching ..............\n"
     ]
    }
   ],
   "source": [
    "for i in range(0,10):\n",
    "    if i==5:\n",
    "        print(\"Number found, condition matched !!!!! \")\n",
    "    else:\n",
    "        print(\"i am searching ..............\")"
   ]
  },
  {
   "cell_type": "code",
   "execution_count": 11,
   "metadata": {},
   "outputs": [
    {
     "name": "stdout",
     "output_type": "stream",
     "text": [
      "round0\n",
      "round2\n",
      "round4\n"
     ]
    }
   ],
   "source": [
    "for i in range(0,6,2):\n",
    "    print(\"round\" + str(i))"
   ]
  },
  {
   "cell_type": "code",
   "execution_count": 12,
   "metadata": {},
   "outputs": [
    {
     "name": "stdout",
     "output_type": "stream",
     "text": [
      "round0\n",
      "round3\n"
     ]
    }
   ],
   "source": [
    "for i in range(0,6,3):\n",
    "    print(\"round\" + str(i))"
   ]
  },
  {
   "cell_type": "markdown",
   "metadata": {},
   "source": [
    "# while loop"
   ]
  },
  {
   "cell_type": "code",
   "execution_count": 16,
   "metadata": {},
   "outputs": [
    {
     "name": "stdout",
     "output_type": "stream",
     "text": [
      "condition not met i am continuing :  1\n",
      "condition not met i am continuing :  2\n",
      "condition not met i am continuing :  3\n",
      "condition not met i am continuing :  4\n",
      "condition not met i am continuing :  5\n",
      "condition matched , while loop stopped\n"
     ]
    }
   ],
   "source": [
    "meter = 1\n",
    "while meter<=5:\n",
    "    print(\"condition not met i am continuing : \", meter)\n",
    "    meter = meter + 1\n",
    "    \n",
    "print(\"condition matched , while loop stopped\")"
   ]
  },
  {
   "cell_type": "code",
   "execution_count": 17,
   "metadata": {},
   "outputs": [],
   "source": [
    "# controlling measures \n",
    "\n",
    "# BREAK, CONTINUE, PASS"
   ]
  },
  {
   "cell_type": "code",
   "execution_count": 20,
   "metadata": {},
   "outputs": [
    {
     "name": "stdout",
     "output_type": "stream",
     "text": [
      "condition not matched ....... 0\n",
      "condition not matched ....... 1\n",
      "condition not matched ....... 2\n",
      "condition not matched ....... 3\n",
      "condition not matched ....... 4\n",
      "condition matched i am gonna stop everything now !!!\n"
     ]
    }
   ],
   "source": [
    "\n",
    "# BREAK : if condition satisfied then it will take out whole control out of execution\n",
    "for i in range (0,11):\n",
    "    if i==5:\n",
    "        print(\"condition matched i am gonna stop everything now !!!\")\n",
    "        break\n",
    "    print(\"condition not matched .......\", i)"
   ]
  },
  {
   "cell_type": "code",
   "execution_count": 21,
   "metadata": {},
   "outputs": [
    {
     "name": "stdout",
     "output_type": "stream",
     "text": [
      "condition not matched ....... 0\n",
      "condition not matched ....... 1\n",
      "condition not matched ....... 2\n",
      "condition not matched ....... 3\n",
      "condition not matched ....... 4\n",
      "condition matched i am gonna skip this number XXXXX \n",
      "condition not matched ....... 6\n",
      "condition not matched ....... 7\n",
      "condition not matched ....... 8\n",
      "condition not matched ....... 9\n",
      "condition not matched ....... 10\n"
     ]
    }
   ],
   "source": [
    "# continue : when condition matched, it skipped that element and continues for rest\n",
    "for i in range (0,11):\n",
    "    if i==5:\n",
    "        print(\"condition matched i am gonna skip this number XXXXX \")\n",
    "        continue\n",
    "    print(\"condition not matched .......\", i)"
   ]
  },
  {
   "cell_type": "code",
   "execution_count": null,
   "metadata": {},
   "outputs": [],
   "source": [
    "# PASS : idle function, it does nothing, its a placeholder"
   ]
  },
  {
   "cell_type": "code",
   "execution_count": 23,
   "metadata": {},
   "outputs": [
    {
     "name": "stdout",
     "output_type": "stream",
     "text": [
      "condition not matched ....... 0\n",
      "condition not matched ....... 1\n",
      "condition not matched ....... 2\n",
      "condition not matched ....... 3\n",
      "condition not matched ....... 4\n",
      "condition not matched ....... 5\n",
      "condition not matched ....... 6\n",
      "condition not matched ....... 7\n",
      "condition not matched ....... 8\n",
      "condition not matched ....... 9\n",
      "condition not matched ....... 10\n"
     ]
    }
   ],
   "source": [
    "for i in range (0,11):\n",
    "    if i==5:\n",
    "        pass\n",
    "    print(\"condition not matched .......\", i)"
   ]
  },
  {
   "cell_type": "code",
   "execution_count": 26,
   "metadata": {},
   "outputs": [
    {
     "name": "stdout",
     "output_type": "stream",
     "text": [
      "condition not matched ....... 0\n",
      "condition not matched ....... 1\n",
      "condition not matched ....... 2\n",
      "condition not matched ....... 3\n",
      "condition not matched ....... 4\n",
      "condition not matched ....... 5\n",
      "condition not matched ....... 6\n",
      "condition not matched ....... 7\n",
      "condition not matched ....... 8\n",
      "condition not matched ....... 9\n",
      "condition not matched ....... 10\n"
     ]
    }
   ],
   "source": [
    "for i in range (0,11):\n",
    "    if i==5:\n",
    "        pass\n",
    "    print(\"condition not matched .......\", i)"
   ]
  },
  {
   "cell_type": "code",
   "execution_count": null,
   "metadata": {},
   "outputs": [],
   "source": []
  },
  {
   "cell_type": "code",
   "execution_count": null,
   "metadata": {},
   "outputs": [],
   "source": []
  },
  {
   "cell_type": "code",
   "execution_count": null,
   "metadata": {},
   "outputs": [],
   "source": []
  },
  {
   "cell_type": "code",
   "execution_count": null,
   "metadata": {},
   "outputs": [],
   "source": []
  }
 ],
 "metadata": {
  "kernelspec": {
   "display_name": "Python 3",
   "language": "python",
   "name": "python3"
  },
  "language_info": {
   "codemirror_mode": {
    "name": "ipython",
    "version": 3
   },
   "file_extension": ".py",
   "mimetype": "text/x-python",
   "name": "python",
   "nbconvert_exporter": "python",
   "pygments_lexer": "ipython3",
   "version": "3.8.3"
  }
 },
 "nbformat": 4,
 "nbformat_minor": 4
}
