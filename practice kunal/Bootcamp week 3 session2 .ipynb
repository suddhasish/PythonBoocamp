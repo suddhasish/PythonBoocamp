{
 "cells": [
  {
   "cell_type": "code",
   "execution_count": null,
   "metadata": {},
   "outputs": [],
   "source": [
    "# lambda expression :--> weight from pounds to kg"
   ]
  },
  {
   "cell_type": "code",
   "execution_count": 1,
   "metadata": {},
   "outputs": [],
   "source": [
    "pound_wt = lambda wt : wt*0.45"
   ]
  },
  {
   "cell_type": "code",
   "execution_count": 2,
   "metadata": {},
   "outputs": [
    {
     "data": {
      "text/plain": [
       "49.5"
      ]
     },
     "execution_count": 2,
     "metadata": {},
     "output_type": "execute_result"
    }
   ],
   "source": [
    "pound_wt(110)"
   ]
  },
  {
   "cell_type": "code",
   "execution_count": null,
   "metadata": {},
   "outputs": [],
   "source": [
    "# \"Rohit sharma\" :--> 'Sharma.R'"
   ]
  },
  {
   "cell_type": "code",
   "execution_count": 3,
   "metadata": {},
   "outputs": [],
   "source": [
    "string = \"Rohit sharma\""
   ]
  },
  {
   "cell_type": "code",
   "execution_count": 4,
   "metadata": {},
   "outputs": [
    {
     "data": {
      "text/plain": [
       "['Rohit', 'sharma']"
      ]
     },
     "execution_count": 4,
     "metadata": {},
     "output_type": "execute_result"
    }
   ],
   "source": [
    "string.split()"
   ]
  },
  {
   "cell_type": "code",
   "execution_count": 9,
   "metadata": {},
   "outputs": [
    {
     "data": {
      "text/plain": [
       "'Sharma'"
      ]
     },
     "execution_count": 9,
     "metadata": {},
     "output_type": "execute_result"
    }
   ],
   "source": [
    "string.split()[1].capitalize()"
   ]
  },
  {
   "cell_type": "code",
   "execution_count": 17,
   "metadata": {},
   "outputs": [
    {
     "data": {
      "text/plain": [
       "'sharma'"
      ]
     },
     "execution_count": 17,
     "metadata": {},
     "output_type": "execute_result"
    }
   ],
   "source": [
    "string.split()[-1]"
   ]
  },
  {
   "cell_type": "code",
   "execution_count": 10,
   "metadata": {},
   "outputs": [
    {
     "data": {
      "text/plain": [
       "'Sharma.R'"
      ]
     },
     "execution_count": 10,
     "metadata": {},
     "output_type": "execute_result"
    }
   ],
   "source": [
    "string.split()[1].capitalize()+'.'+string.split()[0][0]"
   ]
  },
  {
   "cell_type": "code",
   "execution_count": 18,
   "metadata": {},
   "outputs": [],
   "source": [
    "name_format = lambda name:name.split()[-1].capitalize()+'.'+name.split()[0][0]"
   ]
  },
  {
   "cell_type": "code",
   "execution_count": 19,
   "metadata": {},
   "outputs": [
    {
     "data": {
      "text/plain": [
       "'Sharma.R'"
      ]
     },
     "execution_count": 19,
     "metadata": {},
     "output_type": "execute_result"
    }
   ],
   "source": [
    "name_format(string)"
   ]
  },
  {
   "cell_type": "code",
   "execution_count": 20,
   "metadata": {},
   "outputs": [
    {
     "data": {
      "text/plain": [
       "'Kishan.I'"
      ]
     },
     "execution_count": 20,
     "metadata": {},
     "output_type": "execute_result"
    }
   ],
   "source": [
    "name_format('Ishan kishan')"
   ]
  },
  {
   "cell_type": "code",
   "execution_count": 21,
   "metadata": {},
   "outputs": [],
   "source": [
    "cricketers = ['Rohit Sharma','mahendra singh dhoni','suryakurmar yadav','piyush chavla']"
   ]
  },
  {
   "cell_type": "code",
   "execution_count": 22,
   "metadata": {},
   "outputs": [
    {
     "data": {
      "text/plain": [
       "['Sharma.R', 'Dhoni.m', 'Yadav.s', 'Chavla.p']"
      ]
     },
     "execution_count": 22,
     "metadata": {},
     "output_type": "execute_result"
    }
   ],
   "source": [
    "[name_format(name) for name in cricketers]"
   ]
  },
  {
   "cell_type": "code",
   "execution_count": null,
   "metadata": {},
   "outputs": [],
   "source": []
  },
  {
   "cell_type": "markdown",
   "metadata": {},
   "source": [
    "# Map"
   ]
  },
  {
   "cell_type": "code",
   "execution_count": 23,
   "metadata": {},
   "outputs": [],
   "source": [
    "# syntax -- > map(function, data)"
   ]
  },
  {
   "cell_type": "code",
   "execution_count": 24,
   "metadata": {},
   "outputs": [],
   "source": [
    "# data\n",
    "mylist = [1,2,3,4,5]"
   ]
  },
  {
   "cell_type": "code",
   "execution_count": 26,
   "metadata": {},
   "outputs": [],
   "source": [
    "# function\n",
    "sq = lambda k:k*k"
   ]
  },
  {
   "cell_type": "code",
   "execution_count": 27,
   "metadata": {},
   "outputs": [
    {
     "data": {
      "text/plain": [
       "<map at 0x7f893a77de50>"
      ]
     },
     "execution_count": 27,
     "metadata": {},
     "output_type": "execute_result"
    }
   ],
   "source": [
    "# map\n",
    "map(sq,mylist)"
   ]
  },
  {
   "cell_type": "code",
   "execution_count": 28,
   "metadata": {},
   "outputs": [
    {
     "data": {
      "text/plain": [
       "[1, 4, 9, 16, 25]"
      ]
     },
     "execution_count": 28,
     "metadata": {},
     "output_type": "execute_result"
    }
   ],
   "source": [
    "list(map(sq,mylist))"
   ]
  },
  {
   "cell_type": "code",
   "execution_count": 32,
   "metadata": {},
   "outputs": [
    {
     "data": {
      "text/plain": [
       "[1, 8, 27, 64, 125]"
      ]
     },
     "execution_count": 32,
     "metadata": {},
     "output_type": "execute_result"
    }
   ],
   "source": [
    "output= list(map(lambda c: c**3, mylist))\n",
    "output"
   ]
  },
  {
   "cell_type": "code",
   "execution_count": 31,
   "metadata": {},
   "outputs": [
    {
     "data": {
      "text/plain": [
       "[1, 2, 3, 4, 5]"
      ]
     },
     "execution_count": 31,
     "metadata": {},
     "output_type": "execute_result"
    }
   ],
   "source": [
    "mylist"
   ]
  },
  {
   "cell_type": "code",
   "execution_count": 33,
   "metadata": {},
   "outputs": [
    {
     "data": {
      "text/plain": [
       "[1.0, 2.0, 3.0, 4.0, 5.0]"
      ]
     },
     "execution_count": 33,
     "metadata": {},
     "output_type": "execute_result"
    }
   ],
   "source": [
    "list(map(lambda b: float(b), mylist))"
   ]
  },
  {
   "cell_type": "code",
   "execution_count": 34,
   "metadata": {},
   "outputs": [],
   "source": [
    "def iseven(num):\n",
    "    if num%2==0:\n",
    "        return \"EVEN\"\n",
    "    else:\n",
    "        return \"ODD\""
   ]
  },
  {
   "cell_type": "code",
   "execution_count": 35,
   "metadata": {},
   "outputs": [
    {
     "data": {
      "text/plain": [
       "['ODD', 'EVEN', 'ODD', 'EVEN', 'ODD']"
      ]
     },
     "execution_count": 35,
     "metadata": {},
     "output_type": "execute_result"
    }
   ],
   "source": [
    "list(map(iseven, mylist))"
   ]
  },
  {
   "cell_type": "code",
   "execution_count": 36,
   "metadata": {},
   "outputs": [
    {
     "data": {
      "text/plain": [
       "('ODD', 'EVEN', 'ODD', 'EVEN', 'ODD')"
      ]
     },
     "execution_count": 36,
     "metadata": {},
     "output_type": "execute_result"
    }
   ],
   "source": [
    "tuple(map(iseven, mylist))"
   ]
  },
  {
   "cell_type": "code",
   "execution_count": 37,
   "metadata": {},
   "outputs": [
    {
     "data": {
      "text/plain": [
       "{1, 8, 27, 64, 125}"
      ]
     },
     "execution_count": 37,
     "metadata": {},
     "output_type": "execute_result"
    }
   ],
   "source": [
    " set(map(lambda c: c**3, mylist))"
   ]
  },
  {
   "cell_type": "code",
   "execution_count": 38,
   "metadata": {},
   "outputs": [
    {
     "data": {
      "text/plain": [
       "{1: 1, 2: 8, 3: 27, 4: 64, 5: 125}"
      ]
     },
     "execution_count": 38,
     "metadata": {},
     "output_type": "execute_result"
    }
   ],
   "source": [
    "dict(map(lambda c: (c,c**3), mylist))"
   ]
  },
  {
   "cell_type": "code",
   "execution_count": 39,
   "metadata": {},
   "outputs": [],
   "source": [
    "fruits = ['apple','orange','cherry']"
   ]
  },
  {
   "cell_type": "code",
   "execution_count": 40,
   "metadata": {},
   "outputs": [
    {
     "data": {
      "text/plain": [
       "[5, 6, 6]"
      ]
     },
     "execution_count": 40,
     "metadata": {},
     "output_type": "execute_result"
    }
   ],
   "source": [
    "\n",
    "list(map(lambda f:len(f), fruits))"
   ]
  },
  {
   "cell_type": "code",
   "execution_count": 41,
   "metadata": {},
   "outputs": [
    {
     "data": {
      "text/plain": [
       "{'apple': 5, 'orange': 6, 'cherry': 6}"
      ]
     },
     "execution_count": 41,
     "metadata": {},
     "output_type": "execute_result"
    }
   ],
   "source": [
    "dict(map(lambda f:(f,len(f)), fruits))"
   ]
  },
  {
   "cell_type": "markdown",
   "metadata": {},
   "source": [
    "# Filter"
   ]
  },
  {
   "cell_type": "code",
   "execution_count": 43,
   "metadata": {},
   "outputs": [],
   "source": [
    "# syntax :--> filter(function, data)"
   ]
  },
  {
   "cell_type": "code",
   "execution_count": 42,
   "metadata": {},
   "outputs": [],
   "source": [
    "numbers = [1,2,3,4,5,6,7,8,9,10]"
   ]
  },
  {
   "cell_type": "code",
   "execution_count": 46,
   "metadata": {},
   "outputs": [
    {
     "data": {
      "text/plain": [
       "[2, 4, 6, 8, 10]"
      ]
     },
     "execution_count": 46,
     "metadata": {},
     "output_type": "execute_result"
    }
   ],
   "source": [
    "list(filter(lambda num:num%2==0,numbers))"
   ]
  },
  {
   "cell_type": "code",
   "execution_count": 48,
   "metadata": {},
   "outputs": [
    {
     "data": {
      "text/plain": [
       "[False, True, False, True, False, True, False, True, False, True]"
      ]
     },
     "execution_count": 48,
     "metadata": {},
     "output_type": "execute_result"
    }
   ],
   "source": [
    "list(map(lambda num:num%2==0,numbers))"
   ]
  },
  {
   "cell_type": "code",
   "execution_count": 47,
   "metadata": {},
   "outputs": [
    {
     "data": {
      "text/plain": [
       "[8, 9, 10]"
      ]
     },
     "execution_count": 47,
     "metadata": {},
     "output_type": "execute_result"
    }
   ],
   "source": [
    "list(filter(lambda num:num>7,numbers))"
   ]
  },
  {
   "cell_type": "code",
   "execution_count": null,
   "metadata": {},
   "outputs": [],
   "source": []
  },
  {
   "cell_type": "code",
   "execution_count": 54,
   "metadata": {},
   "outputs": [],
   "source": [
    "mixed_data = ['hiii',34,98.6,'True',True,'python',54,100]\n",
    "# extract only integers"
   ]
  },
  {
   "cell_type": "code",
   "execution_count": 55,
   "metadata": {},
   "outputs": [
    {
     "data": {
      "text/plain": [
       "[34, 54, 100]"
      ]
     },
     "execution_count": 55,
     "metadata": {},
     "output_type": "execute_result"
    }
   ],
   "source": [
    "list(filter(lambda x: str(x).isdigit(), mixed_data)) "
   ]
  },
  {
   "cell_type": "code",
   "execution_count": 58,
   "metadata": {},
   "outputs": [
    {
     "data": {
      "text/plain": [
       "[34, 54, 100]"
      ]
     },
     "execution_count": 58,
     "metadata": {},
     "output_type": "execute_result"
    }
   ],
   "source": [
    "list(filter(lambda ele:type(ele)==int, mixed_data))"
   ]
  },
  {
   "cell_type": "code",
   "execution_count": null,
   "metadata": {},
   "outputs": [],
   "source": []
  },
  {
   "cell_type": "markdown",
   "metadata": {},
   "source": [
    "# Reduce "
   ]
  },
  {
   "cell_type": "code",
   "execution_count": 59,
   "metadata": {},
   "outputs": [],
   "source": [
    "# syntax : --> reduce(function, data)"
   ]
  },
  {
   "cell_type": "code",
   "execution_count": 60,
   "metadata": {},
   "outputs": [],
   "source": [
    "mydata = [1,2,3,4,5]"
   ]
  },
  {
   "cell_type": "code",
   "execution_count": 61,
   "metadata": {},
   "outputs": [],
   "source": [
    "from functools import reduce "
   ]
  },
  {
   "cell_type": "code",
   "execution_count": 62,
   "metadata": {},
   "outputs": [
    {
     "data": {
      "text/plain": [
       "15"
      ]
     },
     "execution_count": 62,
     "metadata": {},
     "output_type": "execute_result"
    }
   ],
   "source": [
    "reduce(lambda x,y : x+y ,mydata)"
   ]
  },
  {
   "cell_type": "code",
   "execution_count": 63,
   "metadata": {},
   "outputs": [],
   "source": [
    "# how ?\n",
    "# x   y\n",
    "# 1   2\n",
    "# 3   3\n",
    "# 6   4\n",
    "# 10  5\n",
    "# 15"
   ]
  },
  {
   "cell_type": "code",
   "execution_count": 1,
   "metadata": {},
   "outputs": [
    {
     "ename": "SystemExit",
     "evalue": "Too many invalid attempts",
     "output_type": "error",
     "traceback": [
      "An exception has occurred, use %tb to see the full traceback.\n",
      "\u001b[1;31mSystemExit\u001b[0m\u001b[1;31m:\u001b[0m Too many invalid attempts\n"
     ]
    },
    {
     "name": "stderr",
     "output_type": "stream",
     "text": [
      "C:\\Users\\suddkar\\AppData\\Local\\Packages\\PythonSoftwareFoundation.Python.3.11_qbz5n2kfra8p0\\LocalCache\\local-packages\\Python311\\site-packages\\IPython\\core\\interactiveshell.py:3585: UserWarning: To exit: use 'exit', 'quit', or Ctrl-D.\n",
      "  warn(\"To exit: use 'exit', 'quit', or Ctrl-D.\", stacklevel=1)\n"
     ]
    }
   ],
   "source": [
    "import sys    #required for exiting the code and displaying an error\n",
    "pin = input(\"Enter your four digit pin: \")\n",
    "attempt_count = 1\n",
    "while pin != '1234':\n",
    "    if attempt_count >= 3:\n",
    "     sys.exit(\"Too many invalid attempts\")   #error code\n",
    "    pin = input('Invalid input, please try again: ')  \n",
    "    attempt_count += 1\n",
    "print(\"Pin validation successful.\")"
   ]
  },
  {
   "cell_type": "code",
   "execution_count": 64,
   "metadata": {},
   "outputs": [],
   "source": [
    "nums = [2,5,4,9,1,3,8]"
   ]
  },
  {
   "cell_type": "code",
   "execution_count": 65,
   "metadata": {},
   "outputs": [
    {
     "data": {
      "text/plain": [
       "9"
      ]
     },
     "execution_count": 65,
     "metadata": {},
     "output_type": "execute_result"
    }
   ],
   "source": [
    "reduce(lambda x,y: x if x>y else y, nums)"
   ]
  },
  {
   "cell_type": "code",
   "execution_count": 71,
   "metadata": {},
   "outputs": [],
   "source": [
    "sentence = 'hello everyone, i am enjoying python coding'\n",
    "# return sentence where first letter capital of each word "
   ]
  },
  {
   "cell_type": "code",
   "execution_count": 69,
   "metadata": {},
   "outputs": [
    {
     "name": "stdout",
     "output_type": "stream",
     "text": [
      "Hello Everyone, I Am Enjoying Python Coding\n"
     ]
    }
   ],
   "source": [
    "print (\" \".join([x.capitalize() for x in senetence.split(\" \")]))"
   ]
  },
  {
   "cell_type": "code",
   "execution_count": 70,
   "metadata": {},
   "outputs": [
    {
     "data": {
      "text/plain": [
       "['Hello', 'Everyone,', 'I', 'Am', 'Enjoying', 'Python', 'Coding']"
      ]
     },
     "execution_count": 70,
     "metadata": {},
     "output_type": "execute_result"
    }
   ],
   "source": [
    "[x.capitalize() for x in sentence.split(\" \")]"
   ]
  },
  {
   "cell_type": "code",
   "execution_count": 74,
   "metadata": {},
   "outputs": [
    {
     "data": {
      "text/plain": [
       "'Hello'"
      ]
     },
     "execution_count": 74,
     "metadata": {},
     "output_type": "execute_result"
    }
   ],
   "source": [
    "sentence.split(\" \")[0].capitalize()"
   ]
  },
  {
   "cell_type": "code",
   "execution_count": 82,
   "metadata": {},
   "outputs": [
    {
     "data": {
      "text/plain": [
       "'Hello Everyone, I Am Enjoying Python Coding'"
      ]
     },
     "execution_count": 82,
     "metadata": {},
     "output_type": "execute_result"
    }
   ],
   "source": [
    "\" \".join([x.capitalize() for x in senetence.split(\" \")])"
   ]
  },
  {
   "cell_type": "code",
   "execution_count": 85,
   "metadata": {},
   "outputs": [
    {
     "data": {
      "text/plain": [
       "'Hello Everyone, I Am Enjoying Python Coding'"
      ]
     },
     "execution_count": 85,
     "metadata": {},
     "output_type": "execute_result"
    }
   ],
   "source": [
    "sentence.title()"
   ]
  },
  {
   "cell_type": "code",
   "execution_count": null,
   "metadata": {},
   "outputs": [],
   "source": []
  },
  {
   "cell_type": "code",
   "execution_count": 86,
   "metadata": {},
   "outputs": [],
   "source": [
    "mydata = [1,2,3,4,5]"
   ]
  },
  {
   "cell_type": "code",
   "execution_count": 87,
   "metadata": {},
   "outputs": [],
   "source": [
    "# combine filter , map"
   ]
  },
  {
   "cell_type": "code",
   "execution_count": 88,
   "metadata": {},
   "outputs": [
    {
     "data": {
      "text/plain": [
       "[2, 4, 6, 8, 10]"
      ]
     },
     "execution_count": 88,
     "metadata": {},
     "output_type": "execute_result"
    }
   ],
   "source": [
    "list(filter(lambda num:num%2==0,numbers))"
   ]
  },
  {
   "cell_type": "code",
   "execution_count": 90,
   "metadata": {},
   "outputs": [
    {
     "data": {
      "text/plain": [
       "[4, 16, 36, 64, 100]"
      ]
     },
     "execution_count": 90,
     "metadata": {},
     "output_type": "execute_result"
    }
   ],
   "source": [
    "list(map(lambda c: c*c, list(filter(lambda num:num%2==0,numbers))))"
   ]
  },
  {
   "cell_type": "code",
   "execution_count": 92,
   "metadata": {},
   "outputs": [
    {
     "data": {
      "text/plain": [
       "220"
      ]
     },
     "execution_count": 92,
     "metadata": {},
     "output_type": "execute_result"
    }
   ],
   "source": [
    "sum([4, 16, 36, 64, 100])"
   ]
  },
  {
   "cell_type": "code",
   "execution_count": 91,
   "metadata": {},
   "outputs": [],
   "source": [
    "# combine filter map, reduce "
   ]
  },
  {
   "cell_type": "code",
   "execution_count": 93,
   "metadata": {},
   "outputs": [
    {
     "data": {
      "text/plain": [
       "220"
      ]
     },
     "execution_count": 93,
     "metadata": {},
     "output_type": "execute_result"
    }
   ],
   "source": [
    "reduce(lambda x,y : x+y ,list(map(lambda c: c*c, list(filter(lambda num:num%2==0,numbers)))))"
   ]
  },
  {
   "cell_type": "code",
   "execution_count": null,
   "metadata": {},
   "outputs": [],
   "source": []
  },
  {
   "cell_type": "code",
   "execution_count": 103,
   "metadata": {},
   "outputs": [],
   "source": [
    "# load csv data\n",
    "# open( ) : used to open file\n",
    "# readlines( ) :used to fetch file content"
   ]
  },
  {
   "cell_type": "code",
   "execution_count": 104,
   "metadata": {},
   "outputs": [
    {
     "data": {
      "text/plain": [
       "['Stock Price\\n',\n",
       " '\\n',\n",
       " '50.12\\n',\n",
       " '\\n',\n",
       " '54.1\\n',\n",
       " '\\n',\n",
       " '54.65\\n',\n",
       " '\\n',\n",
       " '52.38\\n',\n",
       " '\\n',\n",
       " '52.95\\n',\n",
       " '\\n',\n",
       " '53.9\\n',\n",
       " '\\n',\n",
       " '53.02\\n',\n",
       " '\\n',\n",
       " '50.95\\n',\n",
       " '\\n',\n",
       " '51.13\\n',\n",
       " '\\n',\n",
       " '50.07\\n',\n",
       " '\\n',\n",
       " '50.7\\n',\n",
       " '\\n',\n",
       " '49.95\\n',\n",
       " '\\n',\n",
       " '50.74\\n',\n",
       " '\\n',\n",
       " '51.1\\n',\n",
       " '\\n',\n",
       " '51.1\\n',\n",
       " '\\n',\n",
       " '52.61\\n',\n",
       " '\\n',\n",
       " '53.7\\n',\n",
       " '\\n',\n",
       " '55.69\\n',\n",
       " '\\n',\n",
       " '55.94\\n',\n",
       " '\\n',\n",
       " '56.93\\n',\n",
       " '\\n',\n",
       " '58.69\\n',\n",
       " '\\n',\n",
       " '59.62\\n',\n",
       " '\\n',\n",
       " '58.86\\n',\n",
       " '\\n',\n",
       " '59.13\\n',\n",
       " '\\n',\n",
       " '60.35\\n',\n",
       " '\\n',\n",
       " '59.86\\n',\n",
       " '\\n',\n",
       " '59.07\\n',\n",
       " '\\n',\n",
       " '63.37\\n',\n",
       " '\\n',\n",
       " '65.47\\n',\n",
       " '\\n',\n",
       " '64.74\\n',\n",
       " '\\n',\n",
       " '66.22\\n',\n",
       " '\\n',\n",
       " '67.46\\n',\n",
       " '\\n',\n",
       " '69.12\\n',\n",
       " '\\n',\n",
       " '68.47\\n',\n",
       " '\\n',\n",
       " '69.36\\n',\n",
       " '\\n',\n",
       " '68.8\\n',\n",
       " '\\n',\n",
       " '67.56\\n',\n",
       " '\\n',\n",
       " '68.63\\n',\n",
       " '\\n',\n",
       " '70.38\\n',\n",
       " '\\n',\n",
       " '70.93\\n',\n",
       " '\\n',\n",
       " '71.98\\n',\n",
       " '\\n',\n",
       " '74.51\\n',\n",
       " '\\n',\n",
       " '73.9\\n',\n",
       " '\\n',\n",
       " '70.17\\n',\n",
       " '\\n',\n",
       " '74.62\\n',\n",
       " '\\n',\n",
       " '86.13\\n',\n",
       " '\\n',\n",
       " '93.61\\n',\n",
       " '\\n',\n",
       " '90.81\\n',\n",
       " '\\n',\n",
       " '92.89\\n',\n",
       " '\\n',\n",
       " '96.55\\n',\n",
       " '\\n',\n",
       " '95.22\\n',\n",
       " '\\n',\n",
       " '97.92\\n',\n",
       " '\\n',\n",
       " '97.34\\n',\n",
       " '\\n',\n",
       " '95.74\\n',\n",
       " '\\n',\n",
       " '92.26\\n',\n",
       " '\\n',\n",
       " '84.59\\n',\n",
       " '\\n',\n",
       " '86.19\\n',\n",
       " '\\n',\n",
       " '84.27\\n',\n",
       " '\\n',\n",
       " '83.85\\n',\n",
       " '\\n',\n",
       " '91.42\\n',\n",
       " '\\n',\n",
       " '90.91\\n',\n",
       " '\\n',\n",
       " '92.34\\n',\n",
       " '\\n',\n",
       " '86.19\\n',\n",
       " '\\n',\n",
       " '86.16\\n',\n",
       " '\\n',\n",
       " '83.69\\n',\n",
       " '\\n',\n",
       " '84.62\\n',\n",
       " '\\n',\n",
       " '82.47\\n',\n",
       " '\\n',\n",
       " '83.68\\n',\n",
       " '\\n',\n",
       " '87.29\\n',\n",
       " '\\n',\n",
       " '89.61\\n',\n",
       " '\\n',\n",
       " '90.43\\n',\n",
       " '\\n',\n",
       " '90.9\\n',\n",
       " '\\n',\n",
       " '89.89\\n',\n",
       " '\\n',\n",
       " '89.61\\n',\n",
       " '\\n',\n",
       " '90.11\\n',\n",
       " '\\n',\n",
       " '88.06\\n',\n",
       " '\\n',\n",
       " '85.63\\n',\n",
       " '\\n',\n",
       " '84.91\\n',\n",
       " '\\n',\n",
       " '86.63\\n',\n",
       " '\\n',\n",
       " '85.74\\n',\n",
       " '\\n',\n",
       " '85.14\\n',\n",
       " '\\n',\n",
       " '89.26\\n',\n",
       " '\\n',\n",
       " '89.8\\n',\n",
       " '\\n',\n",
       " '88.15\\n',\n",
       " '\\n',\n",
       " '89.95\\n',\n",
       " '\\n',\n",
       " '92.42\\n',\n",
       " '\\n',\n",
       " '91.78\\n',\n",
       " '\\n',\n",
       " '93.06\\n',\n",
       " '\\n',\n",
       " '93.86\\n',\n",
       " '\\n',\n",
       " '95.86\\n',\n",
       " '\\n',\n",
       " '96.28\\n',\n",
       " '\\n',\n",
       " '96.35\\n',\n",
       " '\\n',\n",
       " '98.7\\n',\n",
       " '\\n',\n",
       " '96.3\\n',\n",
       " '\\n',\n",
       " '101.25\\n',\n",
       " '\\n',\n",
       " '97.15\\n',\n",
       " '\\n',\n",
       " '96.66\\n',\n",
       " '\\n',\n",
       " '94.18\\n',\n",
       " '\\n',\n",
       " '96.83\\n',\n",
       " '\\n',\n",
       " '97.43\\n',\n",
       " '\\n',\n",
       " '96.67\\n',\n",
       " '\\n',\n",
       " '97.59\\n',\n",
       " '\\n',\n",
       " '97.57\\n',\n",
       " '\\n',\n",
       " '99.89\\n',\n",
       " '\\n',\n",
       " '101.85\\n',\n",
       " '\\n',\n",
       " '98.55\\n',\n",
       " '\\n',\n",
       " '96.86\\n',\n",
       " '\\n',\n",
       " '94.05\\n',\n",
       " '\\n',\n",
       " '90.27\\n',\n",
       " '\\n',\n",
       " '88.47\\n',\n",
       " '\\n',\n",
       " '94.53\\n',\n",
       " '\\n',\n",
       " '93.95\\n',\n",
       " '\\n',\n",
       " '95.07\\n',\n",
       " '\\n',\n",
       " '97.71\\n',\n",
       " '\\n',\n",
       " '95.85\\n',\n",
       " '\\n',\n",
       " '102.88\\n',\n",
       " '\\n',\n",
       " '105.32\\n',\n",
       " '\\n',\n",
       " '102.08\\n',\n",
       " '\\n',\n",
       " '97.92\\n',\n",
       " '\\n',\n",
       " '99.22\\n',\n",
       " '\\n',\n",
       " '95.69\\n',\n",
       " '\\n',\n",
       " '93.9\\n',\n",
       " '\\n',\n",
       " '93.61\\n',\n",
       " '\\n',\n",
       " '96.4\\n',\n",
       " '\\n',\n",
       " '97.52\\n',\n",
       " '\\n',\n",
       " '99.11\\n',\n",
       " '\\n',\n",
       " '98.85\\n',\n",
       " '\\n',\n",
       " '98.88\\n',\n",
       " '\\n',\n",
       " '95.59\\n',\n",
       " '\\n',\n",
       " '96.88\\n',\n",
       " '\\n',\n",
       " '94.35\\n',\n",
       " '\\n',\n",
       " '92.84\\n',\n",
       " '\\n',\n",
       " '93.9\\n',\n",
       " '\\n',\n",
       " '92.94\\n',\n",
       " '\\n',\n",
       " '92.5\\n',\n",
       " '\\n',\n",
       " '93.41\\n',\n",
       " '\\n',\n",
       " '92.86\\n',\n",
       " '\\n',\n",
       " '94.31\\n',\n",
       " '\\n',\n",
       " '92.51\\n',\n",
       " '\\n',\n",
       " '90.58\\n',\n",
       " '\\n',\n",
       " '89.9\\n',\n",
       " '\\n',\n",
       " '88.81\\n',\n",
       " '\\n',\n",
       " '87.41\\n',\n",
       " '\\n',\n",
       " '89.22\\n',\n",
       " '\\n',\n",
       " '87.71\\n',\n",
       " '\\n',\n",
       " '89.56\\n',\n",
       " '\\n',\n",
       " '89.93\\n',\n",
       " '\\n',\n",
       " '90.35\\n',\n",
       " '\\n',\n",
       " '89.21\\n',\n",
       " '\\n',\n",
       " '89.4\\n',\n",
       " '\\n',\n",
       " '89.54\\n',\n",
       " '\\n',\n",
       " '90.62\\n',\n",
       " '\\n',\n",
       " '89.7\\n',\n",
       " '\\n',\n",
       " '90.13\\n',\n",
       " '\\n',\n",
       " '90.16\\n',\n",
       " '\\n',\n",
       " '89.93\\n',\n",
       " '\\n',\n",
       " '92.55\\n',\n",
       " '\\n',\n",
       " '94.19\\n',\n",
       " '\\n',\n",
       " '94.52\\n',\n",
       " '\\n',\n",
       " '96.78\\n',\n",
       " '\\n',\n",
       " '95.93\\n',\n",
       " '\\n',\n",
       " '96.52\\n',\n",
       " '\\n',\n",
       " '96.88\\n',\n",
       " '\\n',\n",
       " '96.37\\n',\n",
       " '\\n',\n",
       " '95.63\\n',\n",
       " '\\n',\n",
       " '92.41\\n',\n",
       " '\\n',\n",
       " '93.39\\n',\n",
       " '\\n',\n",
       " '95.6\\n',\n",
       " '\\n',\n",
       " '98.95\\n',\n",
       " '\\n',\n",
       " '102.01\\n',\n",
       " '\\n',\n",
       " '107.8\\n',\n",
       " '\\n',\n",
       " '111.65\\n',\n",
       " '\\n',\n",
       " '109.27\\n',\n",
       " '\\n',\n",
       " '109.78\\n',\n",
       " '\\n',\n",
       " '109.62\\n',\n",
       " '\\n',\n",
       " '109.89\\n',\n",
       " '\\n',\n",
       " '111.03\\n',\n",
       " '\\n',\n",
       " '112.98\\n',\n",
       " '\\n',\n",
       " '114.14\\n',\n",
       " '\\n',\n",
       " '113.38\\n',\n",
       " '\\n',\n",
       " '113.9\\n',\n",
       " '\\n',\n",
       " '112.9\\n',\n",
       " '\\n',\n",
       " '113.79\\n',\n",
       " '\\n',\n",
       " '115.53\\n',\n",
       " '\\n',\n",
       " '114.25\\n',\n",
       " '\\n',\n",
       " '114.51\\n',\n",
       " '\\n',\n",
       " '115.41\\n',\n",
       " '\\n',\n",
       " '116.45\\n',\n",
       " '\\n',\n",
       " '119.46\\n',\n",
       " '\\n',\n",
       " '119.47\\n',\n",
       " '\\n',\n",
       " '120.68\\n',\n",
       " '\\n',\n",
       " '127.6\\n',\n",
       " '\\n',\n",
       " '127.87\\n',\n",
       " '\\n',\n",
       " '130.27\\n',\n",
       " '\\n',\n",
       " '129.47\\n',\n",
       " '\\n',\n",
       " '132.87\\n',\n",
       " '\\n',\n",
       " '138.5\\n',\n",
       " '\\n',\n",
       " '143.86\\n',\n",
       " '\\n',\n",
       " '143.81\\n',\n",
       " '\\n',\n",
       " '139.99\\n',\n",
       " '\\n',\n",
       " '145.32\\n',\n",
       " '\\n',\n",
       " '146.41\\n',\n",
       " '\\n',\n",
       " '139.64\\n',\n",
       " '\\n',\n",
       " '143.01\\n',\n",
       " '\\n',\n",
       " '141.11\\n',\n",
       " '\\n',\n",
       " '141.23\\n',\n",
       " '\\n',\n",
       " '139.04\\n',\n",
       " '\\n',\n",
       " '137.26\\n',\n",
       " '\\n',\n",
       " '138.58\\n',\n",
       " '\\n',\n",
       " '140\\n',\n",
       " '\\n',\n",
       " '143.21\\n',\n",
       " '\\n',\n",
       " '143.78\\n',\n",
       " '\\n',\n",
       " '144.51\\n',\n",
       " '\\n',\n",
       " '144.71\\n',\n",
       " '\\n',\n",
       " '148.48\\n',\n",
       " '\\n',\n",
       " '151.9\\n',\n",
       " '\\n',\n",
       " '150.85\\n',\n",
       " '\\n',\n",
       " '146.21\\n',\n",
       " '\\n',\n",
       " '146.93\\n',\n",
       " '\\n',\n",
       " '145.48\\n',\n",
       " '\\n',\n",
       " '147.71\\n',\n",
       " '\\n',\n",
       " '145.62\\n',\n",
       " '\\n',\n",
       " '147.62\\n',\n",
       " '\\n',\n",
       " '147.97\\n',\n",
       " '\\n',\n",
       " '146.53\\n',\n",
       " '\\n',\n",
       " '145.75\\n',\n",
       " '\\n',\n",
       " '149.28\\n',\n",
       " '\\n',\n",
       " '150.29\\n',\n",
       " '\\n',\n",
       " '150.44\\n',\n",
       " '\\n',\n",
       " '149.62\\n',\n",
       " '\\n',\n",
       " '154.8\\n',\n",
       " '\\n',\n",
       " '155.84\\n',\n",
       " '\\n',\n",
       " '156.81\\n',\n",
       " '\\n',\n",
       " '151.05\\n',\n",
       " '\\n',\n",
       " '147.78\\n',\n",
       " '\\n',\n",
       " '147.9\\n',\n",
       " '\\n',\n",
       " '148.32\\n',\n",
       " '\\n',\n",
       " '146.6\\n',\n",
       " '\\n',\n",
       " '143.74\\n',\n",
       " '\\n',\n",
       " '145.66\\n',\n",
       " '\\n',\n",
       " '149.45\\n',\n",
       " '\\n',\n",
       " '148.5\\n',\n",
       " '\\n',\n",
       " '148.72\\n',\n",
       " '\\n',\n",
       " '146.03\\n',\n",
       " '\\n',\n",
       " '145.48\\n',\n",
       " '\\n',\n",
       " '145.64\\n',\n",
       " '\\n',\n",
       " '142.7\\n',\n",
       " '\\n',\n",
       " '141.88\\n',\n",
       " '\\n',\n",
       " '144.72\\n',\n",
       " '\\n',\n",
       " '141.86\\n',\n",
       " '\\n',\n",
       " '142.68\\n',\n",
       " '\\n',\n",
       " '142.41\\n',\n",
       " '\\n',\n",
       " '139.86\\n',\n",
       " '\\n',\n",
       " '139.86\\n',\n",
       " '\\n',\n",
       " '136.87\\n',\n",
       " '\\n',\n",
       " '139.65\\n',\n",
       " '\\n',\n",
       " '141.14\\n',\n",
       " '\\n',\n",
       " '141.15\\n',\n",
       " '\\n',\n",
       " '141.65\\n',\n",
       " '\\n',\n",
       " '144.08\\n',\n",
       " '\\n',\n",
       " '143.49\\n',\n",
       " '\\n',\n",
       " '142.86\\n',\n",
       " '\\n',\n",
       " '142.98\\n',\n",
       " '\\n',\n",
       " '144.08\\n',\n",
       " '\\n',\n",
       " '143.41\\n',\n",
       " '\\n',\n",
       " '147.29\\n',\n",
       " '\\n',\n",
       " '147.55\\n',\n",
       " '\\n',\n",
       " '149.4\\n',\n",
       " '\\n',\n",
       " '154.72\\n',\n",
       " '\\n',\n",
       " '155.68\\n',\n",
       " '\\n',\n",
       " '151.35\\n',\n",
       " '\\n',\n",
       " '151.16\\n',\n",
       " '\\n',\n",
       " '149.95\\n',\n",
       " '\\n',\n",
       " '151.74\\n',\n",
       " '\\n',\n",
       " '153.8\\n',\n",
       " '\\n',\n",
       " '155.79\\n',\n",
       " '\\n',\n",
       " '155.53\\n',\n",
       " '\\n',\n",
       " '157.52\\n',\n",
       " '\\n',\n",
       " '156.98\\n',\n",
       " '\\n',\n",
       " '156.81\\n',\n",
       " '\\n',\n",
       " '152.85\\n',\n",
       " '\\n',\n",
       " '154.66\\n',\n",
       " '\\n',\n",
       " '158.07\\n',\n",
       " '\\n',\n",
       " '159.18\\n',\n",
       " '\\n',\n",
       " '155.34\\n',\n",
       " '\\n',\n",
       " '155.2\\n',\n",
       " '\\n',\n",
       " '156.22\\n',\n",
       " '\\n',\n",
       " '156.34\\n',\n",
       " '\\n',\n",
       " '155.17\\n',\n",
       " '\\n',\n",
       " '152.9\\n',\n",
       " '\\n',\n",
       " '150.33\\n',\n",
       " '\\n',\n",
       " '148.57\\n',\n",
       " '\\n',\n",
       " '147.92\\n',\n",
       " '\\n',\n",
       " '152.35\\n',\n",
       " '\\n',\n",
       " '151.49\\n',\n",
       " '\\n',\n",
       " '154.2\\n',\n",
       " '\\n',\n",
       " '151.45\\n',\n",
       " '\\n',\n",
       " '169.78\\n',\n",
       " '\\n',\n",
       " '174.15\\n',\n",
       " '\\n',\n",
       " '173.28\\n',\n",
       " '\\n',\n",
       " '177.54\\n',\n",
       " '\\n',\n",
       " '176.35\\n',\n",
       " '\\n',\n",
       " '178.91\\n',\n",
       " '\\n',\n",
       " '185.88\\n',\n",
       " '\\n',\n",
       " '189.5\\n',\n",
       " '\\n',\n",
       " '189.65\\n',\n",
       " '\\n',\n",
       " '192.78\\n',\n",
       " '\\n',\n",
       " '195.02\\n',\n",
       " '\\n',\n",
       " '197.32\\n',\n",
       " '\\n',\n",
       " '194.76\\n',\n",
       " '\\n',\n",
       " '189.39\\n',\n",
       " '\\n',\n",
       " '195.35\\n',\n",
       " '\\n',\n",
       " '195\\n',\n",
       " '\\n',\n",
       " '198.29\\n',\n",
       " '\\n',\n",
       " '196.2\\n',\n",
       " '\\n',\n",
       " '198.88\\n',\n",
       " '\\n',\n",
       " '201.52\\n',\n",
       " '\\n',\n",
       " '199.9\\n',\n",
       " '\\n',\n",
       " '204.48\\n',\n",
       " '\\n',\n",
       " '208.03\\n',\n",
       " '\\n',\n",
       " '211.22\\n',\n",
       " '\\n',\n",
       " '214.1\\n',\n",
       " '\\n',\n",
       " '211.53\\n',\n",
       " '\\n',\n",
       " '201.57\\n',\n",
       " '\\n',\n",
       " '202.25\\n',\n",
       " '\\n',\n",
       " '206.84\\n',\n",
       " '\\n',\n",
       " '208.64\\n',\n",
       " '\\n',\n",
       " '202.72\\n',\n",
       " '\\n',\n",
       " '202.07\\n',\n",
       " '\\n',\n",
       " '201.91\\n',\n",
       " '\\n',\n",
       " '205.12\\n',\n",
       " '\\n',\n",
       " '204.4\\n',\n",
       " '\\n',\n",
       " '206.1\\n',\n",
       " '\\n',\n",
       " '208.54\\n',\n",
       " '\\n',\n",
       " '209.27\\n',\n",
       " '\\n',\n",
       " '211.05\\n',\n",
       " '\\n',\n",
       " '214.86\\n',\n",
       " '\\n',\n",
       " '212.09\\n',\n",
       " '\\n',\n",
       " '214.66\\n',\n",
       " '\\n',\n",
       " '212.95\\n',\n",
       " '\\n',\n",
       " '215.8\\n',\n",
       " '\\n',\n",
       " '215.25\\n',\n",
       " '\\n',\n",
       " '212.11\\n',\n",
       " '\\n',\n",
       " '213.13\\n',\n",
       " '\\n',\n",
       " '209.86\\n',\n",
       " '\\n',\n",
       " '207.22\\n',\n",
       " '\\n',\n",
       " '217.4\\n',\n",
       " '\\n',\n",
       " '222.4\\n',\n",
       " '\\n',\n",
       " '225.39\\n',\n",
       " '\\n',\n",
       " '232.6\\n',\n",
       " '\\n',\n",
       " '233.22\\n',\n",
       " '\\n',\n",
       " '234.65\\n',\n",
       " '\\n',\n",
       " '235.58\\n',\n",
       " '\\n',\n",
       " '231.58\\n',\n",
       " '\\n',\n",
       " '232.89\\n',\n",
       " '\\n',\n",
       " '233.32\\n',\n",
       " '\\n',\n",
       " '222.23\\n',\n",
       " '\\n',\n",
       " '218\\n',\n",
       " '\\n',\n",
       " '199.53\\n',\n",
       " '\\n',\n",
       " '213.54\\n',\n",
       " '\\n',\n",
       " '221.29\\n',\n",
       " '\\n',\n",
       " '216.28\\n',\n",
       " '\\n',\n",
       " '216.92\\n',\n",
       " '\\n',\n",
       " '216.53\\n',\n",
       " '\\n',\n",
       " '213.2\\n',\n",
       " '\\n',\n",
       " '216.11\\n',\n",
       " '\\n',\n",
       " '200.69\\n',\n",
       " '\\n',\n",
       " '197.82\\n',\n",
       " '\\n',\n",
       " '190.59\\n',\n",
       " '\\n',\n",
       " '192.36\\n',\n",
       " '\\n',\n",
       " '183.78\\n',\n",
       " '\\n',\n",
       " '184.36\\n',\n",
       " '\\n',\n",
       " '179.21\\n',\n",
       " '\\n',\n",
       " '181.12\\n',\n",
       " '\\n',\n",
       " '172.68\\n',\n",
       " '\\n',\n",
       " '171.49\\n',\n",
       " '\\n',\n",
       " '171.02\\n',\n",
       " '\\n',\n",
       " '183.05\\n',\n",
       " '\\n',\n",
       " '184.19\\n',\n",
       " '\\n',\n",
       " '183.11\\n',\n",
       " '\\n',\n",
       " '182.56\\n',\n",
       " '\\n',\n",
       " '188.85\\n',\n",
       " '\\n',\n",
       " '188.51\\n',\n",
       " '\\n',\n",
       " '194.99\\n',\n",
       " '\\n',\n",
       " '181.13\\n',\n",
       " '\\n',\n",
       " '182.22\\n',\n",
       " '\\n',\n",
       " '188.04\\n',\n",
       " '\\n',\n",
       " '188.9\\n',\n",
       " '\\n',\n",
       " '183.87\\n',\n",
       " '\\n',\n",
       " '182.04\\n',\n",
       " '\\n',\n",
       " '176.76\\n',\n",
       " '\\n',\n",
       " '171.33\\n',\n",
       " '\\n',\n",
       " '168.58\\n',\n",
       " '\\n',\n",
       " '168.36\\n',\n",
       " '\\n',\n",
       " '175.4\\n',\n",
       " '\\n',\n",
       " '172.08\\n',\n",
       " '\\n',\n",
       " '169.22\\n',\n",
       " '\\n',\n",
       " '169.73\\n',\n",
       " '\\n',\n",
       " '173.92\\n',\n",
       " '\\n',\n",
       " '169.79\\n',\n",
       " '\\n',\n",
       " '169.94\\n',\n",
       " '\\n',\n",
       " '170.77\\n',\n",
       " '\\n',\n",
       " '182.72\\n',\n",
       " '\\n',\n",
       " '184.66\\n',\n",
       " '\\n',\n",
       " '188.41\\n',\n",
       " '\\n',\n",
       " '197.29\\n',\n",
       " '\\n',\n",
       " '194.03\\n',\n",
       " '\\n',\n",
       " '194.8\\n',\n",
       " '\\n',\n",
       " '194.66\\n',\n",
       " '\\n',\n",
       " '201.97\\n',\n",
       " '\\n',\n",
       " '203.79\\n',\n",
       " '\\n',\n",
       " '205.38\\n',\n",
       " '\\n',\n",
       " '202.88\\n',\n",
       " '\\n',\n",
       " '207.98\\n',\n",
       " '\\n',\n",
       " '204.63\\n',\n",
       " '\\n',\n",
       " '204.27\\n',\n",
       " '\\n',\n",
       " '200.88\\n',\n",
       " '\\n',\n",
       " '203.21\\n',\n",
       " '\\n',\n",
       " '201.92\\n',\n",
       " '\\n',\n",
       " '205.04\\n',\n",
       " '\\n',\n",
       " '207.29\\n',\n",
       " '\\n',\n",
       " '218.33\\n',\n",
       " '\\n',\n",
       " '220.03\\n',\n",
       " '\\n',\n",
       " '213.37\\n',\n",
       " '\\n',\n",
       " '212.77\\n',\n",
       " '\\n',\n",
       " '209.8\\n',\n",
       " '\\n',\n",
       " '208.76\\n',\n",
       " '\\n',\n",
       " '199.25\\n',\n",
       " '\\n',\n",
       " '197.2\\n',\n",
       " '\\n',\n",
       " '196.89\\n',\n",
       " '\\n',\n",
       " '197.18\\n',\n",
       " '\\n',\n",
       " '196.95\\n',\n",
       " '\\n',\n",
       " '197.19\\n',\n",
       " '\\n',\n",
       " '204.2\\n',\n",
       " '\\n',\n",
       " '201.29\\n',\n",
       " '\\n',\n",
       " '193.31\\n',\n",
       " '\\n',\n",
       " '186.88\\n',\n",
       " '\\n',\n",
       " '187.91\\n',\n",
       " '\\n',\n",
       " '185.46\\n',\n",
       " '\\n',\n",
       " '187.06\\n',\n",
       " '\\n',\n",
       " '185.31\\n',\n",
       " '\\n',\n",
       " '184.82\\n',\n",
       " '\\n',\n",
       " '185.29\\n',\n",
       " '\\n',\n",
       " '187.6\\n',\n",
       " '\\n',\n",
       " '190.43\\n',\n",
       " '\\n',\n",
       " '191.3\\n',\n",
       " '\\n',\n",
       " '190.48\\n',\n",
       " '\\n',\n",
       " '185.78\\n',\n",
       " '\\n',\n",
       " '185.72\\n',\n",
       " '\\n',\n",
       " '191.12\\n',\n",
       " '\\n',\n",
       " '189.53\\n',\n",
       " '\\n',\n",
       " '187.03\\n',\n",
       " '\\n',\n",
       " '194.8\\n',\n",
       " '\\n',\n",
       " '193.06\\n',\n",
       " '\\n',\n",
       " '196.45\\n',\n",
       " '\\n',\n",
       " '193.09\\n',\n",
       " '\\n',\n",
       " '190.58\\n',\n",
       " '\\n',\n",
       " '193.07\\n',\n",
       " '\\n',\n",
       " '192\\n',\n",
       " '\\n',\n",
       " '195.3\\n',\n",
       " '\\n',\n",
       " '195.15\\n',\n",
       " '\\n',\n",
       " '193.88\\n',\n",
       " '\\n',\n",
       " '193.39\\n',\n",
       " '\\n',\n",
       " '200.86\\n',\n",
       " '\\n',\n",
       " '199.78\\n',\n",
       " '\\n',\n",
       " '202.23\\n',\n",
       " '\\n',\n",
       " '201.91\\n',\n",
       " '\\n',\n",
       " '200.96\\n',\n",
       " '\\n',\n",
       " '202.85\\n',\n",
       " '\\n',\n",
       " '208.7\\n',\n",
       " '\\n',\n",
       " '209.46\\n',\n",
       " '\\n',\n",
       " '211.39\\n',\n",
       " '\\n',\n",
       " '210.52\\n',\n",
       " '\\n',\n",
       " '211.38\\n',\n",
       " '\\n',\n",
       " '210.01\\n',\n",
       " '\\n',\n",
       " '208.89\\n',\n",
       " '\\n',\n",
       " '212.07\\n',\n",
       " '\\n',\n",
       " '208.42\\n',\n",
       " '\\n',\n",
       " '204.21\\n',\n",
       " '\\n',\n",
       " '201.55\\n',\n",
       " '\\n',\n",
       " '203.74\\n',\n",
       " '\\n',\n",
       " '201.32\\n',\n",
       " '\\n',\n",
       " '199.3\\n',\n",
       " '\\n',\n",
       " '193.37\\n',\n",
       " '\\n',\n",
       " '194.86\\n',\n",
       " '\\n',\n",
       " '195.25\\n',\n",
       " '\\n',\n",
       " '194.49\\n',\n",
       " '\\n',\n",
       " '192.56\\n',\n",
       " '\\n',\n",
       " '191.01\\n',\n",
       " '\\n',\n",
       " '193.87\\n',\n",
       " '\\n',\n",
       " '193.11\\n',\n",
       " '\\n',\n",
       " '187.57\\n',\n",
       " '\\n',\n",
       " '183.43\\n',\n",
       " '\\n',\n",
       " '187.51\\n',\n",
       " '\\n',\n",
       " '186.74\\n',\n",
       " '\\n',\n",
       " '188.79\\n',\n",
       " '\\n',\n",
       " '190.31\\n',\n",
       " '\\n',\n",
       " '188.28\\n',\n",
       " '\\n',\n",
       " '186.91\\n',\n",
       " '\\n',\n",
       " ...]"
      ]
     },
     "execution_count": 104,
     "metadata": {},
     "output_type": "execute_result"
    }
   ],
   "source": [
    "google_data = open('google_stock_price.csv').readlines()\n",
    "google_data"
   ]
  },
  {
   "cell_type": "code",
   "execution_count": 106,
   "metadata": {},
   "outputs": [],
   "source": [
    "# remove header from data"
   ]
  },
  {
   "cell_type": "code",
   "execution_count": 107,
   "metadata": {},
   "outputs": [
    {
     "data": {
      "text/plain": [
       "'Stock Price\\n'"
      ]
     },
     "execution_count": 107,
     "metadata": {},
     "output_type": "execute_result"
    }
   ],
   "source": [
    "google_data[0] "
   ]
  },
  {
   "cell_type": "code",
   "execution_count": 108,
   "metadata": {},
   "outputs": [],
   "source": [
    "del google_data[0] "
   ]
  },
  {
   "cell_type": "code",
   "execution_count": 110,
   "metadata": {},
   "outputs": [],
   "source": [
    "# number of datapoints in it?"
   ]
  },
  {
   "cell_type": "code",
   "execution_count": 111,
   "metadata": {},
   "outputs": [
    {
     "data": {
      "text/plain": [
       "6024"
      ]
     },
     "execution_count": 111,
     "metadata": {},
     "output_type": "execute_result"
    }
   ],
   "source": [
    "len(google_data)"
   ]
  },
  {
   "cell_type": "code",
   "execution_count": 116,
   "metadata": {},
   "outputs": [],
   "source": [
    "# extract only float number from list"
   ]
  },
  {
   "cell_type": "code",
   "execution_count": 121,
   "metadata": {},
   "outputs": [],
   "source": [
    "google_stock =[ float(i) for i in google_data[1::2]]"
   ]
  },
  {
   "cell_type": "code",
   "execution_count": 122,
   "metadata": {},
   "outputs": [
    {
     "data": {
      "text/plain": [
       "3012"
      ]
     },
     "execution_count": 122,
     "metadata": {},
     "output_type": "execute_result"
    }
   ],
   "source": [
    "len(google_stock)"
   ]
  },
  {
   "cell_type": "code",
   "execution_count": null,
   "metadata": {},
   "outputs": [],
   "source": [
    "# find largest, smallest,total using reduce method\n",
    "# mean from stock list"
   ]
  },
  {
   "cell_type": "code",
   "execution_count": 123,
   "metadata": {},
   "outputs": [
    {
     "data": {
      "text/plain": [
       "1006942.0000000002"
      ]
     },
     "execution_count": 123,
     "metadata": {},
     "output_type": "execute_result"
    }
   ],
   "source": [
    "stock_total = reduce(lambda x,y:x+y,google_stock )\n",
    "stock_total"
   ]
  },
  {
   "cell_type": "code",
   "execution_count": 124,
   "metadata": {},
   "outputs": [
    {
     "data": {
      "text/plain": [
       "782.22"
      ]
     },
     "execution_count": 124,
     "metadata": {},
     "output_type": "execute_result"
    }
   ],
   "source": [
    "maxstock = reduce(lambda x,y:x if x>y else y,google_stock )\n",
    "maxstock"
   ]
  },
  {
   "cell_type": "code",
   "execution_count": 125,
   "metadata": {},
   "outputs": [
    {
     "data": {
      "text/plain": [
       "49.95"
      ]
     },
     "execution_count": 125,
     "metadata": {},
     "output_type": "execute_result"
    }
   ],
   "source": [
    "minstock = reduce(lambda x,y:x if x<y else y,google_stock )\n",
    "minstock"
   ]
  },
  {
   "cell_type": "code",
   "execution_count": 126,
   "metadata": {},
   "outputs": [
    {
     "data": {
      "text/plain": [
       "334.31009296148744"
      ]
     },
     "execution_count": 126,
     "metadata": {},
     "output_type": "execute_result"
    }
   ],
   "source": [
    "meanstock = stock_total/len(google_stock)\n",
    "meanstock"
   ]
  },
  {
   "cell_type": "code",
   "execution_count": 127,
   "metadata": {},
   "outputs": [],
   "source": [
    "# categorize in three diff category\n",
    "# excellent  : if stock value >500 \n",
    "# good  : if stock value is less than 500 but greater than 250\n",
    "# ok : if stock value is less than 250\n",
    "\n",
    "#count of each ctegory"
   ]
  },
  {
   "cell_type": "code",
   "execution_count": 130,
   "metadata": {},
   "outputs": [
    {
     "name": "stdout",
     "output_type": "stream",
     "text": [
      "excellent 701\n",
      "good 1174\n",
      "ok 1137\n"
     ]
    }
   ],
   "source": [
    "excellent = len(list(filter(lambda x: x>500, google_stock))) \n",
    "good = len(list(filter(lambda x:x<500 and x>250 , google_stock))) \n",
    "ok = len(list(filter(lambda x:x<250 , google_stock))) \n",
    "print(\"excellent\", excellent) \n",
    "print(\"good\", good) \n",
    "print(\"ok\", ok)"
   ]
  },
  {
   "cell_type": "code",
   "execution_count": 142,
   "metadata": {},
   "outputs": [
    {
     "name": "stdout",
     "output_type": "stream",
     "text": [
      "okay: 1137\n"
     ]
    }
   ],
   "source": [
    "okay = list(filter(lambda x:(x>0 and x<250), google_stock) )\n",
    "print(\"okay:\",len(okay))"
   ]
  },
  {
   "cell_type": "code",
   "execution_count": 143,
   "metadata": {},
   "outputs": [
    {
     "data": {
      "text/plain": [
       "[50.12,\n",
       " 54.1,\n",
       " 54.65,\n",
       " 52.38,\n",
       " 52.95,\n",
       " 53.9,\n",
       " 53.02,\n",
       " 50.95,\n",
       " 51.13,\n",
       " 50.07,\n",
       " 50.7,\n",
       " 49.95,\n",
       " 50.74,\n",
       " 51.1,\n",
       " 51.1,\n",
       " 52.61,\n",
       " 53.7,\n",
       " 55.69,\n",
       " 55.94,\n",
       " 56.93,\n",
       " 58.69,\n",
       " 59.62,\n",
       " 58.86,\n",
       " 59.13,\n",
       " 60.35,\n",
       " 59.86,\n",
       " 59.07,\n",
       " 63.37,\n",
       " 65.47,\n",
       " 64.74,\n",
       " 66.22,\n",
       " 67.46,\n",
       " 69.12,\n",
       " 68.47,\n",
       " 69.36,\n",
       " 68.8,\n",
       " 67.56,\n",
       " 68.63,\n",
       " 70.38,\n",
       " 70.93,\n",
       " 71.98,\n",
       " 74.51,\n",
       " 73.9,\n",
       " 70.17,\n",
       " 74.62,\n",
       " 86.13,\n",
       " 93.61,\n",
       " 90.81,\n",
       " 92.89,\n",
       " 96.55,\n",
       " 95.22,\n",
       " 97.92,\n",
       " 97.34,\n",
       " 95.74,\n",
       " 92.26,\n",
       " 84.59,\n",
       " 86.19,\n",
       " 84.27,\n",
       " 83.85,\n",
       " 91.42,\n",
       " 90.91,\n",
       " 92.34,\n",
       " 86.19,\n",
       " 86.16,\n",
       " 83.69,\n",
       " 84.62,\n",
       " 82.47,\n",
       " 83.68,\n",
       " 87.29,\n",
       " 89.61,\n",
       " 90.43,\n",
       " 90.9,\n",
       " 89.89,\n",
       " 89.61,\n",
       " 90.11,\n",
       " 88.06,\n",
       " 85.63,\n",
       " 84.91,\n",
       " 86.63,\n",
       " 85.74,\n",
       " 85.14,\n",
       " 89.26,\n",
       " 89.8,\n",
       " 88.15,\n",
       " 89.95,\n",
       " 92.42,\n",
       " 91.78,\n",
       " 93.06,\n",
       " 93.86,\n",
       " 95.86,\n",
       " 96.28,\n",
       " 96.35,\n",
       " 98.7,\n",
       " 96.3,\n",
       " 101.25,\n",
       " 97.15,\n",
       " 96.66,\n",
       " 94.18,\n",
       " 96.83,\n",
       " 97.43,\n",
       " 96.67,\n",
       " 97.59,\n",
       " 97.57,\n",
       " 99.89,\n",
       " 101.85,\n",
       " 98.55,\n",
       " 96.86,\n",
       " 94.05,\n",
       " 90.27,\n",
       " 88.47,\n",
       " 94.53,\n",
       " 93.95,\n",
       " 95.07,\n",
       " 97.71,\n",
       " 95.85,\n",
       " 102.88,\n",
       " 105.32,\n",
       " 102.08,\n",
       " 97.92,\n",
       " 99.22,\n",
       " 95.69,\n",
       " 93.9,\n",
       " 93.61,\n",
       " 96.4,\n",
       " 97.52,\n",
       " 99.11,\n",
       " 98.85,\n",
       " 98.88,\n",
       " 95.59,\n",
       " 96.88,\n",
       " 94.35,\n",
       " 92.84,\n",
       " 93.9,\n",
       " 92.94,\n",
       " 92.5,\n",
       " 93.41,\n",
       " 92.86,\n",
       " 94.31,\n",
       " 92.51,\n",
       " 90.58,\n",
       " 89.9,\n",
       " 88.81,\n",
       " 87.41,\n",
       " 89.22,\n",
       " 87.71,\n",
       " 89.56,\n",
       " 89.93,\n",
       " 90.35,\n",
       " 89.21,\n",
       " 89.4,\n",
       " 89.54,\n",
       " 90.62,\n",
       " 89.7,\n",
       " 90.13,\n",
       " 90.16,\n",
       " 89.93,\n",
       " 92.55,\n",
       " 94.19,\n",
       " 94.52,\n",
       " 96.78,\n",
       " 95.93,\n",
       " 96.52,\n",
       " 96.88,\n",
       " 96.37,\n",
       " 95.63,\n",
       " 92.41,\n",
       " 93.39,\n",
       " 95.6,\n",
       " 98.95,\n",
       " 102.01,\n",
       " 107.8,\n",
       " 111.65,\n",
       " 109.27,\n",
       " 109.78,\n",
       " 109.62,\n",
       " 109.89,\n",
       " 111.03,\n",
       " 112.98,\n",
       " 114.14,\n",
       " 113.38,\n",
       " 113.9,\n",
       " 112.9,\n",
       " 113.79,\n",
       " 115.53,\n",
       " 114.25,\n",
       " 114.51,\n",
       " 115.41,\n",
       " 116.45,\n",
       " 119.46,\n",
       " 119.47,\n",
       " 120.68,\n",
       " 127.6,\n",
       " 127.87,\n",
       " 130.27,\n",
       " 129.47,\n",
       " 132.87,\n",
       " 138.5,\n",
       " 143.86,\n",
       " 143.81,\n",
       " 139.99,\n",
       " 145.32,\n",
       " 146.41,\n",
       " 139.64,\n",
       " 143.01,\n",
       " 141.11,\n",
       " 141.23,\n",
       " 139.04,\n",
       " 137.26,\n",
       " 138.58,\n",
       " 140.0,\n",
       " 143.21,\n",
       " 143.78,\n",
       " 144.51,\n",
       " 144.71,\n",
       " 148.48,\n",
       " 151.9,\n",
       " 150.85,\n",
       " 146.21,\n",
       " 146.93,\n",
       " 145.48,\n",
       " 147.71,\n",
       " 145.62,\n",
       " 147.62,\n",
       " 147.97,\n",
       " 146.53,\n",
       " 145.75,\n",
       " 149.28,\n",
       " 150.29,\n",
       " 150.44,\n",
       " 149.62,\n",
       " 154.8,\n",
       " 155.84,\n",
       " 156.81,\n",
       " 151.05,\n",
       " 147.78,\n",
       " 147.9,\n",
       " 148.32,\n",
       " 146.6,\n",
       " 143.74,\n",
       " 145.66,\n",
       " 149.45,\n",
       " 148.5,\n",
       " 148.72,\n",
       " 146.03,\n",
       " 145.48,\n",
       " 145.64,\n",
       " 142.7,\n",
       " 141.88,\n",
       " 144.72,\n",
       " 141.86,\n",
       " 142.68,\n",
       " 142.41,\n",
       " 139.86,\n",
       " 139.86,\n",
       " 136.87,\n",
       " 139.65,\n",
       " 141.14,\n",
       " 141.15,\n",
       " 141.65,\n",
       " 144.08,\n",
       " 143.49,\n",
       " 142.86,\n",
       " 142.98,\n",
       " 144.08,\n",
       " 143.41,\n",
       " 147.29,\n",
       " 147.55,\n",
       " 149.4,\n",
       " 154.72,\n",
       " 155.68,\n",
       " 151.35,\n",
       " 151.16,\n",
       " 149.95,\n",
       " 151.74,\n",
       " 153.8,\n",
       " 155.79,\n",
       " 155.53,\n",
       " 157.52,\n",
       " 156.98,\n",
       " 156.81,\n",
       " 152.85,\n",
       " 154.66,\n",
       " 158.07,\n",
       " 159.18,\n",
       " 155.34,\n",
       " 155.2,\n",
       " 156.22,\n",
       " 156.34,\n",
       " 155.17,\n",
       " 152.9,\n",
       " 150.33,\n",
       " 148.57,\n",
       " 147.92,\n",
       " 152.35,\n",
       " 151.49,\n",
       " 154.2,\n",
       " 151.45,\n",
       " 169.78,\n",
       " 174.15,\n",
       " 173.28,\n",
       " 177.54,\n",
       " 176.35,\n",
       " 178.91,\n",
       " 185.88,\n",
       " 189.5,\n",
       " 189.65,\n",
       " 192.78,\n",
       " 195.02,\n",
       " 197.32,\n",
       " 194.76,\n",
       " 189.39,\n",
       " 195.35,\n",
       " 195.0,\n",
       " 198.29,\n",
       " 196.2,\n",
       " 198.88,\n",
       " 201.52,\n",
       " 199.9,\n",
       " 204.48,\n",
       " 208.03,\n",
       " 211.22,\n",
       " 214.1,\n",
       " 211.53,\n",
       " 201.57,\n",
       " 202.25,\n",
       " 206.84,\n",
       " 208.64,\n",
       " 202.72,\n",
       " 202.07,\n",
       " 201.91,\n",
       " 205.12,\n",
       " 204.4,\n",
       " 206.1,\n",
       " 208.54,\n",
       " 209.27,\n",
       " 211.05,\n",
       " 214.86,\n",
       " 212.09,\n",
       " 214.66,\n",
       " 212.95,\n",
       " 215.8,\n",
       " 215.25,\n",
       " 212.11,\n",
       " 213.13,\n",
       " 209.86,\n",
       " 207.22,\n",
       " 217.4,\n",
       " 222.4,\n",
       " 225.39,\n",
       " 232.6,\n",
       " 233.22,\n",
       " 234.65,\n",
       " 235.58,\n",
       " 231.58,\n",
       " 232.89,\n",
       " 233.32,\n",
       " 222.23,\n",
       " 218.0,\n",
       " 199.53,\n",
       " 213.54,\n",
       " 221.29,\n",
       " 216.28,\n",
       " 216.92,\n",
       " 216.53,\n",
       " 213.2,\n",
       " 216.11,\n",
       " 200.69,\n",
       " 197.82,\n",
       " 190.59,\n",
       " 192.36,\n",
       " 183.78,\n",
       " 184.36,\n",
       " 179.21,\n",
       " 181.12,\n",
       " 172.68,\n",
       " 171.49,\n",
       " 171.02,\n",
       " 183.05,\n",
       " 184.19,\n",
       " 183.11,\n",
       " 182.56,\n",
       " 188.85,\n",
       " 188.51,\n",
       " 194.99,\n",
       " 181.13,\n",
       " 182.22,\n",
       " 188.04,\n",
       " 188.9,\n",
       " 183.87,\n",
       " 182.04,\n",
       " 176.76,\n",
       " 171.33,\n",
       " 168.58,\n",
       " 168.36,\n",
       " 175.4,\n",
       " 172.08,\n",
       " 169.22,\n",
       " 169.73,\n",
       " 173.92,\n",
       " 169.79,\n",
       " 169.94,\n",
       " 170.77,\n",
       " 182.72,\n",
       " 184.66,\n",
       " 188.41,\n",
       " 197.29,\n",
       " 194.03,\n",
       " 194.8,\n",
       " 194.66,\n",
       " 201.97,\n",
       " 203.79,\n",
       " 205.38,\n",
       " 202.88,\n",
       " 207.98,\n",
       " 204.63,\n",
       " 204.27,\n",
       " 200.88,\n",
       " 203.21,\n",
       " 201.92,\n",
       " 205.04,\n",
       " 207.29,\n",
       " 218.33,\n",
       " 220.03,\n",
       " 213.37,\n",
       " 212.77,\n",
       " 209.8,\n",
       " 208.76,\n",
       " 199.25,\n",
       " 197.2,\n",
       " 196.89,\n",
       " 197.18,\n",
       " 196.95,\n",
       " 197.19,\n",
       " 204.2,\n",
       " 201.29,\n",
       " 193.31,\n",
       " 186.88,\n",
       " 187.91,\n",
       " 185.46,\n",
       " 187.06,\n",
       " 185.31,\n",
       " 184.82,\n",
       " 185.29,\n",
       " 187.6,\n",
       " 190.43,\n",
       " 191.3,\n",
       " 190.48,\n",
       " 185.78,\n",
       " 185.72,\n",
       " 191.12,\n",
       " 189.53,\n",
       " 187.03,\n",
       " 194.8,\n",
       " 193.06,\n",
       " 196.45,\n",
       " 193.09,\n",
       " 190.58,\n",
       " 193.07,\n",
       " 192.0,\n",
       " 195.3,\n",
       " 195.15,\n",
       " 193.88,\n",
       " 193.39,\n",
       " 200.86,\n",
       " 199.78,\n",
       " 202.23,\n",
       " 201.91,\n",
       " 200.96,\n",
       " 202.85,\n",
       " 208.7,\n",
       " 209.46,\n",
       " 211.39,\n",
       " 210.52,\n",
       " 211.38,\n",
       " 210.01,\n",
       " 208.89,\n",
       " 212.07,\n",
       " 208.42,\n",
       " 204.21,\n",
       " 201.55,\n",
       " 203.74,\n",
       " 201.32,\n",
       " 199.3,\n",
       " 193.37,\n",
       " 194.86,\n",
       " 195.25,\n",
       " 194.49,\n",
       " 192.56,\n",
       " 191.01,\n",
       " 193.87,\n",
       " 193.11,\n",
       " 187.57,\n",
       " 183.43,\n",
       " 187.51,\n",
       " 186.74,\n",
       " 188.79,\n",
       " 190.31,\n",
       " 188.28,\n",
       " 186.91,\n",
       " 184.07,\n",
       " 184.53,\n",
       " 190.29,\n",
       " 193.67,\n",
       " 192.71,\n",
       " 191.49,\n",
       " 188.46,\n",
       " 188.96,\n",
       " 186.53,\n",
       " 186.68,\n",
       " 186.44,\n",
       " 190.28,\n",
       " 189.29,\n",
       " 190.18,\n",
       " 189.08,\n",
       " 189.11,\n",
       " 191.99,\n",
       " 189.88,\n",
       " 189.06,\n",
       " 188.74,\n",
       " 191.85,\n",
       " 195.75,\n",
       " 203.08,\n",
       " 201.79,\n",
       " 204.74,\n",
       " 207.14,\n",
       " 201.7,\n",
       " 198.3,\n",
       " 203.22,\n",
       " 201.69,\n",
       " 201.79,\n",
       " 203.23,\n",
       " 201.26,\n",
       " 201.59,\n",
       " 200.75,\n",
       " 200.52,\n",
       " 201.82,\n",
       " 207.64,\n",
       " 205.7,\n",
       " 210.04,\n",
       " 214.29,\n",
       " 213.11,\n",
       " 213.04,\n",
       " 213.51,\n",
       " 213.44,\n",
       " 210.66,\n",
       " 210.11,\n",
       " 209.44,\n",
       " 212.82,\n",
       " 229.61,\n",
       " 240.15,\n",
       " 236.42,\n",
       " 243.06,\n",
       " 242.31,\n",
       " 237.36,\n",
       " 238.05,\n",
       " 237.96,\n",
       " 233.52,\n",
       " 234.72,\n",
       " 235.66,\n",
       " 238.24,\n",
       " 236.05,\n",
       " 237.26,\n",
       " 236.08,\n",
       " 236.54,\n",
       " 240.27,\n",
       " 244.41,\n",
       " 245.72,\n",
       " 247.7,\n",
       " 249.15,\n",
       " 247.28,\n",
       " 242.13,\n",
       " 244.51,\n",
       " 242.08,\n",
       " 242.16,\n",
       " 240.16,\n",
       " 242.18,\n",
       " 243.26,\n",
       " 244.11,\n",
       " 241.08,\n",
       " 241.81,\n",
       " 241.72,\n",
       " 240.65,\n",
       " 239.26,\n",
       " 240.82,\n",
       " 239.91,\n",
       " 231.17,\n",
       " 234.08,\n",
       " 231.22,\n",
       " 227.87,\n",
       " 227.56,\n",
       " 228.54,\n",
       " 233.78,\n",
       " 231.05,\n",
       " 230.01,\n",
       " 233.56,\n",
       " 241.39,\n",
       " 243.35,\n",
       " 241.55,\n",
       " 242.51,\n",
       " 244.49,\n",
       " 249.61,\n",
       " 248.39,\n",
       " 243.67,\n",
       " 244.63,\n",
       " 240.18,\n",
       " 239.29,\n",
       " 249.28,\n",
       " 243.8,\n",
       " 247.67,\n",
       " 245.99,\n",
       " 246.91,\n",
       " 240.63,\n",
       " 240.51,\n",
       " 233.35,\n",
       " 235.5,\n",
       " 234.77,\n",
       " 235.28,\n",
       " 230.71,\n",
       " 228.92,\n",
       " 229.32,\n",
       " 232.73,\n",
       " 230.5,\n",
       " 234.74,\n",
       " 235.81,\n",
       " 237.69,\n",
       " 237.69,\n",
       " 235.07,\n",
       " 232.23,\n",
       " 224.16,\n",
       " 224.5,\n",
       " 223.89,\n",
       " 219.12,\n",
       " 220.25,\n",
       " 228.55,\n",
       " 227.59,\n",
       " 227.13,\n",
       " 226.25,\n",
       " 227.15,\n",
       " 221.29,\n",
       " 223.78,\n",
       " 222.87,\n",
       " 220.2,\n",
       " 223.39,\n",
       " 222.42,\n",
       " 228.05,\n",
       " 230.79,\n",
       " 230.68,\n",
       " 232.27,\n",
       " 231.58,\n",
       " 230.71,\n",
       " 230.23,\n",
       " 228.85,\n",
       " 229.04,\n",
       " 236.06,\n",
       " 235.27,\n",
       " 235.52,\n",
       " 233.87,\n",
       " 233.02,\n",
       " 232.03,\n",
       " 233.46,\n",
       " 232.91,\n",
       " 236.9,\n",
       " 236.16,\n",
       " 237.77,\n",
       " 235.59,\n",
       " 241.0,\n",
       " 239.3,\n",
       " 238.53,\n",
       " 238.76,\n",
       " 240.35,\n",
       " 239.27,\n",
       " 235.45,\n",
       " 234.27,\n",
       " 232.66,\n",
       " 236.38,\n",
       " 235.32,\n",
       " 233.4,\n",
       " 233.17,\n",
       " 234.39,\n",
       " 230.5,\n",
       " 233.14,\n",
       " 230.66,\n",
       " 228.77,\n",
       " 236.07,\n",
       " 235.24,\n",
       " 234.92,\n",
       " 235.06,\n",
       " 237.69,\n",
       " 236.75,\n",
       " 236.93,\n",
       " 241.52,\n",
       " 243.31,\n",
       " 249.05,\n",
       " 248.71,\n",
       " 249.95,\n",
       " 248.53,\n",
       " 245.51,\n",
       " 249.77,\n",
       " 248.71,\n",
       " 247.47,\n",
       " 242.98,\n",
       " 231.86,\n",
       " 236.19,\n",
       " 237.46,\n",
       " 235.35,\n",
       " 228.28,\n",
       " 222.08,\n",
       " 223.63,\n",
       " 216.13,\n",
       " 216.46,\n",
       " 206.6,\n",
       " 219.7,\n",
       " 219.87,\n",
       " 221.28,\n",
       " 218.74,\n",
       " 209.73,\n",
       " 219.36,\n",
       " 215.78,\n",
       " 216.56,\n",
       " 230.05,\n",
       " 225.16,\n",
       " 228.87,\n",
       " 221.82,\n",
       " 218.82,\n",
       " 220.01,\n",
       " 232.62,\n",
       " 232.62,\n",
       " 227.33,\n",
       " 235.31,\n",
       " 238.17,\n",
       " 233.67,\n",
       " 231.86,\n",
       " 234.3,\n",
       " 228.5,\n",
       " 225.6,\n",
       " 223.2,\n",
       " 227.29,\n",
       " 224.55,\n",
       " 240.42,\n",
       " 234.17,\n",
       " 238.32,\n",
       " 244.37,\n",
       " 237.57,\n",
       " 245.74,\n",
       " 238.32,\n",
       " 241.31,\n",
       " 241.11,\n",
       " 236.64,\n",
       " 233.7,\n",
       " 231.27,\n",
       " 239.69,\n",
       " 242.93,\n",
       " 239.32,\n",
       " 247.26,\n",
       " 249.76,\n",
       " 248.9,\n",
       " 245.0,\n",
       " 242.26,\n",
       " 243.02,\n",
       " 245.05,\n",
       " 241.26,\n",
       " 236.84,\n",
       " 234.06,\n",
       " 236.65,\n",
       " 231.41,\n",
       " 232.39,\n",
       " 231.97,\n",
       " 224.9,\n",
       " 221.9,\n",
       " 209.76,\n",
       " 209.12,\n",
       " 206.87,\n",
       " 216.66,\n",
       " 218.61,\n",
       " 216.71,\n",
       " 221.24,\n",
       " 207.04,\n",
       " 219.32,\n",
       " 224.35,\n",
       " 214.85,\n",
       " 214.42,\n",
       " 217.34,\n",
       " 219.58,\n",
       " 215.3,\n",
       " 190.31,\n",
       " 200.06,\n",
       " 205.65,\n",
       " 195.05,\n",
       " 193.26,\n",
       " 185.42,\n",
       " 172.83,\n",
       " 168.89,\n",
       " 164.33,\n",
       " 165.83,\n",
       " 190.32,\n",
       " 181.17,\n",
       " 169.42,\n",
       " 176.33,\n",
       " 186.08,\n",
       " 189.47,\n",
       " 181.19,\n",
       " 177.66,\n",
       " 175.98,\n",
       " 169.48,\n",
       " 164.58,\n",
       " 184.19,\n",
       " 178.82,\n",
       " 179.67,\n",
       " 179.5,\n",
       " 173.07,\n",
       " 183.29,\n",
       " 170.95,\n",
       " 165.44,\n",
       " 165.4,\n",
       " 159.23,\n",
       " 155.57,\n",
       " 145.35,\n",
       " 155.88,\n",
       " 154.85,\n",
       " 149.91,\n",
       " 148.56,\n",
       " 139.95,\n",
       " 129.65,\n",
       " 131.08,\n",
       " 128.59,\n",
       " 140.88,\n",
       " 145.9,\n",
       " 146.33,\n",
       " 132.86,\n",
       " 137.42,\n",
       " 139.58,\n",
       " 137.03,\n",
       " 141.85,\n",
       " 150.9,\n",
       " 152.83,\n",
       " 154.26,\n",
       " 149.96,\n",
       " 157.72,\n",
       " 155.18,\n",
       " 162.48,\n",
       " 157.46,\n",
       " 154.98,\n",
       " 154.93,\n",
       " 148.41,\n",
       " 148.86,\n",
       " 151.32,\n",
       " 150.03,\n",
       " 148.56,\n",
       " 151.4,\n",
       " 153.67,\n",
       " 160.5,\n",
       " 163.86,\n",
       " 166.86,\n",
       " 160.84,\n",
       " 162.43,\n",
       " 157.38,\n",
       " 156.19,\n",
       " 157.0,\n",
       " 150.33,\n",
       " 149.35,\n",
       " 149.69,\n",
       " 141.23,\n",
       " 151.39,\n",
       " 153.1,\n",
       " 162.19,\n",
       " 161.77,\n",
       " 165.57,\n",
       " 174.16,\n",
       " 171.49,\n",
       " 169.1,\n",
       " 170.11,\n",
       " 170.05,\n",
       " 171.33,\n",
       " 176.68,\n",
       " 185.45,\n",
       " 189.2,\n",
       " 179.08,\n",
       " 178.84,\n",
       " 181.34,\n",
       " 178.66,\n",
       " 171.16,\n",
       " 176.38,\n",
       " 171.15,\n",
       " 173.05,\n",
       " 164.86,\n",
       " 172.55,\n",
       " 170.65,\n",
       " 168.42,\n",
       " 168.83,\n",
       " 163.42,\n",
       " 162.58,\n",
       " 159.3,\n",
       " 152.67,\n",
       " 154.13,\n",
       " 145.3,\n",
       " 153.93,\n",
       " 158.8,\n",
       " 161.6,\n",
       " 162.05,\n",
       " 159.69,\n",
       " 167.5,\n",
       " 166.38,\n",
       " 164.81,\n",
       " 164.91,\n",
       " 174.13,\n",
       " 173.41,\n",
       " 171.86,\n",
       " 176.47,\n",
       " 173.68,\n",
       " 171.17,\n",
       " 173.86,\n",
       " 176.87,\n",
       " 181.07,\n",
       " 184.71,\n",
       " 183.94,\n",
       " 179.15,\n",
       " 180.82,\n",
       " 186.06,\n",
       " 188.87,\n",
       " 184.27,\n",
       " 189.56,\n",
       " 194.18,\n",
       " 195.92,\n",
       " 189.46,\n",
       " 190.54,\n",
       " 191.74,\n",
       " 192.15,\n",
       " 194.55,\n",
       " 192.78,\n",
       " 191.66,\n",
       " 195.54,\n",
       " 197.79,\n",
       " 196.65,\n",
       " 200.79,\n",
       " 201.29,\n",
       " 201.53,\n",
       " 198.11,\n",
       " 203.46,\n",
       " 203.79,\n",
       " 199.31,\n",
       " 194.58,\n",
       " 193.56,\n",
       " 194.8,\n",
       " 198.22,\n",
       " 199.24,\n",
       " 198.39,\n",
       " 198.05,\n",
       " 196.55,\n",
       " 201.98,\n",
       " 202.58,\n",
       " 204.99,\n",
       " 208.41,\n",
       " 213.07,\n",
       " 213.99,\n",
       " 215.61,\n",
       " 219.92,\n",
       " 221.94,\n",
       " 219.17,\n",
       " 217.59,\n",
       " 216.08,\n",
       " 214.29,\n",
       " 212.21,\n",
       " 208.18,\n",
       " 207.79,\n",
       " 207.37,\n",
       " 206.82,\n",
       " 209.83,\n",
       " 203.47,\n",
       " 202.64,\n",
       " 204.44,\n",
       " 207.68,\n",
       " 212.45,\n",
       " 211.86,\n",
       " 210.58,\n",
       " 209.29,\n",
       " 204.04,\n",
       " 204.6,\n",
       " 198.12,\n",
       " 201.04,\n",
       " 204.99,\n",
       " 206.99,\n",
       " 211.94,\n",
       " 212.13,\n",
       " 218.87,\n",
       " 221.08,\n",
       " 214.91,\n",
       " 214.87,\n",
       " 213.74,\n",
       " 213.63,\n",
       " 218.45,\n",
       " 223.14,\n",
       " 222.18,\n",
       " 219.71,\n",
       " 217.9,\n",
       " 222.6,\n",
       " 221.3,\n",
       " 225.88,\n",
       " 226.64,\n",
       " 225.34,\n",
       " 224.95,\n",
       " ...]"
      ]
     },
     "execution_count": 143,
     "metadata": {},
     "output_type": "execute_result"
    }
   ],
   "source": [
    "okay"
   ]
  },
  {
   "cell_type": "code",
   "execution_count": 147,
   "metadata": {},
   "outputs": [
    {
     "data": {
      "text/plain": [
       "1137"
      ]
     },
     "execution_count": 147,
     "metadata": {},
     "output_type": "execute_result"
    }
   ],
   "source": [
    "a = list(okay)\n",
    "len(a)"
   ]
  },
  {
   "cell_type": "code",
   "execution_count": null,
   "metadata": {},
   "outputs": [],
   "source": []
  }
 ],
 "metadata": {
  "kernelspec": {
   "display_name": "Python 3",
   "language": "python",
   "name": "python3"
  },
  "language_info": {
   "codemirror_mode": {
    "name": "ipython",
    "version": 3
   },
   "file_extension": ".py",
   "mimetype": "text/x-python",
   "name": "python",
   "nbconvert_exporter": "python",
   "pygments_lexer": "ipython3",
   "version": "3.11.9"
  }
 },
 "nbformat": 4,
 "nbformat_minor": 4
}
