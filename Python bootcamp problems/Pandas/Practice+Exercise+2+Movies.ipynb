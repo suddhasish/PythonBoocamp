{
 "cells": [
  {
   "cell_type": "markdown",
   "metadata": {},
   "source": [
    "## Practice Exercise 2"
   ]
  },
  {
   "cell_type": "markdown",
   "metadata": {},
   "source": [
    "In this assignment, you will try to find some interesting insights into a few movies released between 1916 and 2016, using Python. You will have to download a movie dataset, write Python code to explore the data, gain insights into the movies, actors, directors, and collections, and submit the code."
   ]
  },
  {
   "cell_type": "markdown",
   "metadata": {},
   "source": [
    "#### Some tips before starting the assignment\n",
    "\n",
    "1. Identify the task to be performed correctly, and only then proceed to write the required code. Don’t perform any incorrect analysis or look for information that isn’t required for the assignment.\n",
    "2. In some cases, the variable names have already been assigned, and you just need to write code against them. In other cases, the names to be given are mentioned in the instructions. We strongly advise you to use the mentioned names only.\n",
    "3. Always keep inspecting your data frame after you have performed a particular set of operations.\n",
    "4. There are some checkpoints given in the IPython notebook provided. They're just useful pieces of information you can use to check if the result you have obtained after performing a particular task is correct or not.\n",
    "5. Note that you will be asked to refer to documentation for solving some of the questions. That is done on purpose for you to learn new commands and also how to use the documentation."
   ]
  },
  {
   "cell_type": "code",
   "execution_count": 1,
   "metadata": {},
   "outputs": [],
   "source": [
    "# Import the numpy and pandas packages\n",
    "\n",
    "import numpy as np\n",
    "import pandas as pd"
   ]
  },
  {
   "cell_type": "markdown",
   "metadata": {},
   "source": [
    "### Task 1: Reading and Inspection\n",
    "\n",
    "**Subtask 1.1: Import and read**\n",
    "\n",
    "Import and read the movie database. Store it in a variable called `movies`."
   ]
  },
  {
   "cell_type": "code",
   "execution_count": 80,
   "metadata": {},
   "outputs": [
    {
     "data": {
      "text/plain": [
       "(3853, 28)"
      ]
     },
     "execution_count": 80,
     "metadata": {},
     "output_type": "execute_result"
    }
   ],
   "source": [
    "# Write your code for importing the csv file here\n",
    "movies = pd.read_csv(\"Movies.csv\")\n",
    "movies.shape"
   ]
  },
  {
   "cell_type": "markdown",
   "metadata": {},
   "source": [
    "**Subtask 1.2: Inspect the dataframe**\n",
    "\n",
    "Inspect the dataframe's columns, shapes, variable types etc."
   ]
  },
  {
   "cell_type": "code",
   "execution_count": 81,
   "metadata": {},
   "outputs": [
    {
     "name": "stdout",
     "output_type": "stream",
     "text": [
      "<class 'pandas.core.frame.DataFrame'>\n",
      "RangeIndex: 3853 entries, 0 to 3852\n",
      "Data columns (total 28 columns):\n",
      " #   Column                     Non-Null Count  Dtype  \n",
      "---  ------                     --------------  -----  \n",
      " 0   color                      3851 non-null   object \n",
      " 1   director_name              3853 non-null   object \n",
      " 2   num_critic_for_reviews     3852 non-null   float64\n",
      " 3   duration                   3852 non-null   float64\n",
      " 4   director_facebook_likes    3853 non-null   float64\n",
      " 5   actor_3_facebook_likes     3847 non-null   float64\n",
      " 6   actor_2_name               3852 non-null   object \n",
      " 7   actor_1_facebook_likes     3853 non-null   float64\n",
      " 8   gross                      3853 non-null   float64\n",
      " 9   genres                     3853 non-null   object \n",
      " 10  actor_1_name               3853 non-null   object \n",
      " 11  movie_title                3853 non-null   object \n",
      " 12  num_voted_users            3853 non-null   int64  \n",
      " 13  cast_total_facebook_likes  3853 non-null   int64  \n",
      " 14  actor_3_name               3847 non-null   object \n",
      " 15  facenumber_in_poster       3847 non-null   float64\n",
      " 16  plot_keywords              3823 non-null   object \n",
      " 17  movie_imdb_link            3853 non-null   object \n",
      " 18  num_user_for_reviews       3853 non-null   float64\n",
      " 19  language                   3849 non-null   object \n",
      " 20  country                    3853 non-null   object \n",
      " 21  content_rating             3805 non-null   object \n",
      " 22  budget                     3853 non-null   float64\n",
      " 23  title_year                 3853 non-null   float64\n",
      " 24  actor_2_facebook_likes     3852 non-null   float64\n",
      " 25  imdb_score                 3853 non-null   float64\n",
      " 26  aspect_ratio               3781 non-null   float64\n",
      " 27  movie_facebook_likes       3853 non-null   int64  \n",
      "dtypes: float64(13), int64(3), object(12)\n",
      "memory usage: 843.0+ KB\n"
     ]
    }
   ],
   "source": [
    "# Write your code for inspection here\n",
    "movies.info()\n"
   ]
  },
  {
   "cell_type": "code",
   "execution_count": 82,
   "metadata": {},
   "outputs": [
    {
     "data": {
      "text/plain": [
       "12"
      ]
     },
     "execution_count": 82,
     "metadata": {},
     "output_type": "execute_result"
    }
   ],
   "source": [
    "(movies.isnull().sum() > 0).sum()"
   ]
  },
  {
   "cell_type": "markdown",
   "metadata": {},
   "source": [
    "#### <font color='red'>Question 1: How many rows and columns are present in the dataframe? </font>\n",
    "-  <font color='red'>(3821, 26)</font>\n",
    "-  <font color='red'>(3879, 28)</font>\n",
    "-  <font color='red'>(3853, 28)</font>\n",
    "-  <font color='red'>(3866, 26)</font>"
   ]
  },
  {
   "cell_type": "markdown",
   "metadata": {},
   "source": [
    "#### <font color='red'>Question 2: How many columns have null values present in them? Try writing a code for this instead of counting them manually.</font>\n",
    "\n",
    "-  <font color='red'>3</font>\n",
    "-  <font color='red'>6</font>\n",
    "-  <font color='red'>9</font>\n",
    "-  <font color='red'>12</font>"
   ]
  },
  {
   "cell_type": "markdown",
   "metadata": {},
   "source": [
    "### Task 2: Cleaning the Data\n",
    "\n",
    "**Subtask 2.1: Drop unecessary columns**\n",
    "\n",
    "For this assignment, you will mostly be analyzing the movies with respect to the ratings, gross collection, popularity of movies, etc. So many of the columns in this dataframe are not required. So it is advised to drop the following columns.\n",
    "-  color\n",
    "-  director_facebook_likes\n",
    "-  actor_1_facebook_likes\n",
    "-  actor_2_facebook_likes\n",
    "-  actor_3_facebook_likes\n",
    "-  actor_2_name\n",
    "-  cast_total_facebook_likes\n",
    "-  actor_3_name\n",
    "-  duration\n",
    "-  facenumber_in_poster\n",
    "-  content_rating\n",
    "-  country\n",
    "-  movie_imdb_link\n",
    "-  aspect_ratio\n",
    "-  plot_keywords"
   ]
  },
  {
   "cell_type": "code",
   "execution_count": 83,
   "metadata": {},
   "outputs": [],
   "source": [
    "# Check the 'drop' function in the Pandas library - dataframe.drop(list_of_unnecessary_columns, axis = )\n",
    "# Write your code for dropping the columns here. It is advised to keep inspecting the dataframe after each set of operations\n",
    "\n",
    "movies.drop(['color','director_facebook_likes','actor_1_facebook_likes','actor_2_facebook_likes','actor_3_facebook_likes','actor_2_name','cast_total_facebook_likes','actor_3_name','duration','facenumber_in_poster','content_rating','country','movie_imdb_link','aspect_ratio','plot_keywords'],inplace=True,axis=1)"
   ]
  },
  {
   "cell_type": "code",
   "execution_count": 50,
   "metadata": {},
   "outputs": [
    {
     "data": {
      "text/plain": [
       "(3853, 13)"
      ]
     },
     "execution_count": 50,
     "metadata": {},
     "output_type": "execute_result"
    }
   ],
   "source": [
    "movies.shape"
   ]
  },
  {
   "cell_type": "markdown",
   "metadata": {},
   "source": [
    "#### <font color='red'>Question 3: What is the count of columns in the new dataframe? </font>\n",
    "-  <font color='red'>10</font>\n",
    "-  <font color='red'>13</font>\n",
    "-  <font color='red'>15</font>\n",
    "-  <font color='red'>17</font>"
   ]
  },
  {
   "cell_type": "markdown",
   "metadata": {},
   "source": [
    "**Subtask 2.2: Inspect Null values**\n",
    "\n",
    "As you have seen above, there are null values in multiple columns of the dataframe 'movies'. Find out the percentage of null values in each column of the dataframe 'movies'. "
   ]
  },
  {
   "cell_type": "code",
   "execution_count": 84,
   "metadata": {},
   "outputs": [
    {
     "data": {
      "text/plain": [
       "director_name             0.00\n",
       "num_critic_for_reviews    0.03\n",
       "gross                     0.00\n",
       "genres                    0.00\n",
       "actor_1_name              0.00\n",
       "movie_title               0.00\n",
       "num_voted_users           0.00\n",
       "num_user_for_reviews      0.00\n",
       "language                  0.10\n",
       "budget                    0.00\n",
       "title_year                0.00\n",
       "imdb_score                0.00\n",
       "movie_facebook_likes      0.00\n",
       "dtype: float64"
      ]
     },
     "execution_count": 84,
     "metadata": {},
     "output_type": "execute_result"
    }
   ],
   "source": [
    "# Write you code here\n",
    "movies.isnull().sum() #mycode\n",
    "round(100*(movies.isnull().sum()/len(movies.index)), 2)"
   ]
  },
  {
   "cell_type": "markdown",
   "metadata": {},
   "source": [
    "#### <font color='red'>Question 4: Which column has the highest percentage of null values? </font>\n",
    "-  <font color='red'>language</font>\n",
    "-  <font color='red'>genres</font>\n",
    "-  <font color='red'>num_critic_for_reviews</font>\n",
    "-  <font color='red'>imdb_score</font>"
   ]
  },
  {
   "cell_type": "markdown",
   "metadata": {},
   "source": [
    "**Subtask 2.3: Fill NaN values**\n",
    "\n",
    "You might notice that the `language` column has some NaN values. Here, on inspection, you will see that it is safe to replace all the missing values with `'English'`."
   ]
  },
  {
   "cell_type": "code",
   "execution_count": 96,
   "metadata": {},
   "outputs": [
    {
     "data": {
      "text/html": [
       "<div>\n",
       "<style scoped>\n",
       "    .dataframe tbody tr th:only-of-type {\n",
       "        vertical-align: middle;\n",
       "    }\n",
       "\n",
       "    .dataframe tbody tr th {\n",
       "        vertical-align: top;\n",
       "    }\n",
       "\n",
       "    .dataframe thead th {\n",
       "        text-align: right;\n",
       "    }\n",
       "</style>\n",
       "<table border=\"1\" class=\"dataframe\">\n",
       "  <thead>\n",
       "    <tr style=\"text-align: right;\">\n",
       "      <th></th>\n",
       "      <th>num_critic_for_reviews</th>\n",
       "      <th>gross</th>\n",
       "      <th>num_voted_users</th>\n",
       "      <th>num_user_for_reviews</th>\n",
       "      <th>budget</th>\n",
       "      <th>title_year</th>\n",
       "      <th>imdb_score</th>\n",
       "      <th>movie_facebook_likes</th>\n",
       "    </tr>\n",
       "  </thead>\n",
       "  <tbody>\n",
       "    <tr>\n",
       "      <th>count</th>\n",
       "      <td>3674.000000</td>\n",
       "      <td>3.675000e+03</td>\n",
       "      <td>3.675000e+03</td>\n",
       "      <td>3675.000000</td>\n",
       "      <td>3.675000e+03</td>\n",
       "      <td>3675.000000</td>\n",
       "      <td>3675.000000</td>\n",
       "      <td>3675.000000</td>\n",
       "    </tr>\n",
       "    <tr>\n",
       "      <th>mean</th>\n",
       "      <td>164.203321</td>\n",
       "      <td>5.314192e+07</td>\n",
       "      <td>1.044872e+05</td>\n",
       "      <td>332.371429</td>\n",
       "      <td>3.893715e+07</td>\n",
       "      <td>2003.028571</td>\n",
       "      <td>6.423401</td>\n",
       "      <td>9261.533061</td>\n",
       "    </tr>\n",
       "    <tr>\n",
       "      <th>std</th>\n",
       "      <td>124.938248</td>\n",
       "      <td>7.018287e+07</td>\n",
       "      <td>1.521596e+05</td>\n",
       "      <td>411.251788</td>\n",
       "      <td>4.445843e+07</td>\n",
       "      <td>9.992403</td>\n",
       "      <td>1.049111</td>\n",
       "      <td>21630.049351</td>\n",
       "    </tr>\n",
       "    <tr>\n",
       "      <th>min</th>\n",
       "      <td>1.000000</td>\n",
       "      <td>1.620000e+02</td>\n",
       "      <td>5.000000e+00</td>\n",
       "      <td>1.000000</td>\n",
       "      <td>2.180000e+02</td>\n",
       "      <td>1920.000000</td>\n",
       "      <td>1.600000</td>\n",
       "      <td>0.000000</td>\n",
       "    </tr>\n",
       "    <tr>\n",
       "      <th>25%</th>\n",
       "      <td>73.000000</td>\n",
       "      <td>8.724046e+06</td>\n",
       "      <td>1.799000e+04</td>\n",
       "      <td>105.000000</td>\n",
       "      <td>1.000000e+07</td>\n",
       "      <td>1999.000000</td>\n",
       "      <td>5.800000</td>\n",
       "      <td>0.000000</td>\n",
       "    </tr>\n",
       "    <tr>\n",
       "      <th>50%</th>\n",
       "      <td>134.000000</td>\n",
       "      <td>3.052357e+07</td>\n",
       "      <td>5.285200e+04</td>\n",
       "      <td>207.000000</td>\n",
       "      <td>2.500000e+07</td>\n",
       "      <td>2005.000000</td>\n",
       "      <td>6.500000</td>\n",
       "      <td>215.000000</td>\n",
       "    </tr>\n",
       "    <tr>\n",
       "      <th>75%</th>\n",
       "      <td>222.000000</td>\n",
       "      <td>6.772736e+07</td>\n",
       "      <td>1.269115e+05</td>\n",
       "      <td>396.500000</td>\n",
       "      <td>5.000000e+07</td>\n",
       "      <td>2010.000000</td>\n",
       "      <td>7.100000</td>\n",
       "      <td>11000.000000</td>\n",
       "    </tr>\n",
       "    <tr>\n",
       "      <th>max</th>\n",
       "      <td>813.000000</td>\n",
       "      <td>7.605058e+08</td>\n",
       "      <td>1.689764e+06</td>\n",
       "      <td>5060.000000</td>\n",
       "      <td>6.000000e+08</td>\n",
       "      <td>2016.000000</td>\n",
       "      <td>9.300000</td>\n",
       "      <td>349000.000000</td>\n",
       "    </tr>\n",
       "  </tbody>\n",
       "</table>\n",
       "</div>"
      ],
      "text/plain": [
       "       num_critic_for_reviews         gross  num_voted_users  \\\n",
       "count             3674.000000  3.675000e+03     3.675000e+03   \n",
       "mean               164.203321  5.314192e+07     1.044872e+05   \n",
       "std                124.938248  7.018287e+07     1.521596e+05   \n",
       "min                  1.000000  1.620000e+02     5.000000e+00   \n",
       "25%                 73.000000  8.724046e+06     1.799000e+04   \n",
       "50%                134.000000  3.052357e+07     5.285200e+04   \n",
       "75%                222.000000  6.772736e+07     1.269115e+05   \n",
       "max                813.000000  7.605058e+08     1.689764e+06   \n",
       "\n",
       "       num_user_for_reviews        budget   title_year   imdb_score  \\\n",
       "count           3675.000000  3.675000e+03  3675.000000  3675.000000   \n",
       "mean             332.371429  3.893715e+07  2003.028571     6.423401   \n",
       "std              411.251788  4.445843e+07     9.992403     1.049111   \n",
       "min                1.000000  2.180000e+02  1920.000000     1.600000   \n",
       "25%              105.000000  1.000000e+07  1999.000000     5.800000   \n",
       "50%              207.000000  2.500000e+07  2005.000000     6.500000   \n",
       "75%              396.500000  5.000000e+07  2010.000000     7.100000   \n",
       "max             5060.000000  6.000000e+08  2016.000000     9.300000   \n",
       "\n",
       "       movie_facebook_likes  \n",
       "count           3675.000000  \n",
       "mean            9261.533061  \n",
       "std            21630.049351  \n",
       "min                0.000000  \n",
       "25%                0.000000  \n",
       "50%              215.000000  \n",
       "75%            11000.000000  \n",
       "max           349000.000000  "
      ]
     },
     "execution_count": 96,
     "metadata": {},
     "output_type": "execute_result"
    }
   ],
   "source": [
    "# Write your code for filling the NaN values in the 'language' column here\n",
    "movies[\"language\"].fillna('English',inplace=True)\n",
    "movies[movies[\"language\"] == 'English'].describe()"
   ]
  },
  {
   "cell_type": "code",
   "execution_count": 99,
   "metadata": {},
   "outputs": [
    {
     "data": {
      "text/plain": [
       "0        True\n",
       "1        True\n",
       "2        True\n",
       "3        True\n",
       "4        True\n",
       "        ...  \n",
       "3848     True\n",
       "3849     True\n",
       "3850    False\n",
       "3851     True\n",
       "3852     True\n",
       "Name: language, Length: 3853, dtype: bool"
      ]
     },
     "execution_count": 99,
     "metadata": {},
     "output_type": "execute_result"
    }
   ],
   "source": [
    "movies.loc[pd.isnull(movies['language']), ['language']] = 'English'\n",
    "(movies.language == 'English')"
   ]
  },
  {
   "cell_type": "markdown",
   "metadata": {},
   "source": [
    "#### <font color='red'>Question 5: What is the count of movies made in English language after replacing the NaN values with English? </font>\n",
    "-  <font color='red'>3670</font>\n",
    "-  <font color='red'>3674</font>\n",
    "-  <font color='red'>3668</font>\n",
    "-  <font color='red'>3672</font>"
   ]
  },
  {
   "cell_type": "markdown",
   "metadata": {},
   "source": [
    "### Task 3: Data Analysis\n",
    "\n",
    "**Subtask 3.1: Change the unit of columns**\n",
    "\n",
    "Convert the unit of the `budget` and `gross` columns from `$` to `million $`."
   ]
  },
  {
   "cell_type": "code",
   "execution_count": 102,
   "metadata": {},
   "outputs": [
    {
     "data": {
      "text/html": [
       "<div>\n",
       "<style scoped>\n",
       "    .dataframe tbody tr th:only-of-type {\n",
       "        vertical-align: middle;\n",
       "    }\n",
       "\n",
       "    .dataframe tbody tr th {\n",
       "        vertical-align: top;\n",
       "    }\n",
       "\n",
       "    .dataframe thead th {\n",
       "        text-align: right;\n",
       "    }\n",
       "</style>\n",
       "<table border=\"1\" class=\"dataframe\">\n",
       "  <thead>\n",
       "    <tr style=\"text-align: right;\">\n",
       "      <th></th>\n",
       "      <th>director_name</th>\n",
       "      <th>num_critic_for_reviews</th>\n",
       "      <th>gross</th>\n",
       "      <th>genres</th>\n",
       "      <th>actor_1_name</th>\n",
       "      <th>movie_title</th>\n",
       "      <th>num_voted_users</th>\n",
       "      <th>num_user_for_reviews</th>\n",
       "      <th>language</th>\n",
       "      <th>budget</th>\n",
       "      <th>title_year</th>\n",
       "      <th>imdb_score</th>\n",
       "      <th>movie_facebook_likes</th>\n",
       "      <th>Net Profit</th>\n",
       "    </tr>\n",
       "  </thead>\n",
       "  <tbody>\n",
       "    <tr>\n",
       "      <th>0</th>\n",
       "      <td>James Cameron</td>\n",
       "      <td>723.0</td>\n",
       "      <td>760505847.0</td>\n",
       "      <td>Action|Adventure|Fantasy|Sci-Fi</td>\n",
       "      <td>CCH Pounder</td>\n",
       "      <td>Avatar</td>\n",
       "      <td>886204</td>\n",
       "      <td>3054.0</td>\n",
       "      <td>English</td>\n",
       "      <td>2.370000e+08</td>\n",
       "      <td>2009.0</td>\n",
       "      <td>7.9</td>\n",
       "      <td>33000</td>\n",
       "      <td>5.235058e+08</td>\n",
       "    </tr>\n",
       "    <tr>\n",
       "      <th>28</th>\n",
       "      <td>Colin Trevorrow</td>\n",
       "      <td>644.0</td>\n",
       "      <td>652177271.0</td>\n",
       "      <td>Action|Adventure|Sci-Fi|Thriller</td>\n",
       "      <td>Bryce Dallas Howard</td>\n",
       "      <td>Jurassic World</td>\n",
       "      <td>418214</td>\n",
       "      <td>1290.0</td>\n",
       "      <td>English</td>\n",
       "      <td>1.500000e+08</td>\n",
       "      <td>2015.0</td>\n",
       "      <td>7.0</td>\n",
       "      <td>150000</td>\n",
       "      <td>5.021773e+08</td>\n",
       "    </tr>\n",
       "    <tr>\n",
       "      <th>25</th>\n",
       "      <td>James Cameron</td>\n",
       "      <td>315.0</td>\n",
       "      <td>658672302.0</td>\n",
       "      <td>Drama|Romance</td>\n",
       "      <td>Leonardo DiCaprio</td>\n",
       "      <td>Titanic</td>\n",
       "      <td>793059</td>\n",
       "      <td>2528.0</td>\n",
       "      <td>English</td>\n",
       "      <td>2.000000e+08</td>\n",
       "      <td>1997.0</td>\n",
       "      <td>7.7</td>\n",
       "      <td>26000</td>\n",
       "      <td>4.586723e+08</td>\n",
       "    </tr>\n",
       "    <tr>\n",
       "      <th>2704</th>\n",
       "      <td>George Lucas</td>\n",
       "      <td>282.0</td>\n",
       "      <td>460935665.0</td>\n",
       "      <td>Action|Adventure|Fantasy|Sci-Fi</td>\n",
       "      <td>Harrison Ford</td>\n",
       "      <td>Star Wars: Episode IV - A New Hope</td>\n",
       "      <td>911097</td>\n",
       "      <td>1470.0</td>\n",
       "      <td>English</td>\n",
       "      <td>1.100000e+07</td>\n",
       "      <td>1977.0</td>\n",
       "      <td>8.7</td>\n",
       "      <td>33000</td>\n",
       "      <td>4.499357e+08</td>\n",
       "    </tr>\n",
       "    <tr>\n",
       "      <th>2748</th>\n",
       "      <td>Steven Spielberg</td>\n",
       "      <td>215.0</td>\n",
       "      <td>434949459.0</td>\n",
       "      <td>Family|Sci-Fi</td>\n",
       "      <td>Henry Thomas</td>\n",
       "      <td>E.T. the Extra-Terrestrial</td>\n",
       "      <td>281842</td>\n",
       "      <td>515.0</td>\n",
       "      <td>English</td>\n",
       "      <td>1.050000e+07</td>\n",
       "      <td>1982.0</td>\n",
       "      <td>7.9</td>\n",
       "      <td>34000</td>\n",
       "      <td>4.244495e+08</td>\n",
       "    </tr>\n",
       "    <tr>\n",
       "      <th>...</th>\n",
       "      <td>...</td>\n",
       "      <td>...</td>\n",
       "      <td>...</td>\n",
       "      <td>...</td>\n",
       "      <td>...</td>\n",
       "      <td>...</td>\n",
       "      <td>...</td>\n",
       "      <td>...</td>\n",
       "      <td>...</td>\n",
       "      <td>...</td>\n",
       "      <td>...</td>\n",
       "      <td>...</td>\n",
       "      <td>...</td>\n",
       "      <td>...</td>\n",
       "    </tr>\n",
       "    <tr>\n",
       "      <th>2147</th>\n",
       "      <td>Katsuhiro Ôtomo</td>\n",
       "      <td>105.0</td>\n",
       "      <td>410388.0</td>\n",
       "      <td>Action|Adventure|Animation|Family|Sci-Fi|Thriller</td>\n",
       "      <td>William Hootkins</td>\n",
       "      <td>Steamboy</td>\n",
       "      <td>13727</td>\n",
       "      <td>79.0</td>\n",
       "      <td>Japanese</td>\n",
       "      <td>2.127520e+09</td>\n",
       "      <td>2004.0</td>\n",
       "      <td>6.9</td>\n",
       "      <td>973</td>\n",
       "      <td>-2.127110e+09</td>\n",
       "    </tr>\n",
       "    <tr>\n",
       "      <th>2136</th>\n",
       "      <td>Hayao Miyazaki</td>\n",
       "      <td>174.0</td>\n",
       "      <td>2298191.0</td>\n",
       "      <td>Adventure|Animation|Fantasy</td>\n",
       "      <td>Minnie Driver</td>\n",
       "      <td>Princess Mononoke</td>\n",
       "      <td>221552</td>\n",
       "      <td>570.0</td>\n",
       "      <td>Japanese</td>\n",
       "      <td>2.400000e+09</td>\n",
       "      <td>1997.0</td>\n",
       "      <td>8.4</td>\n",
       "      <td>11000</td>\n",
       "      <td>-2.397702e+09</td>\n",
       "    </tr>\n",
       "    <tr>\n",
       "      <th>2693</th>\n",
       "      <td>Lajos Koltai</td>\n",
       "      <td>73.0</td>\n",
       "      <td>195888.0</td>\n",
       "      <td>Drama|Romance|War</td>\n",
       "      <td>Marcell Nagy</td>\n",
       "      <td>Fateless</td>\n",
       "      <td>5603</td>\n",
       "      <td>45.0</td>\n",
       "      <td>Hungarian</td>\n",
       "      <td>2.500000e+09</td>\n",
       "      <td>2005.0</td>\n",
       "      <td>7.1</td>\n",
       "      <td>607</td>\n",
       "      <td>-2.499804e+09</td>\n",
       "    </tr>\n",
       "    <tr>\n",
       "      <th>3282</th>\n",
       "      <td>Chan-wook Park</td>\n",
       "      <td>202.0</td>\n",
       "      <td>211667.0</td>\n",
       "      <td>Crime|Drama</td>\n",
       "      <td>Min-sik Choi</td>\n",
       "      <td>Lady Vengeance</td>\n",
       "      <td>53508</td>\n",
       "      <td>131.0</td>\n",
       "      <td>Korean</td>\n",
       "      <td>4.200000e+09</td>\n",
       "      <td>2005.0</td>\n",
       "      <td>7.7</td>\n",
       "      <td>4000</td>\n",
       "      <td>-4.199788e+09</td>\n",
       "    </tr>\n",
       "    <tr>\n",
       "      <th>2678</th>\n",
       "      <td>Joon-ho Bong</td>\n",
       "      <td>363.0</td>\n",
       "      <td>2201412.0</td>\n",
       "      <td>Comedy|Drama|Horror|Sci-Fi</td>\n",
       "      <td>Doona Bae</td>\n",
       "      <td>The Host</td>\n",
       "      <td>68883</td>\n",
       "      <td>279.0</td>\n",
       "      <td>Korean</td>\n",
       "      <td>1.221550e+10</td>\n",
       "      <td>2006.0</td>\n",
       "      <td>7.0</td>\n",
       "      <td>7000</td>\n",
       "      <td>-1.221330e+10</td>\n",
       "    </tr>\n",
       "  </tbody>\n",
       "</table>\n",
       "<p>3853 rows × 14 columns</p>\n",
       "</div>"
      ],
      "text/plain": [
       "         director_name  num_critic_for_reviews        gross  \\\n",
       "0        James Cameron                   723.0  760505847.0   \n",
       "28     Colin Trevorrow                   644.0  652177271.0   \n",
       "25       James Cameron                   315.0  658672302.0   \n",
       "2704      George Lucas                   282.0  460935665.0   \n",
       "2748  Steven Spielberg                   215.0  434949459.0   \n",
       "...                ...                     ...          ...   \n",
       "2147   Katsuhiro Ôtomo                   105.0     410388.0   \n",
       "2136    Hayao Miyazaki                   174.0    2298191.0   \n",
       "2693      Lajos Koltai                    73.0     195888.0   \n",
       "3282    Chan-wook Park                   202.0     211667.0   \n",
       "2678      Joon-ho Bong                   363.0    2201412.0   \n",
       "\n",
       "                                                 genres         actor_1_name  \\\n",
       "0                       Action|Adventure|Fantasy|Sci-Fi          CCH Pounder   \n",
       "28                     Action|Adventure|Sci-Fi|Thriller  Bryce Dallas Howard   \n",
       "25                                        Drama|Romance    Leonardo DiCaprio   \n",
       "2704                    Action|Adventure|Fantasy|Sci-Fi        Harrison Ford   \n",
       "2748                                      Family|Sci-Fi         Henry Thomas   \n",
       "...                                                 ...                  ...   \n",
       "2147  Action|Adventure|Animation|Family|Sci-Fi|Thriller     William Hootkins   \n",
       "2136                        Adventure|Animation|Fantasy        Minnie Driver   \n",
       "2693                                  Drama|Romance|War         Marcell Nagy   \n",
       "3282                                        Crime|Drama         Min-sik Choi   \n",
       "2678                         Comedy|Drama|Horror|Sci-Fi            Doona Bae   \n",
       "\n",
       "                              movie_title  num_voted_users  \\\n",
       "0                                 Avatar            886204   \n",
       "28                        Jurassic World            418214   \n",
       "25                               Titanic            793059   \n",
       "2704  Star Wars: Episode IV - A New Hope            911097   \n",
       "2748          E.T. the Extra-Terrestrial            281842   \n",
       "...                                   ...              ...   \n",
       "2147                            Steamboy             13727   \n",
       "2136                   Princess Mononoke            221552   \n",
       "2693                            Fateless              5603   \n",
       "3282                      Lady Vengeance             53508   \n",
       "2678                            The Host             68883   \n",
       "\n",
       "      num_user_for_reviews   language        budget  title_year  imdb_score  \\\n",
       "0                   3054.0    English  2.370000e+08      2009.0         7.9   \n",
       "28                  1290.0    English  1.500000e+08      2015.0         7.0   \n",
       "25                  2528.0    English  2.000000e+08      1997.0         7.7   \n",
       "2704                1470.0    English  1.100000e+07      1977.0         8.7   \n",
       "2748                 515.0    English  1.050000e+07      1982.0         7.9   \n",
       "...                    ...        ...           ...         ...         ...   \n",
       "2147                  79.0   Japanese  2.127520e+09      2004.0         6.9   \n",
       "2136                 570.0   Japanese  2.400000e+09      1997.0         8.4   \n",
       "2693                  45.0  Hungarian  2.500000e+09      2005.0         7.1   \n",
       "3282                 131.0     Korean  4.200000e+09      2005.0         7.7   \n",
       "2678                 279.0     Korean  1.221550e+10      2006.0         7.0   \n",
       "\n",
       "      movie_facebook_likes    Net Profit  \n",
       "0                    33000  5.235058e+08  \n",
       "28                  150000  5.021773e+08  \n",
       "25                   26000  4.586723e+08  \n",
       "2704                 33000  4.499357e+08  \n",
       "2748                 34000  4.244495e+08  \n",
       "...                    ...           ...  \n",
       "2147                   973 -2.127110e+09  \n",
       "2136                 11000 -2.397702e+09  \n",
       "2693                   607 -2.499804e+09  \n",
       "3282                  4000 -4.199788e+09  \n",
       "2678                  7000 -1.221330e+10  \n",
       "\n",
       "[3853 rows x 14 columns]"
      ]
     },
     "execution_count": 102,
     "metadata": {},
     "output_type": "execute_result"
    }
   ],
   "source": [
    "# Write your code for unit conversion here\n",
    "movies[\"Net Profit\"] = movies[\"gross\"] - movies[\"budget\"]\n",
    "movies.sort_values(\"Net Profit\",ascending=False)"
   ]
  },
  {
   "cell_type": "markdown",
   "metadata": {},
   "source": [
    "**Subtask 3.2: Find the movies with highest profit**\n",
    "\n",
    "   1. Create a new column called `profit` which contains the difference of the two columns: `gross` and `budget`.\n",
    "   2. Sort the dataframe using the `profit` column as reference. (Find which command can be used here to sort entries from the documentation)\n",
    "   3. Extract the top ten profiting movies in descending order and store them in a new dataframe - `top10`"
   ]
  },
  {
   "cell_type": "code",
   "execution_count": null,
   "metadata": {},
   "outputs": [],
   "source": [
    "# Write your code for creating the profit column here\n"
   ]
  },
  {
   "cell_type": "code",
   "execution_count": null,
   "metadata": {},
   "outputs": [],
   "source": [
    "# Write your code for sorting the dataframe here\n"
   ]
  },
  {
   "cell_type": "code",
   "execution_count": null,
   "metadata": {},
   "outputs": [],
   "source": [
    "top10 = # Write your code to get the top 10 profiting movies here"
   ]
  },
  {
   "cell_type": "markdown",
   "metadata": {},
   "source": [
    "**Checkpoint:** You might spot two movies directed by `James Cameron` in the list."
   ]
  },
  {
   "cell_type": "markdown",
   "metadata": {},
   "source": [
    "#### <font color='red'>Question 6: Which movie is ranked 5th from the top in the list obtained? </font>\n",
    "-  <font color='red'>E.T. the Extra-Terrestrial</font>\n",
    "-  <font color='red'>The Avengers</font>\n",
    "-  <font color='red'>The Dark Knight</font>\n",
    "-  <font color='red'>Titanic</font>"
   ]
  },
  {
   "cell_type": "markdown",
   "metadata": {},
   "source": [
    "**Subtask 3.3: Find IMDb Top 250**\n",
    "\n",
    "Create a new dataframe `IMDb_Top_250` and store the top 250 movies with the highest IMDb Rating (corresponding to the column: `imdb_score`). Also make sure that for all of these movies, the `num_voted_users` is greater than 25,000. \n",
    "\n",
    "Also add a `Rank` column containing the values 1 to 250 indicating the ranks of the corresponding films."
   ]
  },
  {
   "cell_type": "code",
   "execution_count": 123,
   "metadata": {},
   "outputs": [
    {
     "data": {
      "text/html": [
       "<div>\n",
       "<style scoped>\n",
       "    .dataframe tbody tr th:only-of-type {\n",
       "        vertical-align: middle;\n",
       "    }\n",
       "\n",
       "    .dataframe tbody tr th {\n",
       "        vertical-align: top;\n",
       "    }\n",
       "\n",
       "    .dataframe thead th {\n",
       "        text-align: right;\n",
       "    }\n",
       "</style>\n",
       "<table border=\"1\" class=\"dataframe\">\n",
       "  <thead>\n",
       "    <tr style=\"text-align: right;\">\n",
       "      <th></th>\n",
       "      <th>director_name</th>\n",
       "      <th>num_critic_for_reviews</th>\n",
       "      <th>gross</th>\n",
       "      <th>genres</th>\n",
       "      <th>actor_1_name</th>\n",
       "      <th>movie_title</th>\n",
       "      <th>num_voted_users</th>\n",
       "      <th>num_user_for_reviews</th>\n",
       "      <th>language</th>\n",
       "      <th>budget</th>\n",
       "      <th>title_year</th>\n",
       "      <th>imdb_score</th>\n",
       "      <th>movie_facebook_likes</th>\n",
       "      <th>Net Profit</th>\n",
       "    </tr>\n",
       "  </thead>\n",
       "  <tbody>\n",
       "    <tr>\n",
       "      <th>1795</th>\n",
       "      <td>Frank Darabont</td>\n",
       "      <td>199.0</td>\n",
       "      <td>28341469.0</td>\n",
       "      <td>Crime|Drama</td>\n",
       "      <td>Morgan Freeman</td>\n",
       "      <td>The Shawshank Redemption</td>\n",
       "      <td>1689764</td>\n",
       "      <td>4144.0</td>\n",
       "      <td>English</td>\n",
       "      <td>25000000.0</td>\n",
       "      <td>1994.0</td>\n",
       "      <td>9.3</td>\n",
       "      <td>108000</td>\n",
       "      <td>3341469.0</td>\n",
       "    </tr>\n",
       "    <tr>\n",
       "      <th>3016</th>\n",
       "      <td>Francis Ford Coppola</td>\n",
       "      <td>208.0</td>\n",
       "      <td>134821952.0</td>\n",
       "      <td>Crime|Drama</td>\n",
       "      <td>Al Pacino</td>\n",
       "      <td>The Godfather</td>\n",
       "      <td>1155770</td>\n",
       "      <td>2238.0</td>\n",
       "      <td>English</td>\n",
       "      <td>6000000.0</td>\n",
       "      <td>1972.0</td>\n",
       "      <td>9.2</td>\n",
       "      <td>43000</td>\n",
       "      <td>128821952.0</td>\n",
       "    </tr>\n",
       "    <tr>\n",
       "      <th>2543</th>\n",
       "      <td>Francis Ford Coppola</td>\n",
       "      <td>149.0</td>\n",
       "      <td>57300000.0</td>\n",
       "      <td>Crime|Drama</td>\n",
       "      <td>Robert De Niro</td>\n",
       "      <td>The Godfather: Part II</td>\n",
       "      <td>790926</td>\n",
       "      <td>650.0</td>\n",
       "      <td>English</td>\n",
       "      <td>13000000.0</td>\n",
       "      <td>1974.0</td>\n",
       "      <td>9.0</td>\n",
       "      <td>14000</td>\n",
       "      <td>44300000.0</td>\n",
       "    </tr>\n",
       "    <tr>\n",
       "      <th>64</th>\n",
       "      <td>Christopher Nolan</td>\n",
       "      <td>645.0</td>\n",
       "      <td>533316061.0</td>\n",
       "      <td>Action|Crime|Drama|Thriller</td>\n",
       "      <td>Christian Bale</td>\n",
       "      <td>The Dark Knight</td>\n",
       "      <td>1676169</td>\n",
       "      <td>4667.0</td>\n",
       "      <td>English</td>\n",
       "      <td>185000000.0</td>\n",
       "      <td>2008.0</td>\n",
       "      <td>9.0</td>\n",
       "      <td>37000</td>\n",
       "      <td>348316061.0</td>\n",
       "    </tr>\n",
       "    <tr>\n",
       "      <th>325</th>\n",
       "      <td>Peter Jackson</td>\n",
       "      <td>328.0</td>\n",
       "      <td>377019252.0</td>\n",
       "      <td>Action|Adventure|Drama|Fantasy</td>\n",
       "      <td>Orlando Bloom</td>\n",
       "      <td>The Lord of the Rings: The Return of the King</td>\n",
       "      <td>1215718</td>\n",
       "      <td>3189.0</td>\n",
       "      <td>English</td>\n",
       "      <td>94000000.0</td>\n",
       "      <td>2003.0</td>\n",
       "      <td>8.9</td>\n",
       "      <td>16000</td>\n",
       "      <td>283019252.0</td>\n",
       "    </tr>\n",
       "    <tr>\n",
       "      <th>...</th>\n",
       "      <td>...</td>\n",
       "      <td>...</td>\n",
       "      <td>...</td>\n",
       "      <td>...</td>\n",
       "      <td>...</td>\n",
       "      <td>...</td>\n",
       "      <td>...</td>\n",
       "      <td>...</td>\n",
       "      <td>...</td>\n",
       "      <td>...</td>\n",
       "      <td>...</td>\n",
       "      <td>...</td>\n",
       "      <td>...</td>\n",
       "      <td>...</td>\n",
       "    </tr>\n",
       "    <tr>\n",
       "      <th>677</th>\n",
       "      <td>Doug Liman</td>\n",
       "      <td>249.0</td>\n",
       "      <td>121468960.0</td>\n",
       "      <td>Action|Mystery|Thriller</td>\n",
       "      <td>Matt Damon</td>\n",
       "      <td>The Bourne Identity</td>\n",
       "      <td>407601</td>\n",
       "      <td>849.0</td>\n",
       "      <td>English</td>\n",
       "      <td>60000000.0</td>\n",
       "      <td>2002.0</td>\n",
       "      <td>7.9</td>\n",
       "      <td>0</td>\n",
       "      <td>61468960.0</td>\n",
       "    </tr>\n",
       "    <tr>\n",
       "      <th>1734</th>\n",
       "      <td>Pierre Morel</td>\n",
       "      <td>309.0</td>\n",
       "      <td>145000989.0</td>\n",
       "      <td>Action|Thriller</td>\n",
       "      <td>Liam Neeson</td>\n",
       "      <td>Taken</td>\n",
       "      <td>483756</td>\n",
       "      <td>974.0</td>\n",
       "      <td>English</td>\n",
       "      <td>25000000.0</td>\n",
       "      <td>2008.0</td>\n",
       "      <td>7.9</td>\n",
       "      <td>29000</td>\n",
       "      <td>120000989.0</td>\n",
       "    </tr>\n",
       "    <tr>\n",
       "      <th>86</th>\n",
       "      <td>Don Hall</td>\n",
       "      <td>384.0</td>\n",
       "      <td>222487711.0</td>\n",
       "      <td>Action|Adventure|Animation|Comedy|Drama|Family...</td>\n",
       "      <td>Damon Wayans Jr.</td>\n",
       "      <td>Big Hero 6</td>\n",
       "      <td>279093</td>\n",
       "      <td>433.0</td>\n",
       "      <td>English</td>\n",
       "      <td>165000000.0</td>\n",
       "      <td>2014.0</td>\n",
       "      <td>7.9</td>\n",
       "      <td>41000</td>\n",
       "      <td>57487711.0</td>\n",
       "    </tr>\n",
       "    <tr>\n",
       "      <th>746</th>\n",
       "      <td>Cameron Crowe</td>\n",
       "      <td>149.0</td>\n",
       "      <td>32522352.0</td>\n",
       "      <td>Adventure|Comedy|Drama|Music</td>\n",
       "      <td>Philip Seymour Hoffman</td>\n",
       "      <td>Almost Famous</td>\n",
       "      <td>207287</td>\n",
       "      <td>822.0</td>\n",
       "      <td>English</td>\n",
       "      <td>60000000.0</td>\n",
       "      <td>2000.0</td>\n",
       "      <td>7.9</td>\n",
       "      <td>15000</td>\n",
       "      <td>-27477648.0</td>\n",
       "    </tr>\n",
       "    <tr>\n",
       "      <th>157</th>\n",
       "      <td>Dean DeBlois</td>\n",
       "      <td>292.0</td>\n",
       "      <td>176997107.0</td>\n",
       "      <td>Action|Adventure|Animation|Comedy|Family|Fantasy</td>\n",
       "      <td>Gerard Butler</td>\n",
       "      <td>How to Train Your Dragon 2</td>\n",
       "      <td>221128</td>\n",
       "      <td>343.0</td>\n",
       "      <td>English</td>\n",
       "      <td>145000000.0</td>\n",
       "      <td>2014.0</td>\n",
       "      <td>7.9</td>\n",
       "      <td>46000</td>\n",
       "      <td>31997107.0</td>\n",
       "    </tr>\n",
       "  </tbody>\n",
       "</table>\n",
       "<p>250 rows × 14 columns</p>\n",
       "</div>"
      ],
      "text/plain": [
       "             director_name  num_critic_for_reviews        gross  \\\n",
       "1795        Frank Darabont                   199.0   28341469.0   \n",
       "3016  Francis Ford Coppola                   208.0  134821952.0   \n",
       "2543  Francis Ford Coppola                   149.0   57300000.0   \n",
       "64       Christopher Nolan                   645.0  533316061.0   \n",
       "325          Peter Jackson                   328.0  377019252.0   \n",
       "...                    ...                     ...          ...   \n",
       "677             Doug Liman                   249.0  121468960.0   \n",
       "1734          Pierre Morel                   309.0  145000989.0   \n",
       "86                Don Hall                   384.0  222487711.0   \n",
       "746          Cameron Crowe                   149.0   32522352.0   \n",
       "157           Dean DeBlois                   292.0  176997107.0   \n",
       "\n",
       "                                                 genres  \\\n",
       "1795                                        Crime|Drama   \n",
       "3016                                        Crime|Drama   \n",
       "2543                                        Crime|Drama   \n",
       "64                          Action|Crime|Drama|Thriller   \n",
       "325                      Action|Adventure|Drama|Fantasy   \n",
       "...                                                 ...   \n",
       "677                             Action|Mystery|Thriller   \n",
       "1734                                    Action|Thriller   \n",
       "86    Action|Adventure|Animation|Comedy|Drama|Family...   \n",
       "746                        Adventure|Comedy|Drama|Music   \n",
       "157    Action|Adventure|Animation|Comedy|Family|Fantasy   \n",
       "\n",
       "                actor_1_name                                     movie_title  \\\n",
       "1795          Morgan Freeman                       The Shawshank Redemption    \n",
       "3016               Al Pacino                                  The Godfather    \n",
       "2543          Robert De Niro                         The Godfather: Part II    \n",
       "64            Christian Bale                                The Dark Knight    \n",
       "325            Orlando Bloom  The Lord of the Rings: The Return of the King    \n",
       "...                      ...                                             ...   \n",
       "677               Matt Damon                            The Bourne Identity    \n",
       "1734             Liam Neeson                                          Taken    \n",
       "86          Damon Wayans Jr.                                     Big Hero 6    \n",
       "746   Philip Seymour Hoffman                                  Almost Famous    \n",
       "157            Gerard Butler                     How to Train Your Dragon 2    \n",
       "\n",
       "      num_voted_users  num_user_for_reviews language       budget  title_year  \\\n",
       "1795          1689764                4144.0  English   25000000.0      1994.0   \n",
       "3016          1155770                2238.0  English    6000000.0      1972.0   \n",
       "2543           790926                 650.0  English   13000000.0      1974.0   \n",
       "64            1676169                4667.0  English  185000000.0      2008.0   \n",
       "325           1215718                3189.0  English   94000000.0      2003.0   \n",
       "...               ...                   ...      ...          ...         ...   \n",
       "677            407601                 849.0  English   60000000.0      2002.0   \n",
       "1734           483756                 974.0  English   25000000.0      2008.0   \n",
       "86             279093                 433.0  English  165000000.0      2014.0   \n",
       "746            207287                 822.0  English   60000000.0      2000.0   \n",
       "157            221128                 343.0  English  145000000.0      2014.0   \n",
       "\n",
       "      imdb_score  movie_facebook_likes   Net Profit  \n",
       "1795         9.3                108000    3341469.0  \n",
       "3016         9.2                 43000  128821952.0  \n",
       "2543         9.0                 14000   44300000.0  \n",
       "64           9.0                 37000  348316061.0  \n",
       "325          8.9                 16000  283019252.0  \n",
       "...          ...                   ...          ...  \n",
       "677          7.9                     0   61468960.0  \n",
       "1734         7.9                 29000  120000989.0  \n",
       "86           7.9                 41000   57487711.0  \n",
       "746          7.9                 15000  -27477648.0  \n",
       "157          7.9                 46000   31997107.0  \n",
       "\n",
       "[250 rows x 14 columns]"
      ]
     },
     "execution_count": 123,
     "metadata": {},
     "output_type": "execute_result"
    }
   ],
   "source": [
    "# Write your code for extracting the top 250 movies as per the IMDb score here. Make sure that you store it in a new dataframe \n",
    "# and name that dataframe as 'IMDb_Top_250'\n",
    "IMDb_Top_250 = movies.sort_values([\"imdb_score\"],ascending=False).head(250)\n",
    "IMDb_Top_250"
   ]
  },
  {
   "cell_type": "markdown",
   "metadata": {},
   "source": [
    "#### <font color='red'>Question 7: Suppose movies are divided into 5 buckets based on the IMDb ratings: </font>\n",
    "-  <font color='red'>7.5 to 8</font>\n",
    "-  <font color='red'>8 to 8.5</font>\n",
    "-  <font color='red'>8.5 to 9</font>\n",
    "-  <font color='red'>9 to 9.5</font>\n",
    "-  <font color='red'>9.5 to 10</font>\n",
    "\n",
    "<font color = 'red'> Which bucket holds the maximum number of movies from *IMDb_Top_250*? </font>"
   ]
  },
  {
   "cell_type": "code",
   "execution_count": 121,
   "metadata": {},
   "outputs": [
    {
     "name": "stdout",
     "output_type": "stream",
     "text": [
      "90 187 45 4 0\n"
     ]
    }
   ],
   "source": [
    "buc1=IMDb_Top_250[(IMDb_Top_250[\"imdb_score\"] >=7.5) & (IMDb_Top_250[\"imdb_score\"] <= 8)][\"movie_title\"].count()\n",
    "buc2=IMDb_Top_250[(IMDb_Top_250[\"imdb_score\"] >=8) & (IMDb_Top_250[\"imdb_score\"] <= 8.5)][\"movie_title\"].count()\n",
    "buc3=IMDb_Top_250[(IMDb_Top_250[\"imdb_score\"] >=8.5) & (IMDb_Top_250[\"imdb_score\"] <= 9)][\"movie_title\"].count()\n",
    "buc4=IMDb_Top_250[(IMDb_Top_250[\"imdb_score\"] >=9) & (IMDb_Top_250[\"imdb_score\"] <= 9.5)][\"movie_title\"].count()\n",
    "buc5=IMDb_Top_250[(IMDb_Top_250[\"imdb_score\"] >=9.5) & (IMDb_Top_250[\"imdb_score\"] <= 10)][\"movie_title\"].count()\n",
    "print(buc1,buc2,buc3,buc4,buc5)"
   ]
  },
  {
   "cell_type": "code",
   "execution_count": 124,
   "metadata": {},
   "outputs": [
    {
     "data": {
      "image/png": "[encoded data removed]",
      "text/plain": [
       "<Figure size 640x480 with 1 Axes>"
      ]
     },
     "metadata": {},
     "output_type": "display_data"
    }
   ],
   "source": [
    "\n",
    "import matplotlib.pyplot as plt\n",
    "plt.hist(IMDb_Top_250['imdb_score'], bins = 5, range = (7.5,10), edgecolor = 'cyan')\n",
    "plt.show()"
   ]
  },
  {
   "cell_type": "markdown",
   "metadata": {},
   "source": [
    "**Subtask 3.4: Find the critic-favorite and audience-favorite actors**\n",
    "\n",
    "   1. Create three new dataframes namely, `Meryl_Streep`, `Leo_Caprio`, and `Brad_Pitt` which contain the movies in which the actors: 'Meryl Streep', 'Leonardo DiCaprio', and 'Brad Pitt' are the lead actors. Use only the `actor_1_name` column for extraction. Also, make sure that you use the names 'Meryl Streep', 'Leonardo DiCaprio', and 'Brad Pitt' for the said extraction.\n",
    "   2. Append the rows of all these dataframes and store them in a new dataframe named `Combined`.\n",
    "   3. Group the combined dataframe using the `actor_1_name` column.\n",
    "   4. Find the mean of the `num_critic_for_reviews` and `num_user_for_review` and identify the actors which have the highest mean."
   ]
  },
  {
   "cell_type": "code",
   "execution_count": 145,
   "metadata": {},
   "outputs": [
    {
     "data": {
      "text/plain": [
       "(11, 14)"
      ]
     },
     "execution_count": 145,
     "metadata": {},
     "output_type": "execute_result"
    }
   ],
   "source": [
    "# Write your code for creating three new dataframes here\n",
    "Meryl_Streep = movies[movies[\"actor_1_name\"] == \"Meryl Streep\"]\n",
    "Meryl_Streep.shape# Include all movies in which Meryl_Streep is the lead"
   ]
  },
  {
   "cell_type": "code",
   "execution_count": 146,
   "metadata": {},
   "outputs": [
    {
     "data": {
      "text/plain": [
       "(21, 14)"
      ]
     },
     "execution_count": 146,
     "metadata": {},
     "output_type": "execute_result"
    }
   ],
   "source": [
    "Leo_Caprio = movies[movies[\"actor_1_name\"] == \"Leonardo DiCaprio\"] # Include all movies in which Leo_Caprio is the lead\n",
    "Leo_Caprio.shape"
   ]
  },
  {
   "cell_type": "code",
   "execution_count": 148,
   "metadata": {},
   "outputs": [
    {
     "data": {
      "text/plain": [
       "(17, 14)"
      ]
     },
     "execution_count": 148,
     "metadata": {},
     "output_type": "execute_result"
    }
   ],
   "source": [
    "Brad_Pitt = movies[movies[\"actor_1_name\"] == \"Brad Pitt\"]\n",
    "Brad_Pitt.shape # Include all movies in which Brad_Pitt is the lead"
   ]
  },
  {
   "cell_type": "code",
   "execution_count": 153,
   "metadata": {},
   "outputs": [
    {
     "data": {
      "text/plain": [
       "(49, 14)"
      ]
     },
     "execution_count": 153,
     "metadata": {},
     "output_type": "execute_result"
    }
   ],
   "source": [
    "# Write your code for combining the three dataframes here\n",
    "Combined = pd.concat([Meryl_Streep,Leo_Caprio,Brad_Pitt],axis=0)\n",
    "Combined.shape"
   ]
  },
  {
   "cell_type": "code",
   "execution_count": 176,
   "metadata": {},
   "outputs": [
    {
     "name": "stderr",
     "output_type": "stream",
     "text": [
      "C:\\Users\\suddkar\\AppData\\Local\\Temp\\ipykernel_59384\\1732310573.py:2: FutureWarning: The provided callable <function mean at 0x0000026A7FD2EF20> is currently using SeriesGroupBy.mean. In a future version of pandas, the provided callable will be used directly. To keep current behavior pass the string \"mean\" instead.\n",
      "  dfgroup = Combined.groupby([\"actor_1_name\"]).agg({'num_critic_for_reviews':np.mean,'num_user_for_reviews':np.mean})\n",
      "C:\\Users\\suddkar\\AppData\\Local\\Temp\\ipykernel_59384\\1732310573.py:2: FutureWarning: The provided callable <function mean at 0x0000026A7FD2EF20> is currently using SeriesGroupBy.mean. In a future version of pandas, the provided callable will be used directly. To keep current behavior pass the string \"mean\" instead.\n",
      "  dfgroup = Combined.groupby([\"actor_1_name\"]).agg({'num_critic_for_reviews':np.mean,'num_user_for_reviews':np.mean})\n"
     ]
    }
   ],
   "source": [
    "# Write your code for grouping the combined dataframe here\n",
    "dfgroup = Combined.groupby([\"actor_1_name\"]).agg({'num_critic_for_reviews':np.mean,'num_user_for_reviews':np.mean})"
   ]
  },
  {
   "cell_type": "code",
   "execution_count": 177,
   "metadata": {},
   "outputs": [
    {
     "data": {
      "text/html": [
       "<div>\n",
       "<style scoped>\n",
       "    .dataframe tbody tr th:only-of-type {\n",
       "        vertical-align: middle;\n",
       "    }\n",
       "\n",
       "    .dataframe tbody tr th {\n",
       "        vertical-align: top;\n",
       "    }\n",
       "\n",
       "    .dataframe thead th {\n",
       "        text-align: right;\n",
       "    }\n",
       "</style>\n",
       "<table border=\"1\" class=\"dataframe\">\n",
       "  <thead>\n",
       "    <tr style=\"text-align: right;\">\n",
       "      <th></th>\n",
       "      <th>num_critic_for_reviews</th>\n",
       "      <th>num_user_for_reviews</th>\n",
       "    </tr>\n",
       "    <tr>\n",
       "      <th>actor_1_name</th>\n",
       "      <th></th>\n",
       "      <th></th>\n",
       "    </tr>\n",
       "  </thead>\n",
       "  <tbody>\n",
       "    <tr>\n",
       "      <th>Brad Pitt</th>\n",
       "      <td>245.000000</td>\n",
       "      <td>742.352941</td>\n",
       "    </tr>\n",
       "    <tr>\n",
       "      <th>Leonardo DiCaprio</th>\n",
       "      <td>330.190476</td>\n",
       "      <td>914.476190</td>\n",
       "    </tr>\n",
       "    <tr>\n",
       "      <th>Meryl Streep</th>\n",
       "      <td>181.454545</td>\n",
       "      <td>297.181818</td>\n",
       "    </tr>\n",
       "  </tbody>\n",
       "</table>\n",
       "</div>"
      ],
      "text/plain": [
       "                   num_critic_for_reviews  num_user_for_reviews\n",
       "actor_1_name                                                   \n",
       "Brad Pitt                      245.000000            742.352941\n",
       "Leonardo DiCaprio              330.190476            914.476190\n",
       "Meryl Streep                   181.454545            297.181818"
      ]
     },
     "execution_count": 177,
     "metadata": {},
     "output_type": "execute_result"
    }
   ],
   "source": [
    "# Write the code for finding the mean of critic reviews and audience reviews here\n",
    "dfgroup"
   ]
  },
  {
   "cell_type": "code",
   "execution_count": 170,
   "metadata": {},
   "outputs": [
    {
     "data": {
      "text/plain": [
       "actor_1_name\n",
       "Brad Pitt            742.352941\n",
       "Leonardo DiCaprio    914.476190\n",
       "Meryl Streep         297.181818\n",
       "Name: num_user_for_reviews, dtype: float64"
      ]
     },
     "execution_count": 170,
     "metadata": {},
     "output_type": "execute_result"
    }
   ],
   "source": [
    "Meryl_Streep = movies.loc[movies.actor_1_name == 'Meryl Streep']\n",
    "Leo_Caprio = movies.loc[movies.actor_1_name == 'Leonardo DiCaprio']\n",
    "Brad_Pitt = movies.loc[movies.actor_1_name == 'Brad Pitt']\n",
    "Combined = pd.concat([Meryl_Streep, Brad_Pitt, Leo_Caprio])\n",
    "Combined_by_segment = Combined.groupby('actor_1_name')\n",
    "\n",
    "Combined_by_segment['num_user_for_reviews'].mean()"
   ]
  },
  {
   "cell_type": "markdown",
   "metadata": {},
   "source": [
    "#### <font color='red'>Question 8: Which actor is highest rated among the three actors according to the user reviews? </font>\n",
    "-  <font color='red'>Meryl Streep</font>\n",
    "-  <font color='red'>Leonardo DiCaprio</font>\n",
    "-  <font color='red'>Brad Pitt</font>"
   ]
  },
  {
   "cell_type": "markdown",
   "metadata": {},
   "source": [
    "#### <font color='red'>Question 9: Which actor is highest rated among the three actors according to the critics?</font>\n",
    "-  <font color='red'>Meryl Streep</font>\n",
    "-  <font color='red'>Leonardo DiCaprio</font>\n",
    "-  <font color='red'>Brad Pitt</font>"
   ]
  },
  {
   "cell_type": "code",
   "execution_count": 180,
   "metadata": {},
   "outputs": [
    {
     "data": {
      "text/plain": [
       "<pandas.core.groupby.generic.DataFrameGroupBy object at 0x0000026A0CFB2810>"
      ]
     },
     "execution_count": 180,
     "metadata": {},
     "output_type": "execute_result"
    }
   ],
   "source": [
    "Meryl_Streep = movies.loc[movies.actor_1_name == 'Meryl Streep']\n",
    "Leo_Caprio = movies.loc[movies.actor_1_name == 'Leonardo DiCaprio']\n",
    "Brad_Pitt = movies.loc[movies.actor_1_name == 'Brad Pitt']\n",
    "Combined = pd.concat([Meryl_Streep, Brad_Pitt, Leo_Caprio])\n",
    "Combined_by_segment = Combined.groupby('actor_1_name')\n",
    "\n",
    "Combined_by_segment['num_critic_for_reviews'].mean()"
   ]
  }
 ],
 "metadata": {
  "kernelspec": {
   "display_name": "Python 3",
   "language": "python",
   "name": "python3"
  },
  "language_info": {
   "codemirror_mode": {
    "name": "ipython",
    "version": 3
   },
   "file_extension": ".py",
   "mimetype": "text/x-python",
   "name": "python",
   "nbconvert_exporter": "python",
   "pygments_lexer": "ipython3",
   "version": "3.11.9"
  }
 },
 "nbformat": 4,
 "nbformat_minor": 2
}
