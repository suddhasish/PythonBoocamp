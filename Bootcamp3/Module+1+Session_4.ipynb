{
 "cells": [
  {
   "cell_type": "markdown",
   "metadata": {
    "colab_type": "text",
    "id": "VYHYWILh_QR_"
   },
   "source": [
    "# Control Structures and Functions\n",
    "Control structures are the essence of programming; they help computers do what they do best: automate repetitive tasks intelligently. The most common control structures are if-else statements, for and while loops, and list and dictionary comprehensions. This session will cover all these concepts."
   ]
  },
  {
   "cell_type": "markdown",
   "metadata": {
    "colab_type": "text",
    "id": "8b4dnOz__g7J"
   },
   "source": [
    "### If statements\n",
    "\"IF\" statements are imperative in Python and they help us build programs that could make decisions based on a specified condition\n",
    "\n",
    "\n",
    "*   If I am tired, I'll go to bed\n",
    "\n",
    "*   If I am hungry, I'll order food\n",
    "\n",
    "Notice all these applications start with the word 'IF' and that is the first way we are going to control our applications.\n",
    "\n",
    "And before writing down a code to mimic a decision, let us first look at the relational operators that would help us test or define some kind of relation between two entities.\n",
    "\n",
    "Relational operators are used to test equality or inequality of a condition and that condition might change based on your preference.\n",
    "\n",
    "```\n",
    "Example -\n",
    "If its raining == True:\n",
    "  I'll get an umbrella\n",
    "\n",
    "```\n",
    "\n",
    "\n",
    "\n",
    "\n",
    "\n",
    "\n",
    "\n"
   ]
  },
  {
   "cell_type": "markdown",
   "metadata": {
    "colab_type": "text",
    "id": "f4WSUQ-w3iuJ"
   },
   "source": [
    "<h2 style = \"color:Brown\"> Relational Operators</h2>\n",
    "\n",
    "- Compares the values on either side of the operator and returns and boolean value as True or False."
   ]
  },
  {
   "cell_type": "markdown",
   "metadata": {
    "colab_type": "text",
    "id": "Gps_yrgv3iuL"
   },
   "source": [
    "#### Double equal to operator"
   ]
  },
  {
   "cell_type": "code",
   "execution_count": null,
   "metadata": {
    "colab": {},
    "colab_type": "code",
    "id": "A5Z1SNdU3iuN"
   },
   "outputs": [],
   "source": [
    "10 == 10"
   ]
  },
  {
   "cell_type": "markdown",
   "metadata": {
    "colab_type": "text",
    "id": "EESTMWWj3iul"
   },
   "source": [
    "<h4 style = \"color:Red\">Note</h3>\n",
    "\n",
    "#####' = ' is an assignment operator; it is used to assign value to a variable on the left.\n",
    "\n",
    "#####'==' is a relational operator; it is used for comparision of equality."
   ]
  },
  {
   "cell_type": "code",
   "execution_count": null,
   "metadata": {
    "colab": {},
    "colab_type": "code",
    "id": "-1KfbhEY3iuo"
   },
   "outputs": [],
   "source": [
    "10 == 5"
   ]
  },
  {
   "cell_type": "markdown",
   "metadata": {
    "colab_type": "text",
    "id": "5fbw7E9z3iuz"
   },
   "source": [
    "#### Not equal to operator"
   ]
  },
  {
   "cell_type": "code",
   "execution_count": null,
   "metadata": {
    "colab": {},
    "colab_type": "code",
    "id": "55-0vgdM3iu0"
   },
   "outputs": [],
   "source": [
    "10 != 5"
   ]
  },
  {
   "cell_type": "markdown",
   "metadata": {
    "colab_type": "text",
    "id": "V06qe86n3iu7"
   },
   "source": [
    "#### Greater than operator"
   ]
  },
  {
   "cell_type": "code",
   "execution_count": null,
   "metadata": {
    "colab": {},
    "colab_type": "code",
    "id": "8c2J3yHa3iu8"
   },
   "outputs": [],
   "source": [
    "10 > 5"
   ]
  },
  {
   "cell_type": "markdown",
   "metadata": {
    "colab_type": "text",
    "id": "uhsbgfZC3ivE"
   },
   "source": [
    "#### Less than operator"
   ]
  },
  {
   "cell_type": "code",
   "execution_count": null,
   "metadata": {
    "colab": {},
    "colab_type": "code",
    "id": "HQsCDc2T3ivG"
   },
   "outputs": [],
   "source": [
    "10 < 5"
   ]
  },
  {
   "cell_type": "markdown",
   "metadata": {
    "colab_type": "text",
    "id": "TRSrE9Tl3ivL"
   },
   "source": [
    "#### Greater than equal to operator"
   ]
  },
  {
   "cell_type": "code",
   "execution_count": null,
   "metadata": {
    "colab": {},
    "colab_type": "code",
    "id": "l0cL7sHQ3ivN"
   },
   "outputs": [],
   "source": [
    "10 <= 5"
   ]
  },
  {
   "cell_type": "markdown",
   "metadata": {
    "colab_type": "text",
    "id": "6Xy2aGJP3ivh"
   },
   "source": [
    "#### Less than equal to operator"
   ]
  },
  {
   "cell_type": "code",
   "execution_count": null,
   "metadata": {
    "colab": {},
    "colab_type": "code",
    "id": "zRkIc8Xe3ivj"
   },
   "outputs": [],
   "source": [
    "10 >= 5"
   ]
  },
  {
   "cell_type": "markdown",
   "metadata": {
    "colab_type": "text",
    "id": "BbXHSZ1M3ivm"
   },
   "source": [
    "<h2 style = \"color:Brown\">Decision Making"
   ]
  },
  {
   "cell_type": "markdown",
   "metadata": {
    "colab_type": "text",
    "id": "8p6uKB0lcSoF"
   },
   "source": [
    "Now let's get back to writing a conditional statement with the 'if' condition\n",
    "\n",
    "To do that we would write it 'if' followed by an expression"
   ]
  },
  {
   "cell_type": "markdown",
   "metadata": {
    "colab_type": "text",
    "id": "KfhONX4H3ivn"
   },
   "source": [
    "#### Write a program to check value in variable x is less than 99"
   ]
  },
  {
   "cell_type": "code",
   "execution_count": null,
   "metadata": {
    "colab": {
     "base_uri": "https://localhost:8080/",
     "height": 35
    },
    "colab_type": "code",
    "id": "4ZDYkAze3ivo",
    "outputId": "40826ac5-f12a-4f1f-83f6-2abfcf8a4fee"
   },
   "outputs": [
    {
     "name": "stdout",
     "output_type": "stream",
     "text": [
      "45 is less than 99\n"
     ]
    }
   ],
   "source": [
    "x = 45\n",
    "\n",
    "if x < 99:\n",
    "    print(x, \"is less than 99\")\n",
    "else:\n",
    "    print(x, \"is more than 99\")"
   ]
  },
  {
   "cell_type": "code",
   "execution_count": null,
   "metadata": {
    "colab": {
     "base_uri": "https://localhost:8080/",
     "height": 35
    },
    "colab_type": "code",
    "id": "l6aIIucEm94-",
    "outputId": "95f2511c-1e4c-48c8-e5fd-3115a936e252"
   },
   "outputs": [
    {
     "name": "stdout",
     "output_type": "stream",
     "text": [
      "919  is more than 99\n"
     ]
    }
   ],
   "source": [
    "x = 919\n",
    "\n",
    "if x < 99:\n",
    "    print(x, \"is less than equal to 99\")\n",
    "elif x == 99:\n",
    "    print(x, \"is equal to 99\")\n",
    "else:\n",
    "    print(x, \" is more than 99\") "
   ]
  },
  {
   "cell_type": "markdown",
   "metadata": {
    "colab_type": "text",
    "id": "B-_K63jpUlnP"
   },
   "source": [
    "## Logical Operators\n",
    "We use logical operators in situations where we have multiple conditions\n",
    "\n",
    "####   AND\n",
    "####   OR\n",
    "####   NOR\n",
    "####   XOR\n",
    "\n",
    "Are some of the common and most widely used logical operators\n",
    "You can learn more about them from this link: https://pythonlessons.net/python-logic-gates/\n",
    "\n",
    "\n"
   ]
  },
  {
   "cell_type": "markdown",
   "metadata": {
    "colab_type": "text",
    "id": "_3rFgEsl3ivu"
   },
   "source": [
    "#### Write a program to record the age of visitor and allows him to an exclusive children's day party hosted by Mr Obama only if he or she is above 60 years or below 18 years of age"
   ]
  },
  {
   "cell_type": "code",
   "execution_count": null,
   "metadata": {
    "colab": {},
    "colab_type": "code",
    "id": "iLt7oLKA3ivv"
   },
   "outputs": [],
   "source": [
    "x = int(input(\"Enter your age : \"))\n",
    "\n",
    "if x <= 18 or x >= 60 :\n",
    "    print(\"Welcome to Party!!\")\n",
    "else:\n",
    "    print(\"Sorry!! you do not fit in the age criteria\")"
   ]
  },
  {
   "cell_type": "markdown",
   "metadata": {
    "colab_type": "text",
    "id": "9hzS6trQ3ivy"
   },
   "source": [
    "#### Write a program which offers various discounts based on purchase bills"
   ]
  },
  {
   "cell_type": "code",
   "execution_count": null,
   "metadata": {
    "colab": {},
    "colab_type": "code",
    "id": "dsV8l-O_3iv2"
   },
   "outputs": [],
   "source": [
    "shoppinng_total = 550\n",
    "\n",
    "if shoppinng_total >= 500:\n",
    "    print(\"You won a discount voucher of flat 1000 on next purchase\")\n",
    "elif shoppinng_total >= 250:\n",
    "    print(\"You won a discount voucher of flat 500 on next purchase\")\n",
    "elif shoppinng_total >= 100:\n",
    "    print(\"You won a discount voucher of flat 100 on next purchase\")    \n",
    "else:\n",
    "    print(\"OOPS!! no discount for you!!!\")"
   ]
  },
  {
   "cell_type": "markdown",
   "metadata": {
    "colab_type": "text",
    "id": "3eUbaeYR3iv9"
   },
   "source": [
    "#### Example on nested if-else"
   ]
  },
  {
   "cell_type": "code",
   "execution_count": null,
   "metadata": {
    "colab": {},
    "colab_type": "code",
    "id": "CE2giXPg3iv-"
   },
   "outputs": [],
   "source": [
    "world_cups = {2019 : ['England', 'New Zealand'], 2015:[\"Australia\", \"New Zealand\"], 2011 : [\"India\", \"Sri Lanka\"], 2007: [\"Australia\", \"Sri Lanka\"], 2003: [\"Australia\", \"India\"]}\n",
    "\n",
    "year = int(input(\"Enter year to check New Zealand made it to Finals in 20th century : \"))\n",
    "\n",
    "if year in world_cups :\n",
    "    if \"New Zealand\" in world_cups[year] :\n",
    "        print(\"New Zealand made it to Finals\")\n",
    "    else:\n",
    "        print(\"New Zealand could not make it to Finals\")\n",
    "        \n",
    "else:\n",
    "    print(\"World cup wasn't played in\", year)\n"
   ]
  },
  {
   "cell_type": "markdown",
   "metadata": {
    "colab_type": "text",
    "id": "5tqQiXz03iwC"
   },
   "source": [
    "<h2 style = \"color:Brown\">Loops and Iterations\n"
   ]
  },
  {
   "cell_type": "markdown",
   "metadata": {
    "colab_type": "text",
    "id": "IAgap-5oyzJk"
   },
   "source": [
    "Let’s look at a small example where you have a person’s income and expense data across five months in the form of a list, and you want to compute his savings across these five months. You may be thinking of doing this manually by taking the first elements from the two lists and subtracting them, then again taking the second elements and subtracting, and so on. This may look simple, but let’s say it is across 10 or 20 years. Would you do the same? \n",
    "\n",
    " \n",
    "\n",
    "This is where the concept of iteration comes in handy, as you are repeating the same operation multiple times. With this in mind, let’s learn more about it."
   ]
  },
  {
   "cell_type": "markdown",
   "metadata": {
    "colab_type": "text",
    "id": "-Cx71ieozcRb"
   },
   "source": [
    "Let's start with a simple 'While' loop - \n",
    "##### A while loop begins with a keyword 'While' followed by an expression \n",
    "##### So While this condition is satisfied keep running the loop"
   ]
  },
  {
   "cell_type": "code",
   "execution_count": null,
   "metadata": {
    "colab": {
     "base_uri": "https://localhost:8080/",
     "height": 54
    },
    "colab_type": "code",
    "id": "zjDKltm_0_wQ",
    "outputId": "de46af96-707b-46de-fc3f-3f965f405b3a"
   },
   "outputs": [
    {
     "name": "stdout",
     "output_type": "stream",
     "text": [
      "Enter your four digit pin: 1234\n",
      "Welcome\n"
     ]
    }
   ],
   "source": [
    "# Let's create a pin checker which we generally have in our phones or ATMs\n",
    "pin = input(\"Enter your four digit pin: \")\n",
    "while pin != '1234':\n",
    "    pin = input('Invalid input, please try again: ')  \n",
    "print(\"Pin validation successful.\")"
   ]
  },
  {
   "cell_type": "code",
   "execution_count": 6,
   "metadata": {},
   "outputs": [
    {
     "data": {
      "text/plain": [
       "[34, 54, 100]"
      ]
     },
     "execution_count": 6,
     "metadata": {},
     "output_type": "execute_result"
    }
   ],
   "source": [
    "mixed_data = ['hiii',34,98.6,'True',True,'python',54,100] # extract only integers\n",
    "list(filter(lambda x:type(x)==int,mixed_data))\n",
    "\n"
   ]
  },
  {
   "cell_type": "code",
   "execution_count": 11,
   "metadata": {},
   "outputs": [
    {
     "data": {
      "text/plain": [
       "9"
      ]
     },
     "execution_count": 11,
     "metadata": {},
     "output_type": "execute_result"
    }
   ],
   "source": [
    "from functools import reduce\n",
    "nums = [2,5,4,9,1,3,8]\n",
    "reduce(lambda x,y : x if x > y else y,nums)"
   ]
  },
  {
   "cell_type": "code",
   "execution_count": 17,
   "metadata": {},
   "outputs": [
    {
     "data": {
      "text/plain": [
       "'Hello Everyone, I Am Enjoying Python Coding'"
      ]
     },
     "execution_count": 17,
     "metadata": {},
     "output_type": "execute_result"
    }
   ],
   "source": [
    "senetence = 'hello everyone, i am enjoying python coding' # return sentence where first letter capital of each word\n",
    "\" \".join(list(map(lambda x:x.capitalize(),senetence.split())))"
   ]
  },
  {
   "cell_type": "code",
   "execution_count": 18,
   "metadata": {},
   "outputs": [
    {
     "data": {
      "text/plain": [
       "[4, 16, 64]"
      ]
     },
     "execution_count": 18,
     "metadata": {},
     "output_type": "execute_result"
    }
   ],
   "source": [
    "nums = [2,5,4,9,1,3,8]\n",
    "list(map(lambda c: c*c , list(filter(lambda num:num%2==0,nums))))"
   ]
  },
  {
   "cell_type": "code",
   "execution_count": 12,
   "metadata": {},
   "outputs": [
    {
     "data": {
      "text/plain": [
       "32"
      ]
     },
     "execution_count": 12,
     "metadata": {},
     "output_type": "execute_result"
    }
   ],
   "source": [
    "from functools import reduce\n",
    "nums = [2,5,4,9,1,3,8]\n",
    "reduce(lambda x,y : x+y,nums)"
   ]
  },
  {
   "cell_type": "code",
   "execution_count": 19,
   "metadata": {},
   "outputs": [
    {
     "data": {
      "text/plain": [
       "84"
      ]
     },
     "execution_count": 19,
     "metadata": {},
     "output_type": "execute_result"
    }
   ],
   "source": [
    "reduce(lambda x,y : x+y , list(map(lambda c: c*c, list(filter(lambda num:num%2==0,nums)))))"
   ]
  },
  {
   "cell_type": "code",
   "execution_count": 28,
   "metadata": {},
   "outputs": [
    {
     "data": {
      "text/plain": [
       "2"
      ]
     },
     "execution_count": 28,
     "metadata": {},
     "output_type": "execute_result"
    }
   ],
   "source": [
    "input_list=['Santa Cruz','Santa fe','Mumbai','Delhi']\n",
    "sum(map(lambda x:x[0] == \"S\",input_list))"
   ]
  },
  {
   "cell_type": "code",
   "execution_count": 3,
   "metadata": {},
   "outputs": [
    {
     "name": "stdout",
     "output_type": "stream",
     "text": [
      "['Ankur Narang', 'Avik Sarkar', 'Kiran R', 'Nitin Sareen']\n"
     ]
    }
   ],
   "source": [
    "input_list = [ ['Ankur','Avik','Kiran','Nitin'],['Narang','Sarkar','R','Sareen']]\n",
    "first_name = input_list[0]\n",
    "last_name = input_list[1]\n",
    "\n",
    "name = list(map(lambda x,y:x+\" \"+y,first_name,last_name))#Write your code here\n",
    "\n",
    "print(name)"
   ]
  },
  {
   "cell_type": "code",
   "execution_count": 5,
   "metadata": {},
   "outputs": [
    {
     "name": "stdout",
     "output_type": "stream",
     "text": [
      "[5, 10, 15, 20, 25, 30, 35, 40, 45, 50]\n"
     ]
    }
   ],
   "source": [
    "import ast,sys\n",
    "input_list = [1, 2, 3, 4, 5, 6, 7, 8, 9, 10, 11, 12, 13, 14, 15, 16, 17, 18, 19, 20, 21, 22, 23, 24, 25, 26, 27, 28, 29, 30, 31, 32, 33, 34, 35, 36, 37, 38, 39, 40, 41, 42, 43, 44, 45, 46, 47, 48, 49, 50]\n",
    "\n",
    "list_answer = list(filter(lambda x:x%5 == 0,input_list)) #Write your answer here\n",
    "\n",
    "print(list_answer)"
   ]
  },
  {
   "cell_type": "code",
   "execution_count": 8,
   "metadata": {},
   "outputs": [
    {
     "name": "stdout",
     "output_type": "stream",
     "text": [
      "['soap', 'sharp', 'ship', 'sheep']\n"
     ]
    }
   ],
   "source": [
    "import ast,sys\n",
    "input_list = ['soap','sharp','shy','silent','ship','summer','sheep']\n",
    "\n",
    "sp = list(filter(lambda x: x.startswith(\"s\") and x.endswith(\"p\"),input_list)) #Write your code here\n",
    "\n",
    "print(sp)"
   ]
  },
  {
   "cell_type": "code",
   "execution_count": 10,
   "metadata": {},
   "outputs": [
    {
     "name": "stdout",
     "output_type": "stream",
     "text": [
      "All you have to fear is fear itself\n"
     ]
    }
   ],
   "source": [
    "import ast,sys\n",
    "input_list = ['All','you','have','to','fear','is','fear','itself']\n",
    "\n",
    "from functools import reduce\n",
    "\n",
    "#write your code here.\n",
    "output=str(reduce(lambda x,y:x+\" \"+y,input_list))\n",
    "\n",
    "print(output)"
   ]
  },
  {
   "cell_type": "code",
   "execution_count": 11,
   "metadata": {},
   "outputs": [
    {
     "name": "stdout",
     "output_type": "stream",
     "text": [
      "99\n"
     ]
    }
   ],
   "source": [
    "import ast,sys\n",
    "input_list = [65,76,87,23,12,90,99]\n",
    "from functools import reduce\n",
    "\n",
    "answer = int(reduce(lambda x,y:x if x>y else y,input_list))#Type your answer here.\n",
    "\n",
    "print(answer)"
   ]
  },
  {
   "cell_type": "code",
   "execution_count": 12,
   "metadata": {},
   "outputs": [
    {
     "data": {
      "text/plain": [
       "[5, 6, 7, 10, 6, 7, 8, 11, 7, 8, 9, 12, 11, 12, 13, 16]"
      ]
     },
     "execution_count": 12,
     "metadata": {},
     "output_type": "execute_result"
    }
   ],
   "source": [
    "l1=[1,2,3,7]\n",
    "l2=[4,5,6,9]\n",
    "[x+y for x in l1 for y in l2]"
   ]
  },
  {
   "cell_type": "code",
   "execution_count": 13,
   "metadata": {},
   "outputs": [
    {
     "name": "stdout",
     "output_type": "stream",
     "text": [
      "None\n"
     ]
    }
   ],
   "source": [
    "def function(n):\n",
    "  n=n+1\n",
    " \n",
    "n=2\n",
    "print(function(2))"
   ]
  },
  {
   "cell_type": "code",
   "execution_count": null,
   "metadata": {
    "colab": {
     "base_uri": "https://localhost:8080/",
     "height": 208
    },
    "colab_type": "code",
    "id": "FgRx4FMl2-dI",
    "outputId": "bd16f4de-232b-4b2c-ec98-0c0a8587a6fd"
   },
   "outputs": [
    {
     "name": "stdout",
     "output_type": "stream",
     "text": [
      "Enter your four digit pin: 1111\n",
      "Invalid input, please try again: 2222\n",
      "Invalid input, please try again: 3456\n"
     ]
    },
    {
     "ename": "SystemExit",
     "evalue": "ignored",
     "output_type": "error",
     "traceback": [
      "An exception has occurred, use %tb to see the full traceback.\n",
      "\u001b[0;31mSystemExit\u001b[0m\u001b[0;31m:\u001b[0m Too many invalid attempts\n"
     ]
    },
    {
     "name": "stderr",
     "output_type": "stream",
     "text": [
      "/usr/local/lib/python3.6/dist-packages/IPython/core/interactiveshell.py:2890: UserWarning: To exit: use 'exit', 'quit', or Ctrl-D.\n",
      "  warn(\"To exit: use 'exit', 'quit', or Ctrl-D.\", stacklevel=1)\n"
     ]
    }
   ],
   "source": [
    "# Now if we want to add a maximum number of tries allowed condition we'll use the if loop\n",
    "\n",
    "import sys    #required for exiting the code and displaying an error\n",
    "\n",
    "pin = input(\"Enter your four digit pin: \")\n",
    "attempt_count = 1\n",
    "while pin != '1234':\n",
    "    if attempt_count >= 3:\n",
    "     sys.exit(\"Too many invalid attempts\")   #error code\n",
    "    pin = input('Invalid input, please try again: ')  \n",
    "    attempt_count += 1\n",
    "print(\"Pin validation successful.\")"
   ]
  },
  {
   "cell_type": "code",
   "execution_count": 20,
   "metadata": {},
   "outputs": [
    {
     "name": "stdout",
     "output_type": "stream",
     "text": [
      "[12, 20, 28]\n"
     ]
    }
   ],
   "source": [
    "def sf(a):\n",
    "    return a%4==0 and a%8!=0\n",
    "m=filter(sf, range(10, 31))\n",
    "print(list(m))"
   ]
  },
  {
   "cell_type": "markdown",
   "metadata": {
    "colab_type": "text",
    "id": "GXMTk6P4VRZr"
   },
   "source": []
  },
  {
   "cell_type": "code",
   "execution_count": null,
   "metadata": {
    "colab": {},
    "colab_type": "code",
    "id": "UkSzDrOZ3iwD"
   },
   "outputs": [],
   "source": [
    "# iterate over list of integers\n",
    "\n",
    "l = [1,3,4,2,5,6]\n",
    "for i in l : \n",
    "    print(i)"
   ]
  },
  {
   "cell_type": "code",
   "execution_count": 21,
   "metadata": {},
   "outputs": [
    {
     "ename": "FileNotFoundError",
     "evalue": "[Errno 2] No such file or directory: 'google_stock_price.csv'",
     "output_type": "error",
     "traceback": [
      "\u001b[1;31m---------------------------------------------------------------------------\u001b[0m",
      "\u001b[1;31mFileNotFoundError\u001b[0m                         Traceback (most recent call last)",
      "Cell \u001b[1;32mIn[21], line 1\u001b[0m\n\u001b[1;32m----> 1\u001b[0m google_data \u001b[38;5;241m=\u001b[39m \u001b[38;5;28;43mopen\u001b[39;49m\u001b[43m(\u001b[49m\u001b[38;5;124;43m'\u001b[39;49m\u001b[38;5;124;43mgoogle_stock_price.csv\u001b[39;49m\u001b[38;5;124;43m'\u001b[39;49m\u001b[43m)\u001b[49m\u001b[38;5;241m.\u001b[39mreadlines() \n\u001b[0;32m      2\u001b[0m google_data\n",
      "File \u001b[1;32m~\\AppData\\Local\\Packages\\PythonSoftwareFoundation.Python.3.11_qbz5n2kfra8p0\\LocalCache\\local-packages\\Python311\\site-packages\\IPython\\core\\interactiveshell.py:324\u001b[0m, in \u001b[0;36m_modified_open\u001b[1;34m(file, *args, **kwargs)\u001b[0m\n\u001b[0;32m    317\u001b[0m \u001b[38;5;28;01mif\u001b[39;00m file \u001b[38;5;129;01min\u001b[39;00m {\u001b[38;5;241m0\u001b[39m, \u001b[38;5;241m1\u001b[39m, \u001b[38;5;241m2\u001b[39m}:\n\u001b[0;32m    318\u001b[0m     \u001b[38;5;28;01mraise\u001b[39;00m \u001b[38;5;167;01mValueError\u001b[39;00m(\n\u001b[0;32m    319\u001b[0m         \u001b[38;5;124mf\u001b[39m\u001b[38;5;124m\"\u001b[39m\u001b[38;5;124mIPython won\u001b[39m\u001b[38;5;124m'\u001b[39m\u001b[38;5;124mt let you open fd=\u001b[39m\u001b[38;5;132;01m{\u001b[39;00mfile\u001b[38;5;132;01m}\u001b[39;00m\u001b[38;5;124m by default \u001b[39m\u001b[38;5;124m\"\u001b[39m\n\u001b[0;32m    320\u001b[0m         \u001b[38;5;124m\"\u001b[39m\u001b[38;5;124mas it is likely to crash IPython. If you know what you are doing, \u001b[39m\u001b[38;5;124m\"\u001b[39m\n\u001b[0;32m    321\u001b[0m         \u001b[38;5;124m\"\u001b[39m\u001b[38;5;124myou can use builtins\u001b[39m\u001b[38;5;124m'\u001b[39m\u001b[38;5;124m open.\u001b[39m\u001b[38;5;124m\"\u001b[39m\n\u001b[0;32m    322\u001b[0m     )\n\u001b[1;32m--> 324\u001b[0m \u001b[38;5;28;01mreturn\u001b[39;00m \u001b[43mio_open\u001b[49m\u001b[43m(\u001b[49m\u001b[43mfile\u001b[49m\u001b[43m,\u001b[49m\u001b[43m \u001b[49m\u001b[38;5;241;43m*\u001b[39;49m\u001b[43margs\u001b[49m\u001b[43m,\u001b[49m\u001b[43m \u001b[49m\u001b[38;5;241;43m*\u001b[39;49m\u001b[38;5;241;43m*\u001b[39;49m\u001b[43mkwargs\u001b[49m\u001b[43m)\u001b[49m\n",
      "\u001b[1;31mFileNotFoundError\u001b[0m: [Errno 2] No such file or directory: 'google_stock_price.csv'"
     ]
    }
   ],
   "source": [
    "google_data = open('google_stock_price.csv').readlines() \n",
    "google_data"
   ]
  },
  {
   "cell_type": "code",
   "execution_count": null,
   "metadata": {
    "colab": {},
    "colab_type": "code",
    "id": "lfc9wsgq3iwK"
   },
   "outputs": [],
   "source": [
    "# iterate over a string\n",
    "\n",
    "string = \"New York\"\n",
    "for ch in string:\n",
    "    print(ch)"
   ]
  },
  {
   "cell_type": "code",
   "execution_count": null,
   "metadata": {
    "colab": {},
    "colab_type": "code",
    "id": "9x7XZeZR3iwT"
   },
   "outputs": [],
   "source": [
    "# iterate over a string - modify print using end\n",
    "\n",
    "string = \"New York\"\n",
    "for ch in string:\n",
    "    print(ch, end = \":\") # default value of end = \"\\n\""
   ]
  },
  {
   "cell_type": "code",
   "execution_count": null,
   "metadata": {
    "colab": {},
    "colab_type": "code",
    "id": "duDv2EGB3iwX"
   },
   "outputs": [],
   "source": [
    "# iterating over a dictionary\n",
    "\n",
    "students_data = {1:['Sam', 24] , 2:['Rob',25], 3:['Jack', 26], 4:['Cornor',24], 5:['Trump',27]}\n",
    "for key, val in students_data.items():\n",
    "    print(key, val)"
   ]
  },
  {
   "cell_type": "code",
   "execution_count": null,
   "metadata": {
    "colab": {},
    "colab_type": "code",
    "id": "LW6SLLMI3iwf"
   },
   "outputs": [],
   "source": [
    "# iterate over keys of a dictionary\n",
    "for key in students_data.keys():\n",
    "    print(key)"
   ]
  },
  {
   "cell_type": "code",
   "execution_count": null,
   "metadata": {
    "colab": {},
    "colab_type": "code",
    "id": "1TGQErz23iwk"
   },
   "outputs": [],
   "source": [
    "# Generate range of values.\n",
    "range(1, 101)"
   ]
  },
  {
   "cell_type": "code",
   "execution_count": null,
   "metadata": {
    "colab": {},
    "colab_type": "code",
    "id": "UZsdmFak3iwr"
   },
   "outputs": [],
   "source": [
    "l = list(range(1,101))\n",
    "l"
   ]
  },
  {
   "cell_type": "code",
   "execution_count": null,
   "metadata": {
    "colab": {},
    "colab_type": "code",
    "id": "SUy2Ac_u3iww"
   },
   "outputs": [],
   "source": [
    "# Iterate over range of values\n",
    "\n",
    "for i in range(1, 101):\n",
    "    print(i, end = \" \")"
   ]
  },
  {
   "cell_type": "code",
   "execution_count": null,
   "metadata": {
    "colab": {},
    "colab_type": "code",
    "id": "64kf2bNG3iw0"
   },
   "outputs": [],
   "source": [
    "# different variations in range\n",
    "\n",
    "print(list(range(1, 100, 2) ))# gives numbers from 1 to 100 with a step count of 2\n",
    "print(list(range(100, 0, -1))) # gives a reversed sequence of numbers from 100 to 1"
   ]
  },
  {
   "cell_type": "markdown",
   "metadata": {
    "colab_type": "text",
    "id": "IkvsCbO03iw4"
   },
   "source": [
    "#### Ex. Write a program to print prime numbers between 1 to 20"
   ]
  },
  {
   "cell_type": "code",
   "execution_count": null,
   "metadata": {
    "colab": {},
    "colab_type": "code",
    "id": "1MX9b5vR3iw5"
   },
   "outputs": [],
   "source": [
    "for n in range(1, 20):\n",
    "    flag = True\n",
    "    for i in range(2, n):\n",
    "        if n % i == 0:\n",
    "            flag = False\n",
    "            break   \n",
    "    if flag :\n",
    "        print(n)"
   ]
  },
  {
   "cell_type": "markdown",
   "metadata": {
    "colab_type": "text",
    "id": "l2HAhe0H3ixL"
   },
   "source": [
    "<h2 style = \"color:Brown\">Comprehensions"
   ]
  },
  {
   "cell_type": "code",
   "execution_count": null,
   "metadata": {
    "colab": {},
    "colab_type": "code",
    "id": "q4QFdX0Q3ixN",
    "outputId": "1704b7c2-a8c5-44fb-a9b5-00411b9a8fa6"
   },
   "outputs": [
    {
     "data": {
      "text/plain": [
       "[11, 5, 4, 6, 14]"
      ]
     },
     "execution_count": 11,
     "metadata": {
      "tags": []
     },
     "output_type": "execute_result"
    }
   ],
   "source": [
    "l1 = [\"automobiles\", \"Honda\", \"Benz\", \"Suzuki\", \"Morris Garages\" ]\n",
    "\n",
    "l2 = []\n",
    "\n",
    "for i in l1 :\n",
    "    l2.append(len(i))\n",
    "    \n",
    "l2 "
   ]
  },
  {
   "cell_type": "markdown",
   "metadata": {
    "colab_type": "text",
    "id": "iT-0Q4eE3ixR"
   },
   "source": [
    "#### The Functional Approach"
   ]
  },
  {
   "cell_type": "code",
   "execution_count": 1,
   "metadata": {
    "colab": {},
    "colab_type": "code",
    "id": "xUShDG1-3ixS",
    "outputId": "139ab248-dcc1-4340-83cb-e1db38562d98"
   },
   "outputs": [
    {
     "name": "stdout",
     "output_type": "stream",
     "text": [
      "[11, 5, 4, 6, 14]\n"
     ]
    }
   ],
   "source": [
    "# Example on list comprehension\n",
    "\n",
    "l1 = [\"automobiles\", \"Honda\", \"Benz\", \"Suzuki\", \"Morris Garages\" ]\n",
    "\n",
    "# Create a list consisting of length of each element from the above list\n",
    "\n",
    "l2 = [len(i) for i in l1]\n",
    "\n",
    "print(l2)"
   ]
  },
  {
   "cell_type": "code",
   "execution_count": 4,
   "metadata": {
    "colab": {},
    "colab_type": "code",
    "id": "VJgNB5f43ixc",
    "outputId": "466e6380-2cfc-480a-e758-b50b0921551b"
   },
   "outputs": [
    {
     "name": "stdout",
     "output_type": "stream",
     "text": [
      "automobiles  -  11\n",
      "Honda  -  5\n",
      "Benz  -  4\n",
      "Suzuki  -  6\n",
      "Morris Garages  -  14\n"
     ]
    },
    {
     "data": {
      "text/plain": [
       "dict"
      ]
     },
     "execution_count": 4,
     "metadata": {},
     "output_type": "execute_result"
    }
   ],
   "source": [
    "# iterating over l1 and l2 simultaneously\n",
    "\n",
    "for i,j in zip(l1,l2):\n",
    "    print(i, \" - \", j)\n",
    "\n",
    "l={i:i*2 for i in range(10)}\n",
    "type(l)"
   ]
  },
  {
   "cell_type": "markdown",
   "metadata": {
    "colab_type": "text",
    "id": "iK_zyRqO3ixi"
   },
   "source": [
    "#### Dictionary comprehension"
   ]
  },
  {
   "cell_type": "code",
   "execution_count": 5,
   "metadata": {},
   "outputs": [
    {
     "data": {
      "text/plain": [
       "23"
      ]
     },
     "execution_count": 5,
     "metadata": {},
     "output_type": "execute_result"
    }
   ],
   "source": [
    "def func(x, y = 1):\n",
    "    z = x * y + x + y\n",
    "    return z\n",
    "\n",
    "func(2, func(3))"
   ]
  },
  {
   "cell_type": "code",
   "execution_count": 6,
   "metadata": {},
   "outputs": [
    {
     "ename": "TypeError",
     "evalue": "func() missing 1 required positional argument: 'y'",
     "output_type": "error",
     "traceback": [
      "\u001b[1;31m---------------------------------------------------------------------------\u001b[0m",
      "\u001b[1;31mTypeError\u001b[0m                                 Traceback (most recent call last)",
      "Cell \u001b[1;32mIn[6], line 5\u001b[0m\n\u001b[0;32m      2\u001b[0m     z \u001b[38;5;241m=\u001b[39m x \u001b[38;5;241m*\u001b[39m y \u001b[38;5;241m+\u001b[39m x \u001b[38;5;241m+\u001b[39m y\n\u001b[0;32m      3\u001b[0m     \u001b[38;5;28;01mreturn\u001b[39;00m z\n\u001b[1;32m----> 5\u001b[0m func(\u001b[38;5;241m2\u001b[39m, \u001b[43mfunc\u001b[49m\u001b[43m(\u001b[49m\u001b[38;5;241;43m3\u001b[39;49m\u001b[43m)\u001b[49m)\n",
      "\u001b[1;31mTypeError\u001b[0m: func() missing 1 required positional argument: 'y'"
     ]
    }
   ],
   "source": [
    "def func(x, y):\n",
    "    z = x * y + x + y\n",
    "    return z\n",
    "\n",
    "func(2, func(3))"
   ]
  },
  {
   "cell_type": "code",
   "execution_count": 7,
   "metadata": {},
   "outputs": [
    {
     "data": {
      "text/plain": [
       "35"
      ]
     },
     "execution_count": 7,
     "metadata": {},
     "output_type": "execute_result"
    }
   ],
   "source": [
    "def func(x = 1 ,y = 2):\n",
    "    z = x * y + x + y\n",
    "    return z\n",
    "\n",
    "func(2, func(3))"
   ]
  },
  {
   "cell_type": "code",
   "execution_count": null,
   "metadata": {
    "colab": {},
    "colab_type": "code",
    "id": "I3h6sW-I3ixj",
    "outputId": "83aa55f9-d453-4880-d869-170d03bb827f"
   },
   "outputs": [
    {
     "name": "stdout",
     "output_type": "stream",
     "text": [
      "{'automobiles': 11, 'Honda': 5, 'Benz': 4, 'Suzuki': 6, 'Morris Garages': 14}\n"
     ]
    }
   ],
   "source": [
    "# Example on dictionary comprehension\n",
    "\n",
    "l1 = [\"automobiles\", \"Honda\", \"Benz\", \"Suzuki\", \"Morris Garages\" ]\n",
    "\n",
    "# Create a dictionary consisting of element and length of each element from the above list\n",
    "\n",
    "d = {i : len(i) for i in l1}\n",
    "\n",
    "print(d)"
   ]
  },
  {
   "cell_type": "code",
   "execution_count": 8,
   "metadata": {},
   "outputs": [
    {
     "data": {
      "text/plain": [
       "9996"
      ]
     },
     "execution_count": 8,
     "metadata": {},
     "output_type": "execute_result"
    }
   ],
   "source": [
    "min = (lambda x, y: x if x < y else y)\n",
    "min(101*99, 102*98)"
   ]
  },
  {
   "cell_type": "markdown",
   "metadata": {
    "colab_type": "text",
    "id": "yQ_-6lEg3ixs"
   },
   "source": [
    "#### Set Comprehensions\n",
    "\n",
    "#### Ex . Write a program which takes a word as input from user and returns vowels from the word"
   ]
  },
  {
   "cell_type": "code",
   "execution_count": 15,
   "metadata": {},
   "outputs": [
    {
     "ename": "NameError",
     "evalue": "name 'xy' is not defined",
     "output_type": "error",
     "traceback": [
      "\u001b[1;31m---------------------------------------------------------------------------\u001b[0m",
      "\u001b[1;31mNameError\u001b[0m                                 Traceback (most recent call last)",
      "Cell \u001b[1;32mIn[15], line 5\u001b[0m\n\u001b[0;32m      1\u001b[0m x \u001b[38;5;241m=\u001b[39m[\u001b[38;5;241m4\u001b[39m,\u001b[38;5;241m3\u001b[39m,\u001b[38;5;241m2\u001b[39m,\u001b[38;5;241m1\u001b[39m]\n\u001b[0;32m      2\u001b[0m y \u001b[38;5;241m=\u001b[39m [\u001b[38;5;241m1\u001b[39m,\u001b[38;5;241m2\u001b[39m,\u001b[38;5;241m3\u001b[39m,\u001b[38;5;241m4\u001b[39m]\n\u001b[1;32m----> 5\u001b[0m \u001b[38;5;28mlist\u001b[39m(\u001b[38;5;28mzip\u001b[39m(\u001b[43mxy\u001b[49m))\n",
      "\u001b[1;31mNameError\u001b[0m: name 'xy' is not defined"
     ]
    }
   ],
   "source": [
    "x =[4,3,2,1]\n",
    "y = [1,2,3,4]\n",
    "\n",
    "\n",
    "list(zip(xy))"
   ]
  },
  {
   "cell_type": "code",
   "execution_count": null,
   "metadata": {
    "colab": {},
    "colab_type": "code",
    "id": "cydGA87j3ixu",
    "outputId": "f5d4c900-8aef-4715-9954-f80f847a7f53"
   },
   "outputs": [
    {
     "name": "stdout",
     "output_type": "stream",
     "text": [
      "Enter a word : aeroplane\n"
     ]
    },
    {
     "data": {
      "text/plain": [
       "{'a', 'e', 'o'}"
      ]
     },
     "execution_count": 15,
     "metadata": {
      "tags": []
     },
     "output_type": "execute_result"
    }
   ],
   "source": [
    "word = input(\"Enter a word : \")\n",
    "vowels = {i for i in word if i in \"aeiou\"}\n",
    "vowels"
   ]
  },
  {
   "cell_type": "markdown",
   "metadata": {
    "colab_type": "text",
    "id": "YU9T02GC3ix5"
   },
   "source": [
    "<h2 style = \"color:Brown\">Functions</h2>\n",
    "\n",
    "#### Ex. Write a function which takes a value as a parameter and returns its factorial"
   ]
  },
  {
   "cell_type": "code",
   "execution_count": null,
   "metadata": {
    "colab": {},
    "colab_type": "code",
    "id": "_BLzz8K_3ix6",
    "outputId": "a8242ced-ff67-458e-a6c5-be991887c048"
   },
   "outputs": [
    {
     "data": {
      "text/plain": [
       "120"
      ]
     },
     "execution_count": 16,
     "metadata": {
      "tags": []
     },
     "output_type": "execute_result"
    }
   ],
   "source": [
    "def factorial(n):\n",
    "    \n",
    "    fact = 1\n",
    "    \n",
    "    for i in range(1, n+1):\n",
    "        fact *= i\n",
    "    \n",
    "    return fact\n",
    "\n",
    "factorial(5)"
   ]
  },
  {
   "cell_type": "code",
   "execution_count": null,
   "metadata": {
    "colab": {},
    "colab_type": "code",
    "id": "9WzZPKob3iyA",
    "outputId": "4c156e9c-f839-4d44-86dc-e70e8bde72fa"
   },
   "outputs": [
    {
     "ename": "TypeError",
     "evalue": "factorial() missing 1 required positional argument: 'n'",
     "output_type": "error",
     "traceback": [
      "\u001b[0;31m---------------------------------------------------------------------------\u001b[0m",
      "\u001b[0;31mTypeError\u001b[0m                                 Traceback (most recent call last)",
      "\u001b[0;32m<ipython-input-17-46dc121ebbf1>\u001b[0m in \u001b[0;36m<module>\u001b[0;34m\u001b[0m\n\u001b[0;32m----> 1\u001b[0;31m \u001b[0mfactorial\u001b[0m\u001b[0;34m(\u001b[0m\u001b[0;34m)\u001b[0m\u001b[0;34m\u001b[0m\u001b[0;34m\u001b[0m\u001b[0m\n\u001b[0m",
      "\u001b[0;31mTypeError\u001b[0m: factorial() missing 1 required positional argument: 'n'"
     ]
    }
   ],
   "source": [
    "factorial()"
   ]
  },
  {
   "cell_type": "markdown",
   "metadata": {
    "colab_type": "text",
    "id": "j4eld4EW3iyO"
   },
   "source": [
    "#### Function Arguments"
   ]
  },
  {
   "cell_type": "code",
   "execution_count": null,
   "metadata": {
    "colab": {},
    "colab_type": "code",
    "id": "TBrV-SMN3iyQ"
   },
   "outputs": [],
   "source": [
    "def func(name, age = 35):  # default parameter\n",
    "    print(\"name : \", name)\n",
    "    print(\"age : \", age)"
   ]
  },
  {
   "cell_type": "code",
   "execution_count": null,
   "metadata": {
    "colab": {},
    "colab_type": "code",
    "id": "Kjhs3xXB3iya",
    "outputId": "15566507-e2e0-4e33-f220-ffdb535e0961"
   },
   "outputs": [
    {
     "name": "stdout",
     "output_type": "stream",
     "text": [
      "name :  Jane\n",
      "age :  25\n"
     ]
    }
   ],
   "source": [
    "func(\"Jane\", 25)"
   ]
  },
  {
   "cell_type": "code",
   "execution_count": null,
   "metadata": {
    "colab": {},
    "colab_type": "code",
    "id": "gcFhQfK63iyg",
    "outputId": "d96e674e-2cb2-4561-87c0-73ee57eb8131"
   },
   "outputs": [
    {
     "name": "stdout",
     "output_type": "stream",
     "text": [
      "name :  Jane\n",
      "age :  35\n"
     ]
    }
   ],
   "source": [
    "func(\"Jane\")"
   ]
  },
  {
   "cell_type": "code",
   "execution_count": null,
   "metadata": {
    "colab": {
     "base_uri": "https://localhost:8080/",
     "height": 72
    },
    "colab_type": "code",
    "id": "-ru45WBK3iym",
    "outputId": "e1d4a75f-f360-456b-a368-65eb9e639546"
   },
   "outputs": [
    {
     "name": "stdout",
     "output_type": "stream",
     "text": [
      "name :  Jane\n",
      "age :  35\n",
      "city :  Seattle\n"
     ]
    }
   ],
   "source": [
    "def func(name, age = 35, city = \"New York\"):\n",
    "    print(\"name : \", name)\n",
    "    print(\"age : \", age)\n",
    "    print(\"city : \", city)\n",
    "    \n",
    "func(\"Jane\", city = \"Seattle\") # key-word argument"
   ]
  },
  {
   "cell_type": "code",
   "execution_count": null,
   "metadata": {
    "colab": {},
    "colab_type": "code",
    "id": "3GQBDj2c3iys",
    "outputId": "16f60ff4-a676-4635-9200-a5f5b6c5ce71"
   },
   "outputs": [
    {
     "name": "stdout",
     "output_type": "stream",
     "text": [
      "(1, 3, 'abc')\n"
     ]
    }
   ],
   "source": [
    "def var_func(*args):\n",
    "    print(args)\n",
    "    \n",
    "var_func(1,3,\"abc\") # variable-length argument"
   ]
  },
  {
   "cell_type": "markdown",
   "metadata": {
    "colab_type": "text",
    "id": "a8Wi284I3iy0"
   },
   "source": [
    "<h2 style = \"color:Brown\"> Lambda Function"
   ]
  },
  {
   "cell_type": "code",
   "execution_count": null,
   "metadata": {
    "colab": {},
    "colab_type": "code",
    "id": "ma5T10Ms3iy4",
    "outputId": "621cc2ec-3df7-48df-bfec-c9b7d99da3db"
   },
   "outputs": [
    {
     "data": {
      "text/plain": [
       "'even'"
      ]
     },
     "execution_count": 24,
     "metadata": {
      "tags": []
     },
     "output_type": "execute_result"
    }
   ],
   "source": [
    "# Write a lambda function to check a number is even or odd\n",
    "\n",
    "f = lambda x: \"even\" if x % 2 == 0 else \"odd\"\n",
    "\n",
    "f(10)"
   ]
  },
  {
   "cell_type": "markdown",
   "metadata": {
    "colab_type": "text",
    "id": "uE3EmGA03izN"
   },
   "source": [
    "<h2 style = \"color:Brown\">map - filter - reduce"
   ]
  },
  {
   "cell_type": "markdown",
   "metadata": {
    "colab_type": "text",
    "id": "InpYMIOS3izQ"
   },
   "source": [
    "#### Some more examples on map - filter - reduce"
   ]
  },
  {
   "cell_type": "code",
   "execution_count": null,
   "metadata": {
    "colab": {},
    "colab_type": "code",
    "id": "W8koNAG93izR",
    "outputId": "81cf7228-2ec2-4d79-88f0-2600c16ed70b"
   },
   "outputs": [
    {
     "name": "stdout",
     "output_type": "stream",
     "text": [
      "<map object at 0x10d8aeb70>\n",
      "[4, 16, 25]\n"
     ]
    }
   ],
   "source": [
    "L1 = [2,4,5]\n",
    "print(map(lambda x: x**2, L1))\n",
    "print(list(map(lambda x: x**2, L1)))"
   ]
  },
  {
   "cell_type": "markdown",
   "metadata": {
    "colab_type": "text",
    "id": "LGwFbuqB3izb"
   },
   "source": [
    "#### Defining a function and using it in map"
   ]
  },
  {
   "cell_type": "code",
   "execution_count": null,
   "metadata": {
    "colab": {},
    "colab_type": "code",
    "id": "dp-JDMou3izc",
    "outputId": "8a7577f1-3134-43a0-9280-84f20b49b16f"
   },
   "outputs": [
    {
     "name": "stdout",
     "output_type": "stream",
     "text": [
      "[4, 16, 25]\n"
     ]
    }
   ],
   "source": [
    "L1 = [2,4,5]\n",
    "def squareit(n):\n",
    "    return n**2\n",
    "\n",
    "print(list(map(squareit, L1)))"
   ]
  },
  {
   "cell_type": "markdown",
   "metadata": {
    "colab_type": "text",
    "id": "KFDLcV613izj"
   },
   "source": [
    "#### Filter function to return the multiples of 3 "
   ]
  },
  {
   "cell_type": "code",
   "execution_count": null,
   "metadata": {
    "colab": {},
    "colab_type": "code",
    "id": "exVB0r-D3izm",
    "outputId": "c3a11090-d458-448e-a002-d79ff8bfb3c9"
   },
   "outputs": [
    {
     "name": "stdout",
     "output_type": "stream",
     "text": [
      "[3, 6, 9]\n"
     ]
    }
   ],
   "source": [
    "my_list = [3,4,5,6,7,8,9]\n",
    "\n",
    "divby3 = lambda x:  x % 3 == 0\n",
    "\n",
    "div = filter(divby3, my_list)\n",
    "print(list(div))\n"
   ]
  },
  {
   "cell_type": "markdown",
   "metadata": {
    "colab_type": "text",
    "id": "OkOrezsB3izr"
   },
   "source": [
    "#### Ex. Write a python program to count the students above age 18"
   ]
  },
  {
   "cell_type": "code",
   "execution_count": null,
   "metadata": {
    "colab": {},
    "colab_type": "code",
    "id": "smQD9y3U3iz0",
    "outputId": "a354103d-9879-4a88-a3a9-87ab15f7c7bb"
   },
   "outputs": [
    {
     "data": {
      "text/plain": [
       "2"
      ]
     },
     "execution_count": 30,
     "metadata": {
      "tags": []
     },
     "output_type": "execute_result"
    }
   ],
   "source": [
    "students_data = {1:['Sam', 15] , 2:['Rob',18], 3:['Kyle', 16], 4:['Cornor',19], 5:['Trump',20]}\n",
    "\n",
    "len(list(filter(lambda x : x[1] > 18, students_data.values())))"
   ]
  },
  {
   "cell_type": "markdown",
   "metadata": {
    "colab_type": "text",
    "id": "Bg9TKPmO3iz7"
   },
   "source": [
    "#### Reduce to return product of elements"
   ]
  },
  {
   "cell_type": "code",
   "execution_count": null,
   "metadata": {
    "colab": {},
    "colab_type": "code",
    "id": "UWwryD4z3iz-"
   },
   "outputs": [],
   "source": [
    "from functools import reduce\n",
    "\n",
    "q  = reduce(lambda x, y: x*y, range(1,4))\n",
    "\n",
    "print(q)"
   ]
  }
 ],
 "metadata": {
  "colab": {
   "collapsed_sections": [],
   "name": "Session 3.ipynb",
   "provenance": []
  },
  "kernelspec": {
   "display_name": "Python 3",
   "language": "python",
   "name": "python3"
  },
  "language_info": {
   "codemirror_mode": {
    "name": "ipython",
    "version": 3
   },
   "file_extension": ".py",
   "mimetype": "text/x-python",
   "name": "python",
   "nbconvert_exporter": "python",
   "pygments_lexer": "ipython3",
   "version": "3.11.9"
  }
 },
 "nbformat": 4,
 "nbformat_minor": 1
}
