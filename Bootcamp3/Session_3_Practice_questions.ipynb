{
  "nbformat": 4,
  "nbformat_minor": 0,
  "metadata": {
    "kernelspec": {
      "display_name": "Python 3",
      "language": "python",
      "name": "python3"
    },
    "language_info": {
      "codemirror_mode": {
        "name": "ipython",
        "version": 3
      },
      "file_extension": ".py",
      "mimetype": "text/x-python",
      "name": "python",
      "nbconvert_exporter": "python",
      "pygments_lexer": "ipython3",
      "version": "3.7.4"
    },
    "colab": {
      "name": "Session 3 Practice questions (2).ipynb",
      "provenance": [],
      "collapsed_sections": []
    }
  },
  "cells": [
    {
      "cell_type": "markdown",
      "metadata": {
        "id": "oHccLE5Adigd",
        "colab_type": "text"
      },
      "source": [
        "# Control Structures"
      ]
    },
    {
      "cell_type": "markdown",
      "metadata": {
        "id": "qp1r-3XTdigg",
        "colab_type": "text"
      },
      "source": [
        "### Question \n",
        "\n",
        "\n",
        "A word is said to belong to the red team if it has the letter r in it.\n",
        "Write an 'if' statement to check whether the given word belongs to the red team or not.\n"
      ]
    },
    {
      "cell_type": "code",
      "metadata": {
        "id": "dKtFKt-Rdigi",
        "colab_type": "code",
        "colab": {},
        "outputId": "be7c23b4-de2f-46dd-c04b-57eefb207b3c"
      },
      "source": [
        "# write code here\n"
      ],
      "execution_count": null,
      "outputs": [
        {
          "output_type": "stream",
          "text": [
            "Enter a word in small caps real\n",
            "The word belongs to red team\n"
          ],
          "name": "stdout"
        }
      ]
    },
    {
      "cell_type": "markdown",
      "metadata": {
        "id": "IWcRXMZRdigp",
        "colab_type": "text"
      },
      "source": [
        "### Question \n",
        "\n",
        "In continuation to previous example, if the word has the letter 'b', it belongs to the blue team. And if the word has both 'r' and 'b' then first letter gets a precedence. And if the word does not have the letter 'r' or 'b', it does not belong to any team. \n",
        "######Example: (word,output)                \n",
        "*   rabbit = red team\n",
        "*   brand =  blue team\n",
        "*   dog   =  no team\n",
        "\n",
        "\n",
        "Write a condition for this decision. \n"
      ]
    },
    {
      "cell_type": "code",
      "metadata": {
        "id": "YsuN3HUcdigr",
        "colab_type": "code",
        "colab": {},
        "outputId": "6489f091-cf54-4c3c-ab4d-4f961356860e"
      },
      "source": [
        "# write code here \n",
        "\n",
        "# you might want to consider if statement inside a for loop"
      ],
      "execution_count": null,
      "outputs": [
        {
          "output_type": "stream",
          "text": [
            "Enter a word in small caps break\n",
            "The word belongs to blue team\n"
          ],
          "name": "stdout"
        }
      ]
    },
    {
      "cell_type": "markdown",
      "metadata": {
        "id": "H6pFkWTjdig0",
        "colab_type": "text"
      },
      "source": [
        "### Question \n",
        "\n",
        "Write a program to print all the numbers which are divisible by 17 between 1 and a given number 'n'. "
      ]
    },
    {
      "cell_type": "code",
      "metadata": {
        "id": "Fs4AaO-wdig1",
        "colab_type": "code",
        "colab": {},
        "outputId": "8c008e24-75d6-41a2-988e-771fb0d84ec4"
      },
      "source": [
        ""
      ],
      "execution_count": null,
      "outputs": [
        {
          "output_type": "stream",
          "text": [
            "Enter the upper limit 100\n",
            "17\n",
            "34\n",
            "51\n",
            "68\n",
            "85\n"
          ],
          "name": "stdout"
        }
      ]
    },
    {
      "cell_type": "markdown",
      "metadata": {
        "id": "0YmgmJr0dig7",
        "colab_type": "text"
      },
      "source": [
        "### Question\n",
        "\n",
        "Write a program to add 13 to all the elements of a given numeric list. \n",
        "######Example - \n",
        "* Input list = [1,5,27] \n",
        "* Output list = [14,18,40]"
      ]
    },
    {
      "cell_type": "code",
      "metadata": {
        "id": "Sc9YRB7gdig8",
        "colab_type": "code",
        "colab": {},
        "outputId": "eddb0ff1-5134-4c9e-b07c-0f1e75a312e9"
      },
      "source": [
        "sample_list = [6, 98, 34, 45, 64, 7, 2, 5, 78, 90, 324, 111, 657, 438]\n",
        "\n",
        "# Write solution code here\n"
      ],
      "execution_count": null,
      "outputs": [
        {
          "output_type": "stream",
          "text": [
            "[19, 111, 47, 58, 77, 20, 15, 18, 91, 103, 337, 124, 670, 451]\n"
          ],
          "name": "stdout"
        }
      ]
    },
    {
      "cell_type": "markdown",
      "metadata": {
        "id": "Ab9mZZGedihF",
        "colab_type": "text"
      },
      "source": [
        "### Question\n",
        "\n",
        "In continuation to the example above, execute the same operation on the same sample list using list comprihension."
      ]
    },
    {
      "cell_type": "code",
      "metadata": {
        "id": "DfkYlSQxdihG",
        "colab_type": "code",
        "colab": {},
        "outputId": "7dc9cd8c-365e-4b8c-f9a2-59ea773784f9"
      },
      "source": [
        ""
      ],
      "execution_count": null,
      "outputs": [
        {
          "output_type": "execute_result",
          "data": {
            "text/plain": [
              "[19, 111, 47, 58, 77, 20, 15, 18, 91, 103, 337, 124, 670, 451]"
            ]
          },
          "metadata": {
            "tags": []
          },
          "execution_count": 5
        }
      ]
    },
    {
      "cell_type": "markdown",
      "metadata": {
        "id": "3Y8sulULdihN",
        "colab_type": "text"
      },
      "source": [
        "### Question \n",
        "This question has two tasks:\n",
        "* Task 1 - Find the factors of all the numbers in a given list. \n",
        "* Task 2 - Add the numbers and their factors to a dictionary where the key will be the numbers from the list, and the values will be the factors of the respective number. \n",
        "\n",
        "Example - \n",
        "##### Sample output :\n",
        "#####{6: [1, 2, 3, 6],\n",
        "98: [1, 2, 7, 14, 49, 98],\n",
        "##### 34: [1, 2, 17, 34],}"
      ]
    },
    {
      "cell_type": "code",
      "metadata": {
        "id": "HYZcnkcMdihO",
        "colab_type": "code",
        "colab": {},
        "outputId": "d6705fc6-88c0-4c44-d710-f6b28a109ddf"
      },
      "source": [
        "sample_list = [6, 98, 34, 45, 64, 7, 2, 5, 78, 90, 324, 111, 657, 438]\n",
        "\n",
        "# write code here \n"
      ],
      "execution_count": null,
      "outputs": [
        {
          "output_type": "execute_result",
          "data": {
            "text/plain": [
              "{6: [1, 2, 3, 6],\n",
              " 98: [1, 2, 7, 14, 49, 98],\n",
              " 34: [1, 2, 17, 34],\n",
              " 45: [1, 3, 5, 9, 15, 45],\n",
              " 64: [1, 2, 4, 8, 16, 32, 64],\n",
              " 7: [1, 7],\n",
              " 2: [1, 2],\n",
              " 5: [1, 5],\n",
              " 78: [1, 2, 3, 6, 13, 26, 39, 78],\n",
              " 90: [1, 2, 3, 5, 6, 9, 10, 15, 18, 30, 45, 90],\n",
              " 324: [1, 2, 3, 4, 6, 9, 12, 18, 27, 36, 54, 81, 108, 162, 324],\n",
              " 111: [1, 3, 37, 111],\n",
              " 657: [1, 3, 9, 73, 219, 657],\n",
              " 438: [1, 2, 3, 6, 73, 146, 219, 438]}"
            ]
          },
          "metadata": {
            "tags": []
          },
          "execution_count": 6
        }
      ]
    },
    {
      "cell_type": "markdown",
      "metadata": {
        "id": "a4ii6VRodihT",
        "colab_type": "text"
      },
      "source": [
        "### Question \n",
        "\n",
        "Count the total number of unique characters in a given sentence. \n",
        "#####Example - \n",
        "* Input - 'total'\n",
        "* Output  - 'o', 'a', 'l'"
      ]
    },
    {
      "cell_type": "code",
      "metadata": {
        "id": "LZP7Dis7dihU",
        "colab_type": "code",
        "colab": {},
        "outputId": "0f2a2a63-b4ad-402c-cd9f-96b3322031fb"
      },
      "source": [
        "sample_sentence = \"Pack my box with five dozen liquor jugs\"\n",
        " \n",
        "# write code here \n",
        " \n"
      ],
      "execution_count": null,
      "outputs": [
        {
          "output_type": "stream",
          "text": [
            "{'c', 'n', 'e', 'x', 'i', 'k', 'u', 'l', 'h', 'd', 'q', 't', 'b', ' ', 'y', 'f', 'o', 's', 'r', 'g', 'm', 'P', 'v', 'w', 'a', 'j', 'z'}\n"
          ],
          "name": "stdout"
        },
        {
          "output_type": "execute_result",
          "data": {
            "text/plain": [
              "27"
            ]
          },
          "metadata": {
            "tags": []
          },
          "execution_count": 7
        }
      ]
    },
    {
      "cell_type": "markdown",
      "metadata": {
        "id": "yZcGvRkJdihY",
        "colab_type": "text"
      },
      "source": [
        "### Question \n",
        "\n",
        "Write a calculator application using functions, which will ask for the users input such as - arithmetic operation, number1, number 2, and return the output post applying the arithmetic operator\n",
        "\n",
        "#####Example - \n",
        "\n",
        "\n",
        "```\n",
        "def calc(operation, x,y):\n",
        "    if operation == \"add\":\n",
        "        return x+y\n",
        "```\n",
        "\n"
      ]
    },
    {
      "cell_type": "code",
      "metadata": {
        "id": "-z3qD-7odihY",
        "colab_type": "code",
        "colab": {}
      },
      "source": [
        "# use functions to write this code\n"
      ],
      "execution_count": null,
      "outputs": []
    },
    {
      "cell_type": "markdown",
      "metadata": {
        "id": "mbmuzRQxdihc",
        "colab_type": "text"
      },
      "source": [
        "### Question \n",
        "\n",
        "Write a code to ask the user to input three numbers and then print the largest one among the three. "
      ]
    },
    {
      "cell_type": "code",
      "metadata": {
        "id": "7zsJv1_-dihd",
        "colab_type": "code",
        "colab": {},
        "outputId": "5e677bf1-6cb2-4394-ceff-c2017c2814b5"
      },
      "source": [
        "# You might want to use nested if statements \n"
      ],
      "execution_count": null,
      "outputs": [
        {
          "output_type": "stream",
          "text": [
            "Enter three numbers :54 25 65\n",
            "54 25 65\n",
            "The largest number is  65\n"
          ],
          "name": "stdout"
        }
      ]
    },
    {
      "cell_type": "markdown",
      "metadata": {
        "id": "I5v7ARWPdihi",
        "colab_type": "text"
      },
      "source": [
        "### Question\n",
        "\n",
        "Check whether a number is perfect or not. \n",
        "\n",
        "A perfect number is a number that is sum of all of its positive divisors (excluding itself).\n",
        "For more info refer to this link - https://www.geeksforgeeks.org/perfect-number/"
      ]
    },
    {
      "cell_type": "code",
      "metadata": {
        "id": "L3CXSHwPdihj",
        "colab_type": "code",
        "colab": {},
        "outputId": "088bbad4-9ee4-42d2-f12e-c73d79a26f00"
      },
      "source": [
        ""
      ],
      "execution_count": null,
      "outputs": [
        {
          "output_type": "stream",
          "text": [
            "Enter the number you want to check: 28\n",
            "The number is a perfect number\n"
          ],
          "name": "stdout"
        }
      ]
    },
    {
      "cell_type": "markdown",
      "metadata": {
        "id": "Wa6HOu8Adihr",
        "colab_type": "text"
      },
      "source": [
        "### Question \n",
        "\n",
        "Add the elements in the two given lists using map and lambda functions"
      ]
    },
    {
      "cell_type": "code",
      "metadata": {
        "id": "bJMyQdIwdihs",
        "colab_type": "code",
        "colab": {}
      },
      "source": [
        "list1 = [5, 8, 9, 12]\n",
        "list2 = [10, 12, 8, 6]\n",
        "\n",
        "# write code here \n"
      ],
      "execution_count": 1,
      "outputs": []
    },
    {
      "cell_type": "markdown",
      "metadata": {
        "id": "u1POTJjedihw",
        "colab_type": "text"
      },
      "source": [
        "### Question \n",
        "\n",
        "Write a code to find the factorial of a number using reduce function. \n",
        "#####Example -\n",
        " 5!= 5 * 4 * 3 * 2 * 1=120."
      ]
    },
    {
      "cell_type": "code",
      "metadata": {
        "id": "BKxpeFbFdihx",
        "colab_type": "code",
        "colab": {},
        "outputId": "f3a39752-aa16-4904-f5b4-d82c5950fed3"
      },
      "source": [
        ""
      ],
      "execution_count": null,
      "outputs": [
        {
          "output_type": "stream",
          "text": [
            "Enter a natural number 5\n"
          ],
          "name": "stdout"
        },
        {
          "output_type": "execute_result",
          "data": {
            "text/plain": [
              "120"
            ]
          },
          "metadata": {
            "tags": []
          },
          "execution_count": 12
        }
      ]
    }
  ]
}